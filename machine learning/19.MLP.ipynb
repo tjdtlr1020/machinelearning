{
 "cells": [
  {
   "cell_type": "code",
   "execution_count": 1,
   "metadata": {},
   "outputs": [],
   "source": [
    "from sklearn.model_selection import train_test_split, GridSearchCV\n",
    "from sklearn.model_selection import validation_curve\n",
    "from sklearn.pipeline import make_pipeline\n",
    "from sklearn.preprocessing import StandardScaler\n",
    "from sklearn.metrics import confusion_matrix\n",
    "import sklearn.metrics as metrics\n",
    "from sklearn.ensemble import BaggingClassifier, RandomForestClassifier, AdaBoostClassifier\n",
    "from sklearn.ensemble import VotingClassifier\n",
    "from sklearn.neural_network import MLPClassifier\n",
    "\n",
    "import numpy as np\n",
    "import pandas as pd\n",
    "\n",
    "import seaborn as sns\n",
    "import matplotlib.pyplot as plt\n",
    "import matplotlib\n",
    "matplotlib.rcParams[\"font.family\"]=\"Malgun Gothic\"\n",
    "matplotlib.rcParams[\"axes.unicode_minus\"]= False\n",
    "\n",
    "import warnings\n",
    "warnings.simplefilter('ignore')\n"
   ]
  },
  {
   "cell_type": "code",
   "execution_count": 2,
   "metadata": {},
   "outputs": [
    {
     "data": {
      "text/html": [
       "<div>\n",
       "<style scoped>\n",
       "    .dataframe tbody tr th:only-of-type {\n",
       "        vertical-align: middle;\n",
       "    }\n",
       "\n",
       "    .dataframe tbody tr th {\n",
       "        vertical-align: top;\n",
       "    }\n",
       "\n",
       "    .dataframe thead th {\n",
       "        text-align: right;\n",
       "    }\n",
       "</style>\n",
       "<table border=\"1\" class=\"dataframe\">\n",
       "  <thead>\n",
       "    <tr style=\"text-align: right;\">\n",
       "      <th></th>\n",
       "      <th>Pregnancies</th>\n",
       "      <th>Glucose</th>\n",
       "      <th>BloodPressure</th>\n",
       "      <th>SkinThickness</th>\n",
       "      <th>Insulin</th>\n",
       "      <th>BMI</th>\n",
       "      <th>DiabetesPedigreeFunction</th>\n",
       "      <th>Age</th>\n",
       "      <th>Outcome</th>\n",
       "    </tr>\n",
       "  </thead>\n",
       "  <tbody>\n",
       "    <tr>\n",
       "      <th>0</th>\n",
       "      <td>6</td>\n",
       "      <td>148</td>\n",
       "      <td>72</td>\n",
       "      <td>35</td>\n",
       "      <td>0</td>\n",
       "      <td>33.6</td>\n",
       "      <td>0.627</td>\n",
       "      <td>50</td>\n",
       "      <td>1</td>\n",
       "    </tr>\n",
       "    <tr>\n",
       "      <th>1</th>\n",
       "      <td>1</td>\n",
       "      <td>85</td>\n",
       "      <td>66</td>\n",
       "      <td>29</td>\n",
       "      <td>0</td>\n",
       "      <td>26.6</td>\n",
       "      <td>0.351</td>\n",
       "      <td>31</td>\n",
       "      <td>0</td>\n",
       "    </tr>\n",
       "    <tr>\n",
       "      <th>2</th>\n",
       "      <td>8</td>\n",
       "      <td>183</td>\n",
       "      <td>64</td>\n",
       "      <td>0</td>\n",
       "      <td>0</td>\n",
       "      <td>23.3</td>\n",
       "      <td>0.672</td>\n",
       "      <td>32</td>\n",
       "      <td>1</td>\n",
       "    </tr>\n",
       "  </tbody>\n",
       "</table>\n",
       "</div>"
      ],
      "text/plain": [
       "   Pregnancies  Glucose  BloodPressure  SkinThickness  Insulin   BMI  \\\n",
       "0            6      148             72             35        0  33.6   \n",
       "1            1       85             66             29        0  26.6   \n",
       "2            8      183             64              0        0  23.3   \n",
       "\n",
       "   DiabetesPedigreeFunction  Age  Outcome  \n",
       "0                     0.627   50        1  \n",
       "1                     0.351   31        0  \n",
       "2                     0.672   32        1  "
      ]
     },
     "execution_count": 2,
     "metadata": {},
     "output_type": "execute_result"
    }
   ],
   "source": [
    "df = pd.read_csv('../data5/pima-indians-diabetes.data.csv')\n",
    "df.head(3)"
   ]
  },
  {
   "cell_type": "code",
   "execution_count": 4,
   "metadata": {},
   "outputs": [],
   "source": [
    "x_data = df.iloc[:,:-1]\n",
    "y_data = df.iloc[:,-1]"
   ]
  },
  {
   "cell_type": "code",
   "execution_count": 5,
   "metadata": {},
   "outputs": [],
   "source": [
    "x_train, x_test, y_train, y_test = train_test_split(x_data,\n",
    "                                                    y_data,\n",
    "                                                    test_size = 0.2,\n",
    "                                                    stratify = y_data\n",
    "                                                   )"
   ]
  },
  {
   "cell_type": "code",
   "execution_count": 16,
   "metadata": {},
   "outputs": [
    {
     "data": {
      "text/plain": [
       "Pipeline(memory=None,\n",
       "         steps=[('standardscaler',\n",
       "                 StandardScaler(copy=True, with_mean=True, with_std=True)),\n",
       "                ('mlpclassifier',\n",
       "                 MLPClassifier(activation='relu', alpha=0.0001,\n",
       "                               batch_size='auto', beta_1=0.9, beta_2=0.999,\n",
       "                               early_stopping=True, epsilon=1e-08,\n",
       "                               hidden_layer_sizes=(100,),\n",
       "                               learning_rate='constant',\n",
       "                               learning_rate_init=0.001, max_fun=15000,\n",
       "                               max_iter=200, momentum=0.9, n_iter_no_change=10,\n",
       "                               nesterovs_momentum=True, power_t=0.5,\n",
       "                               random_state=None, shuffle=True, solver='adam',\n",
       "                               tol=0.0001, validation_fraction=0.1,\n",
       "                               verbose=False, warm_start=False))],\n",
       "         verbose=False)"
      ]
     },
     "execution_count": 16,
     "metadata": {},
     "output_type": "execute_result"
    }
   ],
   "source": [
    "# validation_fraction = 0.1 -> 10프로를 검정 셋으로 사용\n",
    "m_pip = make_pipeline( StandardScaler() , MLPClassifier( early_stopping = True))\n",
    "m_pip.fit(x_train, y_train)"
   ]
  },
  {
   "cell_type": "code",
   "execution_count": 6,
   "metadata": {
    "collapsed": true
   },
   "outputs": [
    {
     "name": "stdout",
     "output_type": "stream",
     "text": [
      "Iteration 1, loss = inf\n",
      "Validation score: 0.403226\n",
      "Iteration 2, loss = inf\n",
      "Validation score: 0.500000\n",
      "Iteration 3, loss = inf\n",
      "Validation score: 0.612903\n",
      "Iteration 4, loss = 2.40229366\n",
      "Validation score: 0.645161\n",
      "Iteration 5, loss = 3.16003713\n",
      "Validation score: 0.645161\n",
      "Iteration 6, loss = 2.58229258\n",
      "Validation score: 0.645161\n",
      "Iteration 7, loss = 1.44468172\n",
      "Validation score: 0.596774\n",
      "Iteration 8, loss = 1.32411832\n",
      "Validation score: 0.483871\n",
      "Iteration 9, loss = 1.60196154\n",
      "Validation score: 0.483871\n",
      "Iteration 10, loss = 1.19456058\n",
      "Validation score: 0.645161\n",
      "Iteration 11, loss = 0.92665728\n",
      "Validation score: 0.693548\n",
      "Iteration 12, loss = 1.15268287\n",
      "Validation score: 0.725806\n",
      "Iteration 13, loss = 1.02670518\n",
      "Validation score: 0.612903\n",
      "Iteration 14, loss = 0.83284349\n",
      "Validation score: 0.612903\n",
      "Iteration 15, loss = 0.91195044\n",
      "Validation score: 0.596774\n",
      "Iteration 16, loss = 0.83574660\n",
      "Validation score: 0.629032\n",
      "Iteration 17, loss = 0.77190520\n",
      "Validation score: 0.645161\n",
      "Iteration 18, loss = 0.78033634\n",
      "Validation score: 0.612903\n",
      "Iteration 19, loss = 0.72356281\n",
      "Validation score: 0.596774\n",
      "Iteration 20, loss = 0.71713823\n",
      "Validation score: 0.596774\n",
      "Iteration 21, loss = 0.70033792\n",
      "Validation score: 0.612903\n",
      "Iteration 22, loss = 0.68622539\n",
      "Validation score: 0.645161\n",
      "Iteration 23, loss = 0.66878757\n",
      "Validation score: 0.580645\n",
      "Validation score did not improve more than tol=0.000100 for 10 consecutive epochs. Stopping.\n"
     ]
    },
    {
     "data": {
      "text/plain": [
       "MLPClassifier(activation='relu', alpha=0.0001, batch_size='auto', beta_1=0.9,\n",
       "              beta_2=0.999, early_stopping=True, epsilon=1e-08,\n",
       "              hidden_layer_sizes=(100,), learning_rate='constant',\n",
       "              learning_rate_init=0.001, max_fun=15000, max_iter=200,\n",
       "              momentum=0.9, n_iter_no_change=10, nesterovs_momentum=True,\n",
       "              power_t=0.5, random_state=None, shuffle=True, solver='adam',\n",
       "              tol=0.0001, validation_fraction=0.1, verbose=1, warm_start=False)"
      ]
     },
     "execution_count": 6,
     "metadata": {},
     "output_type": "execute_result"
    }
   ],
   "source": [
    "m_mlp = MLPClassifier(early_stopping = True, verbose = 1 )\n",
    "m_mlp.fit(x_train, y_train)"
   ]
  },
  {
   "cell_type": "code",
   "execution_count": 18,
   "metadata": {
    "collapsed": true
   },
   "outputs": [
    {
     "data": {
      "text/plain": [
       "[0.7935902610618216,\n",
       " 0.766640811673919,\n",
       " 0.7416983179170072,\n",
       " 0.7184591599833955,\n",
       " 0.6978622034353531,\n",
       " 0.6780873625062983,\n",
       " 0.6608160478654421,\n",
       " 0.64443572424213,\n",
       " 0.6293507372221775,\n",
       " 0.6161465514762035,\n",
       " 0.6039030013593557,\n",
       " 0.5928247140854545,\n",
       " 0.5821418834544407,\n",
       " 0.5728930055290476,\n",
       " 0.564126539512398,\n",
       " 0.5562937853059357,\n",
       " 0.5490091226723782,\n",
       " 0.5423106343533916,\n",
       " 0.5361486620898012,\n",
       " 0.5305681488140938,\n",
       " 0.5251318739839209,\n",
       " 0.5202113402638112,\n",
       " 0.5156007502496273,\n",
       " 0.5115224957201183,\n",
       " 0.5076360465817569,\n",
       " 0.5037793650651954,\n",
       " 0.5004416486424429]"
      ]
     },
     "execution_count": 18,
     "metadata": {},
     "output_type": "execute_result"
    }
   ],
   "source": [
    "m_pip.named_steps['mlpclassifier'].loss_curve_"
   ]
  },
  {
   "cell_type": "code",
   "execution_count": 17,
   "metadata": {
    "collapsed": true
   },
   "outputs": [
    {
     "data": {
      "text/plain": [
       "[0.3064516129032258,\n",
       " 0.3548387096774194,\n",
       " 0.45161290322580644,\n",
       " 0.5483870967741935,\n",
       " 0.6290322580645161,\n",
       " 0.6612903225806451,\n",
       " 0.7258064516129032,\n",
       " 0.7258064516129032,\n",
       " 0.7419354838709677,\n",
       " 0.7741935483870968,\n",
       " 0.7741935483870968,\n",
       " 0.7580645161290323,\n",
       " 0.7741935483870968,\n",
       " 0.7741935483870968,\n",
       " 0.7741935483870968,\n",
       " 0.7903225806451613,\n",
       " 0.7903225806451613,\n",
       " 0.7741935483870968,\n",
       " 0.7741935483870968,\n",
       " 0.7741935483870968,\n",
       " 0.7741935483870968,\n",
       " 0.7741935483870968,\n",
       " 0.7741935483870968,\n",
       " 0.7741935483870968,\n",
       " 0.7741935483870968,\n",
       " 0.7903225806451613,\n",
       " 0.7903225806451613]"
      ]
     },
     "execution_count": 17,
     "metadata": {},
     "output_type": "execute_result"
    }
   ],
   "source": [
    "m_pip.named_steps['mlpclassifier'].validation_scores_"
   ]
  },
  {
   "cell_type": "code",
   "execution_count": 7,
   "metadata": {
    "collapsed": true
   },
   "outputs": [
    {
     "data": {
      "text/plain": [
       "[inf,\n",
       " inf,\n",
       " inf,\n",
       " 2.402293657985571,\n",
       " 3.160037132607294,\n",
       " 2.582292583406851,\n",
       " 1.4446817162897165,\n",
       " 1.324118323864915,\n",
       " 1.6019615395689075,\n",
       " 1.1945605824985273,\n",
       " 0.9266572825228913,\n",
       " 1.1526828728138836,\n",
       " 1.026705175456445,\n",
       " 0.8328434931730158,\n",
       " 0.9119504356427202,\n",
       " 0.8357465963847974,\n",
       " 0.7719051966790602,\n",
       " 0.7803363381336604,\n",
       " 0.7235628091516729,\n",
       " 0.7171382293750538,\n",
       " 0.7003379180359993,\n",
       " 0.6862253895089054,\n",
       " 0.6687875732782054]"
      ]
     },
     "execution_count": 7,
     "metadata": {},
     "output_type": "execute_result"
    }
   ],
   "source": [
    "# 학습간 cost 값\n",
    "m_mlp.loss_curve_"
   ]
  },
  {
   "cell_type": "code",
   "execution_count": 9,
   "metadata": {
    "collapsed": true
   },
   "outputs": [
    {
     "data": {
      "text/plain": [
       "[0.4032258064516129,\n",
       " 0.5,\n",
       " 0.6129032258064516,\n",
       " 0.6451612903225806,\n",
       " 0.6451612903225806,\n",
       " 0.6451612903225806,\n",
       " 0.5967741935483871,\n",
       " 0.4838709677419355,\n",
       " 0.4838709677419355,\n",
       " 0.6451612903225806,\n",
       " 0.6935483870967742,\n",
       " 0.7258064516129032,\n",
       " 0.6129032258064516,\n",
       " 0.6129032258064516,\n",
       " 0.5967741935483871,\n",
       " 0.6290322580645161,\n",
       " 0.6451612903225806,\n",
       " 0.6129032258064516,\n",
       " 0.5967741935483871,\n",
       " 0.5967741935483871,\n",
       " 0.6129032258064516,\n",
       " 0.6451612903225806,\n",
       " 0.5806451612903226]"
      ]
     },
     "execution_count": 9,
     "metadata": {},
     "output_type": "execute_result"
    }
   ],
   "source": [
    "# 검증셋의 점수\n",
    "m_mlp.validation_scores_"
   ]
  },
  {
   "cell_type": "code",
   "execution_count": 10,
   "metadata": {},
   "outputs": [
    {
     "data": {
      "image/png": "[encoded data removed]",
      "text/plain": [
       "<Figure size 432x288 with 1 Axes>"
      ]
     },
     "metadata": {
      "needs_background": "light"
     },
     "output_type": "display_data"
    }
   ],
   "source": [
    "plt.plot(m_mlp.loss_curve_)\n",
    "plt.plot(m_mlp.validation_scores_)\n",
    "plt.show()"
   ]
  },
  {
   "cell_type": "code",
   "execution_count": null,
   "metadata": {},
   "outputs": [],
   "source": []
  }
 ],
 "metadata": {
  "kernelspec": {
   "display_name": "Python 3",
   "language": "python",
   "name": "python3"
  },
  "language_info": {
   "codemirror_mode": {
    "name": "ipython",
    "version": 3
   },
   "file_extension": ".py",
   "mimetype": "text/x-python",
   "name": "python",
   "nbconvert_exporter": "python",
   "pygments_lexer": "ipython3",
   "version": "3.7.6"
  }
 },
 "nbformat": 4,
 "nbformat_minor": 4
}
