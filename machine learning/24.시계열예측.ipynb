{
 "cells": [
  {
   "cell_type": "markdown",
   "metadata": {},
   "source": [
    "### auto correration function(자기 상관 그래프)\n",
    "\n",
    "$$ \n",
    "\\begin{align}\n",
    "autocovariance function:  C_{h} = \\dfrac{1}{N}\\sum_{t=1}^{N-h} (Y_{t} - \\bar{Y} )(Y_{t+h} - \\bar{Y} ) \n",
    "\\tag{1}\n",
    "\\end{align}\n",
    "$$\n",
    "\n",
    "$$ \n",
    "\\begin{align}\n",
    "variance function:  C_{0} = \\dfrac{1}{N}\\sum_{t=1}^{N} (Y_{t} - \\bar{Y} )^2 \n",
    "\\tag{2}\n",
    "\\end{align}\n",
    "$$\n",
    "\n",
    "$$ \n",
    "\\begin{align}\n",
    "autocorrelation coefficient:  R_{h} = \\dfrac{Autocovariance}{Variance} = \\dfrac{ C_{h} }{C_{0} }\n",
    "\\tag{3}\n",
    "\\end{align}\n",
    "$$\n",
    "\n",
    "AR,MA를 지정한뒤 ACF와 PACF의 그래프를 그려보면 ARMA모형의 적합성을 판단할 수 있다.\n",
    "모델 적합성의 가장 큰 증거는 ACF가 점차 감소하는 모습을 띄는 것이다."
   ]
  },
  {
   "cell_type": "code",
   "execution_count": null,
   "metadata": {},
   "outputs": [],
   "source": []
  },
  {
   "cell_type": "code",
   "execution_count": 1,
   "metadata": {},
   "outputs": [],
   "source": [
    "from statsmodels.tsa.ar_model import AR\n",
    "from statsmodels.tsa.arima_model import ARIMA\n",
    "\n",
    "from statsmodels.tsa.stattools import adfuller\n",
    "import pandas as pd\n",
    "import matplotlib.pyplot as plt\n",
    "import numpy as np\n",
    "from warnings import filterwarnings\n",
    "filterwarnings(\"ignore\")"
   ]
  },
  {
   "cell_type": "code",
   "execution_count": 62,
   "metadata": {
    "collapsed": true
   },
   "outputs": [
    {
     "data": {
      "text/html": [
       "<div>\n",
       "<style scoped>\n",
       "    .dataframe tbody tr th:only-of-type {\n",
       "        vertical-align: middle;\n",
       "    }\n",
       "\n",
       "    .dataframe tbody tr th {\n",
       "        vertical-align: top;\n",
       "    }\n",
       "\n",
       "    .dataframe thead th {\n",
       "        text-align: right;\n",
       "    }\n",
       "</style>\n",
       "<table border=\"1\" class=\"dataframe\">\n",
       "  <thead>\n",
       "    <tr style=\"text-align: right;\">\n",
       "      <th></th>\n",
       "      <th>Births</th>\n",
       "    </tr>\n",
       "    <tr>\n",
       "      <th>Date</th>\n",
       "      <th></th>\n",
       "    </tr>\n",
       "  </thead>\n",
       "  <tbody>\n",
       "    <tr>\n",
       "      <th>1959-01-01</th>\n",
       "      <td>35</td>\n",
       "    </tr>\n",
       "    <tr>\n",
       "      <th>1959-01-02</th>\n",
       "      <td>32</td>\n",
       "    </tr>\n",
       "    <tr>\n",
       "      <th>1959-01-03</th>\n",
       "      <td>30</td>\n",
       "    </tr>\n",
       "    <tr>\n",
       "      <th>1959-01-04</th>\n",
       "      <td>31</td>\n",
       "    </tr>\n",
       "    <tr>\n",
       "      <th>1959-01-05</th>\n",
       "      <td>44</td>\n",
       "    </tr>\n",
       "    <tr>\n",
       "      <th>...</th>\n",
       "      <td>...</td>\n",
       "    </tr>\n",
       "    <tr>\n",
       "      <th>1959-12-27</th>\n",
       "      <td>37</td>\n",
       "    </tr>\n",
       "    <tr>\n",
       "      <th>1959-12-28</th>\n",
       "      <td>52</td>\n",
       "    </tr>\n",
       "    <tr>\n",
       "      <th>1959-12-29</th>\n",
       "      <td>48</td>\n",
       "    </tr>\n",
       "    <tr>\n",
       "      <th>1959-12-30</th>\n",
       "      <td>55</td>\n",
       "    </tr>\n",
       "    <tr>\n",
       "      <th>1959-12-31</th>\n",
       "      <td>50</td>\n",
       "    </tr>\n",
       "  </tbody>\n",
       "</table>\n",
       "<p>365 rows × 1 columns</p>\n",
       "</div>"
      ],
      "text/plain": [
       "            Births\n",
       "Date              \n",
       "1959-01-01      35\n",
       "1959-01-02      32\n",
       "1959-01-03      30\n",
       "1959-01-04      31\n",
       "1959-01-05      44\n",
       "...            ...\n",
       "1959-12-27      37\n",
       "1959-12-28      52\n",
       "1959-12-29      48\n",
       "1959-12-30      55\n",
       "1959-12-31      50\n",
       "\n",
       "[365 rows x 1 columns]"
      ]
     },
     "execution_count": 62,
     "metadata": {},
     "output_type": "execute_result"
    }
   ],
   "source": [
    "birthDF = pd.read_csv('data5/daily-total-female-births.txt',\n",
    "                parse_dates=['Date'], index_col='Date')\n",
    "birthDF"
   ]
  },
  {
   "cell_type": "code",
   "execution_count": 10,
   "metadata": {
    "collapsed": true
   },
   "outputs": [
    {
     "data": {
      "text/html": [
       "<div>\n",
       "<style scoped>\n",
       "    .dataframe tbody tr th:only-of-type {\n",
       "        vertical-align: middle;\n",
       "    }\n",
       "\n",
       "    .dataframe tbody tr th {\n",
       "        vertical-align: top;\n",
       "    }\n",
       "\n",
       "    .dataframe thead th {\n",
       "        text-align: right;\n",
       "    }\n",
       "</style>\n",
       "<table border=\"1\" class=\"dataframe\">\n",
       "  <thead>\n",
       "    <tr style=\"text-align: right;\">\n",
       "      <th></th>\n",
       "      <th>passengers</th>\n",
       "    </tr>\n",
       "    <tr>\n",
       "      <th>time</th>\n",
       "      <th></th>\n",
       "    </tr>\n",
       "  </thead>\n",
       "  <tbody>\n",
       "    <tr>\n",
       "      <th>1949-01-01</th>\n",
       "      <td>112</td>\n",
       "    </tr>\n",
       "    <tr>\n",
       "      <th>1949-02-01</th>\n",
       "      <td>118</td>\n",
       "    </tr>\n",
       "    <tr>\n",
       "      <th>1949-03-01</th>\n",
       "      <td>132</td>\n",
       "    </tr>\n",
       "    <tr>\n",
       "      <th>1949-04-01</th>\n",
       "      <td>129</td>\n",
       "    </tr>\n",
       "    <tr>\n",
       "      <th>1949-05-01</th>\n",
       "      <td>121</td>\n",
       "    </tr>\n",
       "    <tr>\n",
       "      <th>...</th>\n",
       "      <td>...</td>\n",
       "    </tr>\n",
       "    <tr>\n",
       "      <th>1960-08-01</th>\n",
       "      <td>606</td>\n",
       "    </tr>\n",
       "    <tr>\n",
       "      <th>1960-09-01</th>\n",
       "      <td>508</td>\n",
       "    </tr>\n",
       "    <tr>\n",
       "      <th>1960-10-01</th>\n",
       "      <td>461</td>\n",
       "    </tr>\n",
       "    <tr>\n",
       "      <th>1960-11-01</th>\n",
       "      <td>390</td>\n",
       "    </tr>\n",
       "    <tr>\n",
       "      <th>1960-12-01</th>\n",
       "      <td>432</td>\n",
       "    </tr>\n",
       "  </tbody>\n",
       "</table>\n",
       "<p>144 rows × 1 columns</p>\n",
       "</div>"
      ],
      "text/plain": [
       "            passengers\n",
       "time                  \n",
       "1949-01-01         112\n",
       "1949-02-01         118\n",
       "1949-03-01         132\n",
       "1949-04-01         129\n",
       "1949-05-01         121\n",
       "...                ...\n",
       "1960-08-01         606\n",
       "1960-09-01         508\n",
       "1960-10-01         461\n",
       "1960-11-01         390\n",
       "1960-12-01         432\n",
       "\n",
       "[144 rows x 1 columns]"
      ]
     },
     "execution_count": 10,
     "metadata": {},
     "output_type": "execute_result"
    }
   ],
   "source": [
    "airDF = pd.read_csv('data5/international-airline-passengers.txt',\n",
    "                   parse_dates=['time'], index_col='time')\n",
    "airDF"
   ]
  },
  {
   "cell_type": "code",
   "execution_count": 14,
   "metadata": {
    "collapsed": true
   },
   "outputs": [
    {
     "data": {
      "text/html": [
       "<div>\n",
       "<style scoped>\n",
       "    .dataframe tbody tr th:only-of-type {\n",
       "        vertical-align: middle;\n",
       "    }\n",
       "\n",
       "    .dataframe tbody tr th {\n",
       "        vertical-align: top;\n",
       "    }\n",
       "\n",
       "    .dataframe thead th {\n",
       "        text-align: right;\n",
       "    }\n",
       "</style>\n",
       "<table border=\"1\" class=\"dataframe\">\n",
       "  <thead>\n",
       "    <tr style=\"text-align: right;\">\n",
       "      <th></th>\n",
       "      <th>Temp</th>\n",
       "    </tr>\n",
       "    <tr>\n",
       "      <th>Date</th>\n",
       "      <th></th>\n",
       "    </tr>\n",
       "  </thead>\n",
       "  <tbody>\n",
       "    <tr>\n",
       "      <th>1981-01-01</th>\n",
       "      <td>20.7</td>\n",
       "    </tr>\n",
       "    <tr>\n",
       "      <th>1981-01-02</th>\n",
       "      <td>17.9</td>\n",
       "    </tr>\n",
       "    <tr>\n",
       "      <th>1981-01-03</th>\n",
       "      <td>18.8</td>\n",
       "    </tr>\n",
       "    <tr>\n",
       "      <th>1981-01-04</th>\n",
       "      <td>14.6</td>\n",
       "    </tr>\n",
       "    <tr>\n",
       "      <th>1981-01-05</th>\n",
       "      <td>15.8</td>\n",
       "    </tr>\n",
       "    <tr>\n",
       "      <th>...</th>\n",
       "      <td>...</td>\n",
       "    </tr>\n",
       "    <tr>\n",
       "      <th>1990-12-27</th>\n",
       "      <td>14.0</td>\n",
       "    </tr>\n",
       "    <tr>\n",
       "      <th>1990-12-28</th>\n",
       "      <td>13.6</td>\n",
       "    </tr>\n",
       "    <tr>\n",
       "      <th>1990-12-29</th>\n",
       "      <td>13.5</td>\n",
       "    </tr>\n",
       "    <tr>\n",
       "      <th>1990-12-30</th>\n",
       "      <td>15.7</td>\n",
       "    </tr>\n",
       "    <tr>\n",
       "      <th>1990-12-31</th>\n",
       "      <td>13.0</td>\n",
       "    </tr>\n",
       "  </tbody>\n",
       "</table>\n",
       "<p>3650 rows × 1 columns</p>\n",
       "</div>"
      ],
      "text/plain": [
       "            Temp\n",
       "Date            \n",
       "1981-01-01  20.7\n",
       "1981-01-02  17.9\n",
       "1981-01-03  18.8\n",
       "1981-01-04  14.6\n",
       "1981-01-05  15.8\n",
       "...          ...\n",
       "1990-12-27  14.0\n",
       "1990-12-28  13.6\n",
       "1990-12-29  13.5\n",
       "1990-12-30  15.7\n",
       "1990-12-31  13.0\n",
       "\n",
       "[3650 rows x 1 columns]"
      ]
     },
     "execution_count": 14,
     "metadata": {},
     "output_type": "execute_result"
    }
   ],
   "source": [
    "tempDF = pd.read_csv('data5/daily-min-temperatures.csv',\n",
    "                    parse_dates=['Date'], index_col='Date')\n",
    "tempDF"
   ]
  },
  {
   "cell_type": "code",
   "execution_count": 15,
   "metadata": {
    "collapsed": true
   },
   "outputs": [
    {
     "data": {
      "image/png": "[encoded data removed]",
      "text/plain": [
       "<Figure size 432x288 with 1 Axes>"
      ]
     },
     "metadata": {
      "needs_background": "light"
     },
     "output_type": "display_data"
    }
   ],
   "source": [
    "birthDF.plot()\n",
    "plt.show()"
   ]
  },
  {
   "cell_type": "code",
   "execution_count": 16,
   "metadata": {
    "collapsed": true
   },
   "outputs": [
    {
     "data": {
      "image/png": "[encoded data removed]",
      "text/plain": [
       "<Figure size 432x288 with 1 Axes>"
      ]
     },
     "metadata": {
      "needs_background": "light"
     },
     "output_type": "display_data"
    }
   ],
   "source": [
    "airDF.plot()\n",
    "plt.show()"
   ]
  },
  {
   "cell_type": "code",
   "execution_count": 17,
   "metadata": {
    "collapsed": true
   },
   "outputs": [
    {
     "data": {
      "image/png": "[encoded data removed]",
      "text/plain": [
       "<Figure size 432x288 with 1 Axes>"
      ]
     },
     "metadata": {
      "needs_background": "light"
     },
     "output_type": "display_data"
    }
   ],
   "source": [
    "tempDF.plot()\n",
    "plt.show()"
   ]
  },
  {
   "cell_type": "markdown",
   "metadata": {},
   "source": [
    "## stationary"
   ]
  },
  {
   "cell_type": "code",
   "execution_count": 24,
   "metadata": {
    "collapsed": true
   },
   "outputs": [
    {
     "name": "stdout",
     "output_type": "stream",
     "text": [
      "Births    39.763736\n",
      "dtype: float64\n",
      "Births    44.185792\n",
      "dtype: float64\n",
      "Births    49.485308\n",
      "dtype: float64\n",
      "Births    48.976281\n",
      "dtype: float64\n"
     ]
    }
   ],
   "source": [
    "n = int( len( birthDF )/2 )\n",
    "print( birthDF.iloc[:n].mean() )\n",
    "print( birthDF.iloc[n:].mean() )\n",
    "print( birthDF.iloc[:n].var() )\n",
    "print( birthDF.iloc[n:].var() )"
   ]
  },
  {
   "cell_type": "markdown",
   "metadata": {},
   "source": [
    "## non- stationary"
   ]
  },
  {
   "cell_type": "code",
   "execution_count": 25,
   "metadata": {
    "collapsed": true
   },
   "outputs": [
    {
     "name": "stdout",
     "output_type": "stream",
     "text": [
      "passengers    182.902778\n",
      "dtype: float64\n",
      "passengers    377.694444\n",
      "dtype: float64\n",
      "passengers    2275.69464\n",
      "dtype: float64\n",
      "passengers    7471.736307\n",
      "dtype: float64\n"
     ]
    }
   ],
   "source": [
    "n = int( len( airDF )/2 )\n",
    "print( airDF.iloc[:n].mean() )\n",
    "print( airDF.iloc[n:].mean() )\n",
    "print( airDF.iloc[:n].var() )\n",
    "print( airDF.iloc[n:].var() )"
   ]
  },
  {
   "cell_type": "markdown",
   "metadata": {},
   "source": [
    "## stationary??"
   ]
  },
  {
   "cell_type": "code",
   "execution_count": 26,
   "metadata": {
    "collapsed": true
   },
   "outputs": [
    {
     "name": "stdout",
     "output_type": "stream",
     "text": [
      "Temp    11.043507\n",
      "dtype: float64\n",
      "Temp    11.312\n",
      "dtype: float64\n",
      "Temp    18.170782\n",
      "dtype: float64\n",
      "Temp    14.961956\n",
      "dtype: float64\n"
     ]
    }
   ],
   "source": [
    "n = int( len( tempDF )/2 )\n",
    "print( tempDF.iloc[:n].mean() )\n",
    "print( tempDF.iloc[n:].mean() )\n",
    "print( tempDF.iloc[:n].var() )\n",
    "print( tempDF.iloc[n:].var() )"
   ]
  },
  {
   "cell_type": "code",
   "execution_count": 28,
   "metadata": {
    "collapsed": true
   },
   "outputs": [
    {
     "data": {
      "text/html": [
       "<div>\n",
       "<style scoped>\n",
       "    .dataframe tbody tr th:only-of-type {\n",
       "        vertical-align: middle;\n",
       "    }\n",
       "\n",
       "    .dataframe tbody tr th {\n",
       "        vertical-align: top;\n",
       "    }\n",
       "\n",
       "    .dataframe thead th {\n",
       "        text-align: right;\n",
       "    }\n",
       "</style>\n",
       "<table border=\"1\" class=\"dataframe\">\n",
       "  <thead>\n",
       "    <tr style=\"text-align: right;\">\n",
       "      <th></th>\n",
       "      <th>Temp</th>\n",
       "      <th>days</th>\n",
       "    </tr>\n",
       "    <tr>\n",
       "      <th>Date</th>\n",
       "      <th></th>\n",
       "      <th></th>\n",
       "    </tr>\n",
       "  </thead>\n",
       "  <tbody>\n",
       "    <tr>\n",
       "      <th>1981-01-01</th>\n",
       "      <td>20.7</td>\n",
       "      <td>0</td>\n",
       "    </tr>\n",
       "    <tr>\n",
       "      <th>1981-01-02</th>\n",
       "      <td>17.9</td>\n",
       "      <td>1</td>\n",
       "    </tr>\n",
       "    <tr>\n",
       "      <th>1981-01-03</th>\n",
       "      <td>18.8</td>\n",
       "      <td>2</td>\n",
       "    </tr>\n",
       "    <tr>\n",
       "      <th>1981-01-04</th>\n",
       "      <td>14.6</td>\n",
       "      <td>3</td>\n",
       "    </tr>\n",
       "    <tr>\n",
       "      <th>1981-01-05</th>\n",
       "      <td>15.8</td>\n",
       "      <td>4</td>\n",
       "    </tr>\n",
       "    <tr>\n",
       "      <th>...</th>\n",
       "      <td>...</td>\n",
       "      <td>...</td>\n",
       "    </tr>\n",
       "    <tr>\n",
       "      <th>1990-12-27</th>\n",
       "      <td>14.0</td>\n",
       "      <td>3645</td>\n",
       "    </tr>\n",
       "    <tr>\n",
       "      <th>1990-12-28</th>\n",
       "      <td>13.6</td>\n",
       "      <td>3646</td>\n",
       "    </tr>\n",
       "    <tr>\n",
       "      <th>1990-12-29</th>\n",
       "      <td>13.5</td>\n",
       "      <td>3647</td>\n",
       "    </tr>\n",
       "    <tr>\n",
       "      <th>1990-12-30</th>\n",
       "      <td>15.7</td>\n",
       "      <td>3648</td>\n",
       "    </tr>\n",
       "    <tr>\n",
       "      <th>1990-12-31</th>\n",
       "      <td>13.0</td>\n",
       "      <td>3649</td>\n",
       "    </tr>\n",
       "  </tbody>\n",
       "</table>\n",
       "<p>3650 rows × 2 columns</p>\n",
       "</div>"
      ],
      "text/plain": [
       "            Temp  days\n",
       "Date                  \n",
       "1981-01-01  20.7     0\n",
       "1981-01-02  17.9     1\n",
       "1981-01-03  18.8     2\n",
       "1981-01-04  14.6     3\n",
       "1981-01-05  15.8     4\n",
       "...          ...   ...\n",
       "1990-12-27  14.0  3645\n",
       "1990-12-28  13.6  3646\n",
       "1990-12-29  13.5  3647\n",
       "1990-12-30  15.7  3648\n",
       "1990-12-31  13.0  3649\n",
       "\n",
       "[3650 rows x 2 columns]"
      ]
     },
     "execution_count": 28,
     "metadata": {},
     "output_type": "execute_result"
    }
   ],
   "source": [
    "tempDF['days'] = range(0, len( tempDF))\n",
    "tempDF"
   ]
  },
  {
   "cell_type": "code",
   "execution_count": 30,
   "metadata": {},
   "outputs": [],
   "source": [
    "temps = tempDF['Temp'].values\n",
    "days = tempDF['days'].values"
   ]
  },
  {
   "cell_type": "code",
   "execution_count": 29,
   "metadata": {
    "collapsed": true
   },
   "outputs": [
    {
     "data": {
      "text/html": [
       "<div>\n",
       "<style scoped>\n",
       "    .dataframe tbody tr th:only-of-type {\n",
       "        vertical-align: middle;\n",
       "    }\n",
       "\n",
       "    .dataframe tbody tr th {\n",
       "        vertical-align: top;\n",
       "    }\n",
       "\n",
       "    .dataframe thead th {\n",
       "        text-align: right;\n",
       "    }\n",
       "</style>\n",
       "<table border=\"1\" class=\"dataframe\">\n",
       "  <thead>\n",
       "    <tr style=\"text-align: right;\">\n",
       "      <th></th>\n",
       "      <th>Temp</th>\n",
       "      <th>days</th>\n",
       "    </tr>\n",
       "  </thead>\n",
       "  <tbody>\n",
       "    <tr>\n",
       "      <th>Temp</th>\n",
       "      <td>1.00000</td>\n",
       "      <td>0.01218</td>\n",
       "    </tr>\n",
       "    <tr>\n",
       "      <th>days</th>\n",
       "      <td>0.01218</td>\n",
       "      <td>1.00000</td>\n",
       "    </tr>\n",
       "  </tbody>\n",
       "</table>\n",
       "</div>"
      ],
      "text/plain": [
       "         Temp     days\n",
       "Temp  1.00000  0.01218\n",
       "days  0.01218  1.00000"
      ]
     },
     "execution_count": 29,
     "metadata": {},
     "output_type": "execute_result"
    }
   ],
   "source": [
    "tempDF.corr()"
   ]
  },
  {
   "cell_type": "code",
   "execution_count": 31,
   "metadata": {
    "collapsed": true
   },
   "outputs": [
    {
     "data": {
      "text/plain": [
       "array([[1.        , 0.01218004],\n",
       "       [0.01218004, 1.        ]])"
      ]
     },
     "execution_count": 31,
     "metadata": {},
     "output_type": "execute_result"
    }
   ],
   "source": [
    "np.corrcoef(temps, days )"
   ]
  },
  {
   "cell_type": "code",
   "execution_count": 33,
   "metadata": {},
   "outputs": [
    {
     "data": {
      "text/plain": [
       "array([20.7, 17.9, 18.8, ..., 13.5, 15.7, 13. ])"
      ]
     },
     "execution_count": 33,
     "metadata": {},
     "output_type": "execute_result"
    }
   ],
   "source": [
    "temps"
   ]
  },
  {
   "cell_type": "code",
   "execution_count": 32,
   "metadata": {},
   "outputs": [
    {
     "data": {
      "text/plain": [
       "array([17.9, 18.8, 14.6, ..., 13.5, 15.7, 13. ])"
      ]
     },
     "execution_count": 32,
     "metadata": {},
     "output_type": "execute_result"
    }
   ],
   "source": [
    "temps[1:]"
   ]
  },
  {
   "cell_type": "code",
   "execution_count": 34,
   "metadata": {},
   "outputs": [
    {
     "data": {
      "text/plain": [
       "array([20.7, 17.9, 18.8, ..., 13.6, 13.5, 15.7])"
      ]
     },
     "execution_count": 34,
     "metadata": {},
     "output_type": "execute_result"
    }
   ],
   "source": [
    "temps[:-1]"
   ]
  },
  {
   "cell_type": "code",
   "execution_count": 40,
   "metadata": {},
   "outputs": [
    {
     "data": {
      "text/plain": [
       "0.7748702165384456"
      ]
     },
     "execution_count": 40,
     "metadata": {},
     "output_type": "execute_result"
    }
   ],
   "source": [
    "np.corrcoef(temps[1:], temps[:-1] )[0,1] #lag1"
   ]
  },
  {
   "cell_type": "code",
   "execution_count": 39,
   "metadata": {},
   "outputs": [
    {
     "data": {
      "text/plain": [
       "0.6311194620684835"
      ]
     },
     "execution_count": 39,
     "metadata": {},
     "output_type": "execute_result"
    }
   ],
   "source": [
    "np.corrcoef(temps[2:], temps[:-2] )[0,1] #lag2"
   ]
  },
  {
   "cell_type": "code",
   "execution_count": 41,
   "metadata": {},
   "outputs": [
    {
     "data": {
      "text/plain": [
       "0.5863748620126276"
      ]
     },
     "execution_count": 41,
     "metadata": {},
     "output_type": "execute_result"
    }
   ],
   "source": [
    "np.corrcoef(temps[3:], temps[:-3] )[0,1]"
   ]
  },
  {
   "cell_type": "code",
   "execution_count": 42,
   "metadata": {
    "collapsed": true
   },
   "outputs": [
    {
     "data": {
      "text/plain": [
       "[0.7748702165384458,\n",
       " 0.6311194620684834,\n",
       " 0.5863748620126277,\n",
       " 0.5788976133377611,\n",
       " 0.5785715744112062,\n",
       " 0.5765484145122559,\n",
       " 0.5759289535831577,\n",
       " 0.5695569780397495,\n",
       " 0.563474717840828]"
      ]
     },
     "execution_count": 42,
     "metadata": {},
     "output_type": "execute_result"
    }
   ],
   "source": [
    "autocorrelation=[]\n",
    "for shift in range(1,10):\n",
    "    c = np.corrcoef(temps[:-shift], temps[shift:] )[0,1]\n",
    "    autocorrelation.append( c )\n",
    "autocorrelation"
   ]
  },
  {
   "cell_type": "code",
   "execution_count": 45,
   "metadata": {},
   "outputs": [],
   "source": [
    "from statsmodels.graphics.tsaplots import plot_acf, acf"
   ]
  },
  {
   "cell_type": "code",
   "execution_count": 43,
   "metadata": {
    "collapsed": true
   },
   "outputs": [
    {
     "data": {
      "text/plain": [
       "Date\n",
       "1981-01-01    20.7\n",
       "1981-01-02    17.9\n",
       "1981-01-03    18.8\n",
       "1981-01-04    14.6\n",
       "1981-01-05    15.8\n",
       "              ... \n",
       "1990-12-27    14.0\n",
       "1990-12-28    13.6\n",
       "1990-12-29    13.5\n",
       "1990-12-30    15.7\n",
       "1990-12-31    13.0\n",
       "Name: Temp, Length: 3650, dtype: float64"
      ]
     },
     "execution_count": 43,
     "metadata": {},
     "output_type": "execute_result"
    }
   ],
   "source": [
    "tempDF['Temp']"
   ]
  },
  {
   "cell_type": "code",
   "execution_count": 46,
   "metadata": {
    "collapsed": true
   },
   "outputs": [
    {
     "data": {
      "text/plain": [
       "array([1.        , 0.774268  , 0.6302866 , 0.58529312, 0.57774567,\n",
       "       0.57728013, 0.57510412, 0.57437039, 0.56782622, 0.56120131,\n",
       "       0.54668689, 0.53793111, 0.54012564, 0.54247126, 0.53688723,\n",
       "       0.53429917, 0.53043593, 0.52911166, 0.53037444, 0.52280732,\n",
       "       0.52303677, 0.52224579, 0.51426684, 0.49837745, 0.49302665,\n",
       "       0.49946731, 0.50428521, 0.50068173, 0.49157081, 0.48146406,\n",
       "       0.47421245, 0.47568054, 0.46311862, 0.46215585, 0.46630567,\n",
       "       0.45459092, 0.43378232, 0.4203594 , 0.42707505, 0.42196486,\n",
       "       0.4079607 ])"
      ]
     },
     "execution_count": 46,
     "metadata": {},
     "output_type": "execute_result"
    }
   ],
   "source": [
    "result = acf( tempDF['Temp'])\n",
    "result"
   ]
  },
  {
   "cell_type": "code",
   "execution_count": 51,
   "metadata": {
    "collapsed": true
   },
   "outputs": [
    {
     "data": {
      "image/png": "[encoded data removed]",
      "text/plain": [
       "<Figure size 432x288 with 1 Axes>"
      ]
     },
     "metadata": {
      "needs_background": "light"
     },
     "output_type": "display_data"
    }
   ],
   "source": [
    "plt.scatter( range(0,len(result ) ), result )\n",
    "plt.show()"
   ]
  },
  {
   "cell_type": "code",
   "execution_count": 54,
   "metadata": {
    "collapsed": true
   },
   "outputs": [
    {
     "data": {
      "image/png": "[encoded data removed]",
      "text/plain": [
       "<Figure size 432x288 with 1 Axes>"
      ]
     },
     "metadata": {
      "needs_background": "light"
     },
     "output_type": "display_data"
    }
   ],
   "source": [
    "plot_acf( birthDF['Births'] )\n",
    "plt.show()"
   ]
  },
  {
   "cell_type": "code",
   "execution_count": 52,
   "metadata": {
    "collapsed": true
   },
   "outputs": [
    {
     "data": {
      "image/png": "[encoded data removed]",
      "text/plain": [
       "<Figure size 432x288 with 1 Axes>"
      ]
     },
     "metadata": {
      "needs_background": "light"
     },
     "output_type": "display_data"
    }
   ],
   "source": [
    "plot_acf( tempDF['Temp'] )\n",
    "plt.show()"
   ]
  },
  {
   "cell_type": "code",
   "execution_count": 56,
   "metadata": {
    "collapsed": true
   },
   "outputs": [
    {
     "data": {
      "image/png": "[encoded data removed]",
      "text/plain": [
       "<Figure size 432x288 with 1 Axes>"
      ]
     },
     "metadata": {
      "needs_background": "light"
     },
     "output_type": "display_data"
    }
   ],
   "source": [
    "plot_acf( airDF['passengers'] )\n",
    "plt.show()"
   ]
  },
  {
   "cell_type": "code",
   "execution_count": 57,
   "metadata": {},
   "outputs": [],
   "source": [
    "from statsmodels.graphics.tsaplots import plot_pacf"
   ]
  },
  {
   "cell_type": "markdown",
   "metadata": {},
   "source": [
    "## 모델 선택용"
   ]
  },
  {
   "cell_type": "code",
   "execution_count": 58,
   "metadata": {
    "collapsed": true
   },
   "outputs": [
    {
     "data": {
      "image/png": "[encoded data removed]",
      "text/plain": [
       "<Figure size 432x288 with 1 Axes>"
      ]
     },
     "metadata": {
      "needs_background": "light"
     },
     "output_type": "display_data"
    }
   ],
   "source": [
    "plot_pacf(tempDF['Temp']  )\n",
    "plt.show()"
   ]
  },
  {
   "cell_type": "markdown",
   "metadata": {},
   "source": [
    "### adfuller 판단지표"
   ]
  },
  {
   "cell_type": "code",
   "execution_count": 59,
   "metadata": {},
   "outputs": [],
   "source": [
    "from statsmodels.tsa.stattools import adfuller"
   ]
  },
  {
   "cell_type": "markdown",
   "metadata": {},
   "source": [
    "#### 검증 조건 ( p-value : 5% 이내면 reject으로 대체가설 선택됨 )\n",
    "- 귀무가설(H0): non-stationary.\n",
    "- 대체가설 (H1): stationary."
   ]
  },
  {
   "cell_type": "code",
   "execution_count": 63,
   "metadata": {
    "collapsed": true
   },
   "outputs": [
    {
     "name": "stdout",
     "output_type": "stream",
     "text": [
      "-4.808291253559759\n",
      "5.243412990149989e-05\n"
     ]
    }
   ],
   "source": [
    "result = adfuller( birthDF['Births'] )\n",
    "print( result[0] ) # adf ( 작을수록 :귀무가설을 기각시킬 확율이 높다)\n",
    "print( result[1] ) # p-value( 귀무가설기각: stationary)"
   ]
  },
  {
   "cell_type": "code",
   "execution_count": 65,
   "metadata": {
    "collapsed": true
   },
   "outputs": [
    {
     "name": "stdout",
     "output_type": "stream",
     "text": [
      "0.8153688792060587\n",
      "0.9918802434376411\n"
     ]
    }
   ],
   "source": [
    "result = adfuller( airDF['passengers'] )\n",
    "print( result[0] ) #adf ( 클수록: 귀무가설채틱 확률이 높다 )\n",
    "print( result[1] ) # p-value( 귀무가설채택: non-stationary )"
   ]
  },
  {
   "cell_type": "code",
   "execution_count": 66,
   "metadata": {
    "collapsed": true
   },
   "outputs": [
    {
     "data": {
      "text/html": [
       "<table class=\"simpletable\">\n",
       "<caption>ARIMA Model Results</caption>\n",
       "<tr>\n",
       "  <th>Dep. Variable:</th>   <td>D.passengers</td>   <th>  No. Observations:  </th>    <td>143</td>  \n",
       "</tr>\n",
       "<tr>\n",
       "  <th>Model:</th>          <td>ARIMA(2, 1, 2)</td>  <th>  Log Likelihood     </th> <td>-666.022</td>\n",
       "</tr>\n",
       "<tr>\n",
       "  <th>Method:</th>             <td>css-mle</td>     <th>  S.D. of innovations</th>  <td>24.711</td> \n",
       "</tr>\n",
       "<tr>\n",
       "  <th>Date:</th>          <td>Wed, 27 Jan 2021</td> <th>  AIC                </th> <td>1344.043</td>\n",
       "</tr>\n",
       "<tr>\n",
       "  <th>Time:</th>              <td>11:19:02</td>     <th>  BIC                </th> <td>1361.820</td>\n",
       "</tr>\n",
       "<tr>\n",
       "  <th>Sample:</th>           <td>02-01-1949</td>    <th>  HQIC               </th> <td>1351.267</td>\n",
       "</tr>\n",
       "<tr>\n",
       "  <th></th>                 <td>- 12-01-1960</td>   <th>                     </th>     <td> </td>   \n",
       "</tr>\n",
       "</table>\n",
       "<table class=\"simpletable\">\n",
       "<tr>\n",
       "           <td></td>             <th>coef</th>     <th>std err</th>      <th>z</th>      <th>P>|z|</th>  <th>[0.025</th>    <th>0.975]</th>  \n",
       "</tr>\n",
       "<tr>\n",
       "  <th>const</th>              <td>    2.5311</td> <td>    0.708</td> <td>    3.574</td> <td> 0.000</td> <td>    1.143</td> <td>    3.919</td>\n",
       "</tr>\n",
       "<tr>\n",
       "  <th>ar.L1.D.passengers</th> <td>    1.6477</td> <td>    0.033</td> <td>   49.933</td> <td> 0.000</td> <td>    1.583</td> <td>    1.712</td>\n",
       "</tr>\n",
       "<tr>\n",
       "  <th>ar.L2.D.passengers</th> <td>   -0.9094</td> <td>    0.033</td> <td>  -27.880</td> <td> 0.000</td> <td>   -0.973</td> <td>   -0.845</td>\n",
       "</tr>\n",
       "<tr>\n",
       "  <th>ma.L1.D.passengers</th> <td>   -1.9101</td> <td>    0.065</td> <td>  -29.533</td> <td> 0.000</td> <td>   -2.037</td> <td>   -1.783</td>\n",
       "</tr>\n",
       "<tr>\n",
       "  <th>ma.L2.D.passengers</th> <td>    0.9999</td> <td>    0.068</td> <td>   14.810</td> <td> 0.000</td> <td>    0.868</td> <td>    1.132</td>\n",
       "</tr>\n",
       "</table>\n",
       "<table class=\"simpletable\">\n",
       "<caption>Roots</caption>\n",
       "<tr>\n",
       "    <td></td>   <th>            Real</th>  <th>         Imaginary</th> <th>         Modulus</th>  <th>        Frequency</th>\n",
       "</tr>\n",
       "<tr>\n",
       "  <th>AR.1</th> <td>           0.9059</td> <td>          -0.5281j</td> <td>           1.0486</td> <td>          -0.0840</td>\n",
       "</tr>\n",
       "<tr>\n",
       "  <th>AR.2</th> <td>           0.9059</td> <td>          +0.5281j</td> <td>           1.0486</td> <td>           0.0840</td>\n",
       "</tr>\n",
       "<tr>\n",
       "  <th>MA.1</th> <td>           0.9551</td> <td>          -0.2964j</td> <td>           1.0000</td> <td>          -0.0479</td>\n",
       "</tr>\n",
       "<tr>\n",
       "  <th>MA.2</th> <td>           0.9551</td> <td>          +0.2964j</td> <td>           1.0000</td> <td>           0.0479</td>\n",
       "</tr>\n",
       "</table>"
      ],
      "text/plain": [
       "<class 'statsmodels.iolib.summary.Summary'>\n",
       "\"\"\"\n",
       "                             ARIMA Model Results                              \n",
       "==============================================================================\n",
       "Dep. Variable:           D.passengers   No. Observations:                  143\n",
       "Model:                 ARIMA(2, 1, 2)   Log Likelihood                -666.022\n",
       "Method:                       css-mle   S.D. of innovations             24.711\n",
       "Date:                Wed, 27 Jan 2021   AIC                           1344.043\n",
       "Time:                        11:19:02   BIC                           1361.820\n",
       "Sample:                    02-01-1949   HQIC                          1351.267\n",
       "                         - 12-01-1960                                         \n",
       "======================================================================================\n",
       "                         coef    std err          z      P>|z|      [0.025      0.975]\n",
       "--------------------------------------------------------------------------------------\n",
       "const                  2.5311      0.708      3.574      0.000       1.143       3.919\n",
       "ar.L1.D.passengers     1.6477      0.033     49.933      0.000       1.583       1.712\n",
       "ar.L2.D.passengers    -0.9094      0.033    -27.880      0.000      -0.973      -0.845\n",
       "ma.L1.D.passengers    -1.9101      0.065    -29.533      0.000      -2.037      -1.783\n",
       "ma.L2.D.passengers     0.9999      0.068     14.810      0.000       0.868       1.132\n",
       "                                    Roots                                    \n",
       "=============================================================================\n",
       "                  Real          Imaginary           Modulus         Frequency\n",
       "-----------------------------------------------------------------------------\n",
       "AR.1            0.9059           -0.5281j            1.0486           -0.0840\n",
       "AR.2            0.9059           +0.5281j            1.0486            0.0840\n",
       "MA.1            0.9551           -0.2964j            1.0000           -0.0479\n",
       "MA.2            0.9551           +0.2964j            1.0000            0.0479\n",
       "-----------------------------------------------------------------------------\n",
       "\"\"\""
      ]
     },
     "execution_count": 66,
     "metadata": {},
     "output_type": "execute_result"
    }
   ],
   "source": [
    "order = (2,1,2)\n",
    "model = ARIMA(airDF, order ) \n",
    "rfit = model.fit()\n",
    "rfit.summary()"
   ]
  },
  {
   "cell_type": "code",
   "execution_count": 69,
   "metadata": {},
   "outputs": [
    {
     "data": {
      "text/plain": [
       "1344.043384283314"
      ]
     },
     "execution_count": 69,
     "metadata": {},
     "output_type": "execute_result"
    }
   ],
   "source": [
    "rfit.aic"
   ]
  },
  {
   "cell_type": "markdown",
   "metadata": {},
   "source": [
    "ARIMA(2,1,2)\n",
    "\\begin{equation}\n",
    "y_t = 1.6477 y'_{t-1} -0.9094 y'_{t-2} + e_t -1.9101e_{t-1} +0.9999e_{t-2}\n",
    "\\end{equation}\n",
    "</h3>\n",
    "를 따르는 ARIMA모델임을 확인할 수 있다."
   ]
  },
  {
   "cell_type": "code",
   "execution_count": 67,
   "metadata": {
    "collapsed": true
   },
   "outputs": [],
   "source": [
    "def arima_aic_check(data, order,sort = 'AIC'):\n",
    "    order_list = []\n",
    "    aic_list = []\n",
    "    bic_lsit = []\n",
    "    for p in range(order[0]):\n",
    "        for d in range(order[1]):\n",
    "            for q in range(order[2]):\n",
    "                model = ARIMA(data, order=(p,d,q))\n",
    "                try:\n",
    "                    model_fit = model.fit()\n",
    "                    c_order = f'p:{p} d:{d} q:{q}'\n",
    "                    aic = model_fit.aic\n",
    "                    bic = model_fit.bic\n",
    "                    order_list.append(c_order)\n",
    "                    aic_list.append(aic)\n",
    "                    bic_list.append(bic)\n",
    "                except:\n",
    "                    pass\n",
    "    result_df = pd.DataFrame(list(zip(order_list, aic_list)),columns=['order','AIC'])\n",
    "    result_df.sort_values(sort, inplace=True)\n",
    "    return result_df"
   ]
  },
  {
   "cell_type": "code",
   "execution_count": 68,
   "metadata": {
    "collapsed": true
   },
   "outputs": [
    {
     "data": {
      "text/html": [
       "<div>\n",
       "<style scoped>\n",
       "    .dataframe tbody tr th:only-of-type {\n",
       "        vertical-align: middle;\n",
       "    }\n",
       "\n",
       "    .dataframe tbody tr th {\n",
       "        vertical-align: top;\n",
       "    }\n",
       "\n",
       "    .dataframe thead th {\n",
       "        text-align: right;\n",
       "    }\n",
       "</style>\n",
       "<table border=\"1\" class=\"dataframe\">\n",
       "  <thead>\n",
       "    <tr style=\"text-align: right;\">\n",
       "      <th></th>\n",
       "      <th>order</th>\n",
       "      <th>AIC</th>\n",
       "    </tr>\n",
       "  </thead>\n",
       "  <tbody>\n",
       "    <tr>\n",
       "      <th>21</th>\n",
       "      <td>p:2 d:1 q:2</td>\n",
       "      <td>1344.043384</td>\n",
       "    </tr>\n",
       "    <tr>\n",
       "      <th>20</th>\n",
       "      <td>p:2 d:1 q:1</td>\n",
       "      <td>1361.695820</td>\n",
       "    </tr>\n",
       "    <tr>\n",
       "      <th>13</th>\n",
       "      <td>p:1 d:1 q:2</td>\n",
       "      <td>1371.815374</td>\n",
       "    </tr>\n",
       "    <tr>\n",
       "      <th>15</th>\n",
       "      <td>p:1 d:2 q:2</td>\n",
       "      <td>1393.908442</td>\n",
       "    </tr>\n",
       "    <tr>\n",
       "      <th>23</th>\n",
       "      <td>p:2 d:2 q:2</td>\n",
       "      <td>1394.656208</td>\n",
       "    </tr>\n",
       "    <tr>\n",
       "      <th>7</th>\n",
       "      <td>p:0 d:2 q:2</td>\n",
       "      <td>1396.371696</td>\n",
       "    </tr>\n",
       "    <tr>\n",
       "      <th>19</th>\n",
       "      <td>p:2 d:1 q:0</td>\n",
       "      <td>1397.975152</td>\n",
       "    </tr>\n",
       "    <tr>\n",
       "      <th>4</th>\n",
       "      <td>p:0 d:1 q:2</td>\n",
       "      <td>1398.385532</td>\n",
       "    </tr>\n",
       "    <tr>\n",
       "      <th>3</th>\n",
       "      <td>p:0 d:1 q:1</td>\n",
       "      <td>1398.827110</td>\n",
       "    </tr>\n",
       "    <tr>\n",
       "      <th>12</th>\n",
       "      <td>p:1 d:1 q:1</td>\n",
       "      <td>1402.145400</td>\n",
       "    </tr>\n",
       "    <tr>\n",
       "      <th>11</th>\n",
       "      <td>p:1 d:1 q:0</td>\n",
       "      <td>1403.472861</td>\n",
       "    </tr>\n",
       "    <tr>\n",
       "      <th>17</th>\n",
       "      <td>p:2 d:0 q:1</td>\n",
       "      <td>1408.249223</td>\n",
       "    </tr>\n",
       "    <tr>\n",
       "      <th>9</th>\n",
       "      <td>p:1 d:0 q:1</td>\n",
       "      <td>1409.748270</td>\n",
       "    </tr>\n",
       "    <tr>\n",
       "      <th>10</th>\n",
       "      <td>p:1 d:0 q:2</td>\n",
       "      <td>1411.050254</td>\n",
       "    </tr>\n",
       "    <tr>\n",
       "      <th>6</th>\n",
       "      <td>p:0 d:2 q:1</td>\n",
       "      <td>1413.362709</td>\n",
       "    </tr>\n",
       "    <tr>\n",
       "      <th>16</th>\n",
       "      <td>p:2 d:0 q:0</td>\n",
       "      <td>1413.638784</td>\n",
       "    </tr>\n",
       "    <tr>\n",
       "      <th>2</th>\n",
       "      <td>p:0 d:1 q:0</td>\n",
       "      <td>1415.277587</td>\n",
       "    </tr>\n",
       "    <tr>\n",
       "      <th>8</th>\n",
       "      <td>p:1 d:0 q:0</td>\n",
       "      <td>1428.179379</td>\n",
       "    </tr>\n",
       "    <tr>\n",
       "      <th>22</th>\n",
       "      <td>p:2 d:2 q:0</td>\n",
       "      <td>1442.077736</td>\n",
       "    </tr>\n",
       "    <tr>\n",
       "      <th>14</th>\n",
       "      <td>p:1 d:2 q:0</td>\n",
       "      <td>1449.026002</td>\n",
       "    </tr>\n",
       "    <tr>\n",
       "      <th>5</th>\n",
       "      <td>p:0 d:2 q:0</td>\n",
       "      <td>1452.590161</td>\n",
       "    </tr>\n",
       "    <tr>\n",
       "      <th>18</th>\n",
       "      <td>p:2 d:0 q:2</td>\n",
       "      <td>1465.625272</td>\n",
       "    </tr>\n",
       "    <tr>\n",
       "      <th>1</th>\n",
       "      <td>p:0 d:0 q:1</td>\n",
       "      <td>1618.862527</td>\n",
       "    </tr>\n",
       "    <tr>\n",
       "      <th>0</th>\n",
       "      <td>p:0 d:0 q:0</td>\n",
       "      <td>1790.367580</td>\n",
       "    </tr>\n",
       "  </tbody>\n",
       "</table>\n",
       "</div>"
      ],
      "text/plain": [
       "          order          AIC\n",
       "21  p:2 d:1 q:2  1344.043384\n",
       "20  p:2 d:1 q:1  1361.695820\n",
       "13  p:1 d:1 q:2  1371.815374\n",
       "15  p:1 d:2 q:2  1393.908442\n",
       "23  p:2 d:2 q:2  1394.656208\n",
       "7   p:0 d:2 q:2  1396.371696\n",
       "19  p:2 d:1 q:0  1397.975152\n",
       "4   p:0 d:1 q:2  1398.385532\n",
       "3   p:0 d:1 q:1  1398.827110\n",
       "12  p:1 d:1 q:1  1402.145400\n",
       "11  p:1 d:1 q:0  1403.472861\n",
       "17  p:2 d:0 q:1  1408.249223\n",
       "9   p:1 d:0 q:1  1409.748270\n",
       "10  p:1 d:0 q:2  1411.050254\n",
       "6   p:0 d:2 q:1  1413.362709\n",
       "16  p:2 d:0 q:0  1413.638784\n",
       "2   p:0 d:1 q:0  1415.277587\n",
       "8   p:1 d:0 q:0  1428.179379\n",
       "22  p:2 d:2 q:0  1442.077736\n",
       "14  p:1 d:2 q:0  1449.026002\n",
       "5   p:0 d:2 q:0  1452.590161\n",
       "18  p:2 d:0 q:2  1465.625272\n",
       "1   p:0 d:0 q:1  1618.862527\n",
       "0   p:0 d:0 q:0  1790.367580"
      ]
     },
     "execution_count": 68,
     "metadata": {},
     "output_type": "execute_result"
    }
   ],
   "source": [
    "arima_aic_check( airDF, [3,3,3] )"
   ]
  },
  {
   "cell_type": "code",
   "execution_count": 72,
   "metadata": {
    "collapsed": true
   },
   "outputs": [
    {
     "data": {
      "text/plain": [
       "1949-02-01    114.531094\n",
       "1949-03-01    121.350876\n",
       "1949-04-01    137.221280\n",
       "1949-05-01    129.789542\n",
       "1949-06-01    119.169478\n",
       "1949-07-01    136.762399\n",
       "1949-08-01    149.739047\n",
       "1949-09-01    147.367306\n",
       "1949-10-01    134.798658\n",
       "1949-11-01    121.077000\n",
       "Freq: MS, dtype: float64"
      ]
     },
     "execution_count": 72,
     "metadata": {},
     "output_type": "execute_result"
    }
   ],
   "source": [
    "rfit.predict(1, 10, typ='levels')"
   ]
  },
  {
   "cell_type": "code",
   "execution_count": 73,
   "metadata": {
    "collapsed": true
   },
   "outputs": [
    {
     "data": {
      "text/plain": [
       "1950-01-01    131.476220\n",
       "1950-02-01    132.058307\n",
       "1950-03-01    143.953541\n",
       "1950-04-01    156.328568\n",
       "1950-05-01    147.710772\n",
       "1950-06-01    136.542373\n",
       "1950-07-01    155.854037\n",
       "1950-08-01    168.939846\n",
       "1950-09-01    162.271160\n",
       "1950-10-01    147.633338\n",
       "1950-11-01    126.286687\n",
       "1950-12-01    115.225320\n",
       "Freq: MS, dtype: float64"
      ]
     },
     "execution_count": 73,
     "metadata": {},
     "output_type": "execute_result"
    }
   ],
   "source": [
    "rfit.predict('1950-01-01','1950-12-01' , typ='levels')"
   ]
  },
  {
   "cell_type": "code",
   "execution_count": 88,
   "metadata": {},
   "outputs": [],
   "source": [
    "# preds =rfit.predict('1960-07-01','1960-12-01' , typ='levels')\n",
    "preds =rfit.predict('1960-07-01','1961-07-01' , typ='levels')"
   ]
  },
  {
   "cell_type": "code",
   "execution_count": 74,
   "metadata": {},
   "outputs": [],
   "source": [
    "train = airDF[:'1960-07-01']\n",
    "test = airDF['1960-07-01':]"
   ]
  },
  {
   "cell_type": "code",
   "execution_count": 90,
   "metadata": {
    "collapsed": true
   },
   "outputs": [
    {
     "data": {
      "text/plain": [
       "1960-07-01    553.884492\n",
       "1960-08-01    599.046629\n",
       "1960-09-01    555.150170\n",
       "1960-10-01    458.019625\n",
       "1960-11-01    421.197673\n",
       "1960-12-01    378.526921\n",
       "1961-01-01    433.101130\n",
       "1961-02-01    450.852664\n",
       "1961-03-01    479.763140\n",
       "1961-04-01    511.918638\n",
       "1961-05-01    539.273154\n",
       "1961-06-01    555.766009\n",
       "1961-07-01    558.727895\n",
       "Freq: MS, dtype: float64"
      ]
     },
     "execution_count": 90,
     "metadata": {},
     "output_type": "execute_result"
    }
   ],
   "source": [
    "preds"
   ]
  },
  {
   "cell_type": "code",
   "execution_count": 89,
   "metadata": {
    "collapsed": true
   },
   "outputs": [
    {
     "data": {
      "image/png": "[encoded data removed]",
      "text/plain": [
       "<Figure size 432x288 with 1 Axes>"
      ]
     },
     "metadata": {
      "needs_background": "light"
     },
     "output_type": "display_data"
    }
   ],
   "source": [
    "plt.plot( train )\n",
    "plt.plot( test )\n",
    "plt.plot( preds, 'r--')\n",
    "plt.show()"
   ]
  },
  {
   "cell_type": "code",
   "execution_count": 70,
   "metadata": {
    "collapsed": true
   },
   "outputs": [
    {
     "data": {
      "text/html": [
       "<div>\n",
       "<style scoped>\n",
       "    .dataframe tbody tr th:only-of-type {\n",
       "        vertical-align: middle;\n",
       "    }\n",
       "\n",
       "    .dataframe tbody tr th {\n",
       "        vertical-align: top;\n",
       "    }\n",
       "\n",
       "    .dataframe thead th {\n",
       "        text-align: right;\n",
       "    }\n",
       "</style>\n",
       "<table border=\"1\" class=\"dataframe\">\n",
       "  <thead>\n",
       "    <tr style=\"text-align: right;\">\n",
       "      <th></th>\n",
       "      <th>passengers</th>\n",
       "    </tr>\n",
       "    <tr>\n",
       "      <th>time</th>\n",
       "      <th></th>\n",
       "    </tr>\n",
       "  </thead>\n",
       "  <tbody>\n",
       "    <tr>\n",
       "      <th>1949-01-01</th>\n",
       "      <td>112</td>\n",
       "    </tr>\n",
       "    <tr>\n",
       "      <th>1949-02-01</th>\n",
       "      <td>118</td>\n",
       "    </tr>\n",
       "    <tr>\n",
       "      <th>1949-03-01</th>\n",
       "      <td>132</td>\n",
       "    </tr>\n",
       "    <tr>\n",
       "      <th>1949-04-01</th>\n",
       "      <td>129</td>\n",
       "    </tr>\n",
       "    <tr>\n",
       "      <th>1949-05-01</th>\n",
       "      <td>121</td>\n",
       "    </tr>\n",
       "    <tr>\n",
       "      <th>...</th>\n",
       "      <td>...</td>\n",
       "    </tr>\n",
       "    <tr>\n",
       "      <th>1960-08-01</th>\n",
       "      <td>606</td>\n",
       "    </tr>\n",
       "    <tr>\n",
       "      <th>1960-09-01</th>\n",
       "      <td>508</td>\n",
       "    </tr>\n",
       "    <tr>\n",
       "      <th>1960-10-01</th>\n",
       "      <td>461</td>\n",
       "    </tr>\n",
       "    <tr>\n",
       "      <th>1960-11-01</th>\n",
       "      <td>390</td>\n",
       "    </tr>\n",
       "    <tr>\n",
       "      <th>1960-12-01</th>\n",
       "      <td>432</td>\n",
       "    </tr>\n",
       "  </tbody>\n",
       "</table>\n",
       "<p>144 rows × 1 columns</p>\n",
       "</div>"
      ],
      "text/plain": [
       "            passengers\n",
       "time                  \n",
       "1949-01-01         112\n",
       "1949-02-01         118\n",
       "1949-03-01         132\n",
       "1949-04-01         129\n",
       "1949-05-01         121\n",
       "...                ...\n",
       "1960-08-01         606\n",
       "1960-09-01         508\n",
       "1960-10-01         461\n",
       "1960-11-01         390\n",
       "1960-12-01         432\n",
       "\n",
       "[144 rows x 1 columns]"
      ]
     },
     "execution_count": 70,
     "metadata": {},
     "output_type": "execute_result"
    }
   ],
   "source": [
    "airDF"
   ]
  },
  {
   "cell_type": "code",
   "execution_count": 91,
   "metadata": {},
   "outputs": [
    {
     "name": "stdout",
     "output_type": "stream",
     "text": [
      "                count\n",
      "date                 \n",
      "2001-11-01   0.998543\n",
      "2001-11-02   1.914526\n",
      "2001-11-03   3.057407\n",
      "2001-11-04   4.044301\n",
      "2001-11-05   4.952441\n",
      "2001-11-06   6.002932\n",
      "2001-11-07   6.930134\n",
      "2001-11-08   8.011137\n",
      "2001-11-09   9.040393\n",
      "2001-11-10  10.097007\n",
      "2001-11-11  11.063742\n",
      "2001-11-12  12.051951\n",
      "2001-11-13  13.062637\n",
      "2001-11-14  14.086016\n",
      "2001-11-15  15.096826\n",
      "2001-11-16  15.944886\n",
      "2001-11-17  17.027107\n",
      "2001-11-18  17.930240\n",
      "2001-11-19  18.984202\n",
      "2001-11-20  19.971603\n"
     ]
    }
   ],
   "source": [
    "df = pd.DataFrame([\n",
    "        ['2001-11-01', 0.998543],\n",
    "        ['2001-11-02', 1.914526],\n",
    "        ['2001-11-03', 3.057407],\n",
    "        ['2001-11-04', 4.044301],\n",
    "        ['2001-11-05', 4.952441],\n",
    "        ['2001-11-06', 6.002932],\n",
    "        ['2001-11-07', 6.930134],\n",
    "        ['2001-11-08', 8.011137],\n",
    "        ['2001-11-09', 9.040393],\n",
    "        ['2001-11-10', 10.097007],\n",
    "        ['2001-11-11', 11.063742],\n",
    "        ['2001-11-12', 12.051951],\n",
    "        ['2001-11-13', 13.062637],\n",
    "        ['2001-11-14', 14.086016],\n",
    "        ['2001-11-15', 15.096826],\n",
    "        ['2001-11-16', 15.944886],\n",
    "        ['2001-11-17', 17.027107],\n",
    "        ['2001-11-18', 17.930240],\n",
    "        ['2001-11-19', 18.984202],\n",
    "        ['2001-11-20', 19.971603]\n",
    "    ], columns=['date', 'count'])\n",
    "df['date'] = pd.to_datetime(df.date, format='%Y-%m-%d')\n",
    "df = df.set_index('date')\n",
    "print(df)"
   ]
  },
  {
   "cell_type": "code",
   "execution_count": null,
   "metadata": {},
   "outputs": [],
   "source": [
    "## acf, adfuller, 예측( 2001-11-13, 2001-11-20)"
   ]
  },
  {
   "cell_type": "code",
   "execution_count": 92,
   "metadata": {
    "collapsed": true
   },
   "outputs": [
    {
     "data": {
      "image/png": "[encoded data removed]",
      "text/plain": [
       "<Figure size 432x288 with 1 Axes>"
      ]
     },
     "metadata": {
      "needs_background": "light"
     },
     "output_type": "display_data"
    }
   ],
   "source": [
    "# 2011-11-13 기준으로 train, test 나누기\n",
    "train=df[:'2001-11-12']\n",
    "test=df['2001-11-13':]\n",
    "\n",
    "# acf로 non-stationary 여부 확인\n",
    "plot_acf(train['count'])\n",
    "plt.show() # non-stationary"
   ]
  },
  {
   "cell_type": "code",
   "execution_count": 93,
   "metadata": {},
   "outputs": [
    {
     "name": "stdout",
     "output_type": "stream",
     "text": [
      "-0.2727060313249684\n",
      "0.9292820059517111\n"
     ]
    }
   ],
   "source": [
    "# adfuller로 non-stationary 여부 확인\n",
    "result=adfuller(train['count'])\n",
    "print(result[0])\n",
    "print(result[1]) # p-value 값 0.93 -> 귀무가설 채택 -> non-stationary"
   ]
  },
  {
   "cell_type": "code",
   "execution_count": 94,
   "metadata": {
    "collapsed": true
   },
   "outputs": [
    {
     "data": {
      "text/html": [
       "<div>\n",
       "<style scoped>\n",
       "    .dataframe tbody tr th:only-of-type {\n",
       "        vertical-align: middle;\n",
       "    }\n",
       "\n",
       "    .dataframe tbody tr th {\n",
       "        vertical-align: top;\n",
       "    }\n",
       "\n",
       "    .dataframe thead th {\n",
       "        text-align: right;\n",
       "    }\n",
       "</style>\n",
       "<table border=\"1\" class=\"dataframe\">\n",
       "  <thead>\n",
       "    <tr style=\"text-align: right;\">\n",
       "      <th></th>\n",
       "      <th>order</th>\n",
       "      <th>AIC</th>\n",
       "    </tr>\n",
       "  </thead>\n",
       "  <tbody>\n",
       "    <tr>\n",
       "      <th>4</th>\n",
       "      <td>p:0 d:1 q:1</td>\n",
       "      <td>-26.732532</td>\n",
       "    </tr>\n",
       "    <tr>\n",
       "      <th>5</th>\n",
       "      <td>p:0 d:1 q:2</td>\n",
       "      <td>-24.732845</td>\n",
       "    </tr>\n",
       "    <tr>\n",
       "      <th>10</th>\n",
       "      <td>p:1 d:1 q:0</td>\n",
       "      <td>-23.740628</td>\n",
       "    </tr>\n",
       "    <tr>\n",
       "      <th>3</th>\n",
       "      <td>p:0 d:1 q:0</td>\n",
       "      <td>-22.957058</td>\n",
       "    </tr>\n",
       "    <tr>\n",
       "      <th>13</th>\n",
       "      <td>p:2 d:1 q:0</td>\n",
       "      <td>-22.471244</td>\n",
       "    </tr>\n",
       "    <tr>\n",
       "      <th>8</th>\n",
       "      <td>p:0 d:2 q:2</td>\n",
       "      <td>-16.234061</td>\n",
       "    </tr>\n",
       "    <tr>\n",
       "      <th>7</th>\n",
       "      <td>p:0 d:2 q:1</td>\n",
       "      <td>-15.186843</td>\n",
       "    </tr>\n",
       "    <tr>\n",
       "      <th>14</th>\n",
       "      <td>p:2 d:2 q:0</td>\n",
       "      <td>-13.355062</td>\n",
       "    </tr>\n",
       "    <tr>\n",
       "      <th>11</th>\n",
       "      <td>p:1 d:2 q:0</td>\n",
       "      <td>-12.757724</td>\n",
       "    </tr>\n",
       "    <tr>\n",
       "      <th>6</th>\n",
       "      <td>p:0 d:2 q:0</td>\n",
       "      <td>-9.447776</td>\n",
       "    </tr>\n",
       "    <tr>\n",
       "      <th>12</th>\n",
       "      <td>p:2 d:0 q:0</td>\n",
       "      <td>12.701483</td>\n",
       "    </tr>\n",
       "    <tr>\n",
       "      <th>9</th>\n",
       "      <td>p:1 d:0 q:0</td>\n",
       "      <td>43.475010</td>\n",
       "    </tr>\n",
       "    <tr>\n",
       "      <th>2</th>\n",
       "      <td>p:0 d:0 q:2</td>\n",
       "      <td>50.611748</td>\n",
       "    </tr>\n",
       "    <tr>\n",
       "      <th>1</th>\n",
       "      <td>p:0 d:0 q:1</td>\n",
       "      <td>58.844261</td>\n",
       "    </tr>\n",
       "    <tr>\n",
       "      <th>0</th>\n",
       "      <td>p:0 d:0 q:0</td>\n",
       "      <td>67.983463</td>\n",
       "    </tr>\n",
       "  </tbody>\n",
       "</table>\n",
       "</div>"
      ],
      "text/plain": [
       "          order        AIC\n",
       "4   p:0 d:1 q:1 -26.732532\n",
       "5   p:0 d:1 q:2 -24.732845\n",
       "10  p:1 d:1 q:0 -23.740628\n",
       "3   p:0 d:1 q:0 -22.957058\n",
       "13  p:2 d:1 q:0 -22.471244\n",
       "8   p:0 d:2 q:2 -16.234061\n",
       "7   p:0 d:2 q:1 -15.186843\n",
       "14  p:2 d:2 q:0 -13.355062\n",
       "11  p:1 d:2 q:0 -12.757724\n",
       "6   p:0 d:2 q:0  -9.447776\n",
       "12  p:2 d:0 q:0  12.701483\n",
       "9   p:1 d:0 q:0  43.475010\n",
       "2   p:0 d:0 q:2  50.611748\n",
       "1   p:0 d:0 q:1  58.844261\n",
       "0   p:0 d:0 q:0  67.983463"
      ]
     },
     "execution_count": 94,
     "metadata": {},
     "output_type": "execute_result"
    }
   ],
   "source": [
    "# 가장 작은 AIC 만드는 ARIMA 조합 찾기\n",
    "arima_aic_check(train, [3,3,3]) # 0, 1, 1 선택"
   ]
  },
  {
   "cell_type": "code",
   "execution_count": 95,
   "metadata": {},
   "outputs": [
    {
     "data": {
      "text/plain": [
       "<statsmodels.tsa.arima_model.ARIMAResultsWrapper at 0x260ca736bc8>"
      ]
     },
     "execution_count": 95,
     "metadata": {},
     "output_type": "execute_result"
    }
   ],
   "source": [
    "# ARIMA 모델 학습\n",
    "order=(0,1,1)\n",
    "model=ARIMA(train, order)\n",
    "model.fit()"
   ]
  },
  {
   "cell_type": "code",
   "execution_count": 1,
   "metadata": {},
   "outputs": [
    {
     "ename": "NameError",
     "evalue": "name 'model' is not defined",
     "output_type": "error",
     "traceback": [
      "\u001b[1;31m---------------------------------------------------------------------------\u001b[0m",
      "\u001b[1;31mNameError\u001b[0m                                 Traceback (most recent call last)",
      "\u001b[1;32m<ipython-input-1-6468f60de395>\u001b[0m in \u001b[0;36m<module>\u001b[1;34m\u001b[0m\n\u001b[0;32m      1\u001b[0m \u001b[1;31m# 예측 및 그래프로 나타내기\u001b[0m\u001b[1;33m\u001b[0m\u001b[1;33m\u001b[0m\u001b[1;33m\u001b[0m\u001b[0m\n\u001b[1;32m----> 2\u001b[1;33m \u001b[0mpred\u001b[0m\u001b[1;33m=\u001b[0m\u001b[0mmodel\u001b[0m\u001b[1;33m.\u001b[0m\u001b[0mfit\u001b[0m\u001b[1;33m(\u001b[0m\u001b[1;33m)\u001b[0m\u001b[1;33m.\u001b[0m\u001b[0mpredict\u001b[0m\u001b[1;33m(\u001b[0m\u001b[1;34m'2001-11-13'\u001b[0m\u001b[1;33m,\u001b[0m \u001b[1;34m'2001-11-20'\u001b[0m\u001b[1;33m,\u001b[0m \u001b[0mtyp\u001b[0m\u001b[1;33m=\u001b[0m\u001b[1;34m\"levels\"\u001b[0m\u001b[1;33m)\u001b[0m\u001b[1;33m\u001b[0m\u001b[1;33m\u001b[0m\u001b[0m\n\u001b[0m\u001b[0;32m      3\u001b[0m \u001b[0mplt\u001b[0m\u001b[1;33m.\u001b[0m\u001b[0mplot\u001b[0m\u001b[1;33m(\u001b[0m\u001b[0mtrain\u001b[0m\u001b[1;33m)\u001b[0m\u001b[1;33m\u001b[0m\u001b[1;33m\u001b[0m\u001b[0m\n\u001b[0;32m      4\u001b[0m \u001b[0mplt\u001b[0m\u001b[1;33m.\u001b[0m\u001b[0mplot\u001b[0m\u001b[1;33m(\u001b[0m\u001b[0mpred\u001b[0m\u001b[1;33m,\u001b[0m \u001b[1;34m'r--'\u001b[0m\u001b[1;33m)\u001b[0m \u001b[1;31m# 실제 데이터(test)와 거의 일치\u001b[0m\u001b[1;33m\u001b[0m\u001b[1;33m\u001b[0m\u001b[0m\n\u001b[0;32m      5\u001b[0m \u001b[0mplt\u001b[0m\u001b[1;33m.\u001b[0m\u001b[0mplot\u001b[0m\u001b[1;33m(\u001b[0m\u001b[0mtest\u001b[0m\u001b[1;33m)\u001b[0m\u001b[1;33m\u001b[0m\u001b[1;33m\u001b[0m\u001b[0m\n",
      "\u001b[1;31mNameError\u001b[0m: name 'model' is not defined"
     ]
    }
   ],
   "source": [
    "# 예측 및 그래프로 나타내기\n",
    "pred=model.fit().predict('2001-11-13', '2001-11-20', typ=\"levels\")\n",
    "plt.plot(train) \n",
    "plt.plot(pred, 'r--') # 실제 데이터(test)와 거의 일치\n",
    "plt.plot(test)\n",
    "plt.show()"
   ]
  },
  {
   "cell_type": "code",
   "execution_count": null,
   "metadata": {},
   "outputs": [],
   "source": []
  },
  {
   "cell_type": "code",
   "execution_count": null,
   "metadata": {},
   "outputs": [],
   "source": []
  },
  {
   "cell_type": "code",
   "execution_count": null,
   "metadata": {},
   "outputs": [],
   "source": []
  },
  {
   "cell_type": "code",
   "execution_count": null,
   "metadata": {},
   "outputs": [],
   "source": []
  }
 ],
 "metadata": {
  "kernelspec": {
   "display_name": "Python 3",
   "language": "python",
   "name": "python3"
  },
  "language_info": {
   "codemirror_mode": {
    "name": "ipython",
    "version": 3
   },
   "file_extension": ".py",
   "mimetype": "text/x-python",
   "name": "python",
   "nbconvert_exporter": "python",
   "pygments_lexer": "ipython3",
   "version": "3.7.6"
  }
 },
 "nbformat": 4,
 "nbformat_minor": 4
}
