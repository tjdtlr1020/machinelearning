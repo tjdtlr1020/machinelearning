{
 "cells": [
  {
   "cell_type": "code",
   "execution_count": 151,
   "metadata": {},
   "outputs": [],
   "source": [
    "import pandas as pd\n",
    "\n",
    "from sklearn.preprocessing import StandardScaler, MinMaxScaler\n",
    "from sklearn.pipeline import make_pipeline, Pipeline\n",
    "from sklearn.ensemble import VotingClassifier\n",
    "from sklearn.linear_model import LogisticRegression\n",
    "from sklearn.neighbors import KNeighborsClassifier\n",
    "from sklearn.datasets import load_breast_cancer,load_iris\n",
    "from sklearn.model_selection import train_test_split, GridSearchCV\n",
    "from sklearn.metrics import accuracy_score\n",
    "from sklearn.tree import DecisionTreeClassifier\n",
    "from sklearn.model_selection import cross_val_score,cross_validate\n",
    "\n",
    "from warnings import filterwarnings\n",
    "filterwarnings('ignore')"
   ]
  },
  {
   "cell_type": "markdown",
   "metadata": {},
   "source": [
    "## 앙상블 학습의 유형: 보팅(Voting), 배깅(Bagging), 부스팅(Boosting), 스태킹(Stacking) 등\n",
    "\n",
    "#### 보팅: \n",
    "- 여러 종류의 알고리즘을 사용한 각각의 결과에 대해 투표를 통해 최종 결과를 예측하는 방식\n",
    "\n",
    "#### 배깅\n",
    "- bagging은 bootstrap aggregating의 줄임말\n",
    "- bootstrap:모집단의 성질에 대해 표본을 통해 추정할 수 있는 것처럼, 표본의 성질에 대해서도 재표집(resampling)을 통해 추정할 수 있다는 것이다. 즉 주어진 표본(샘플)에 대해서, 그 샘플에서 또 다시 샘플(재표본)을 여러번(1,000~10,000번, 혹은 그 이상)추출하여 표본의 평균이나 분산 등이 어떤 분포를 가지는가를 알아낼 수 있다.(위키피디아)\n",
    "- 같은 알고리즘에 대해 데이터 샘플을 다르게 두고 학습을 수행해 보팅을 수행하는 방식\n",
    "- 이 때의 데이터 샘플은 중첩이 허용된다. 즉 10000개의 데이터에 대해 10개의 알고리즘이 배깅을 사용할 때,각 1000개의 데이터 내에는 중복된 데이터가 존재할 수 있다. 배깅의 대표적인 방식이 Random Forest\n",
    "- decision tree로 배깅을한것이 Random Froest\n",
    "\n",
    "#### 부스팅:\n",
    "- 여러 개의 알고리즘이 순차적으로 학습을 하되, 앞에 학습한 알고리즘 예측이 틀린 데이터에 대해 올바르게 예측할 수 있도록, 그 다음번 알고리즘에 가중치를 부여하여 (Ada)학습과 예측을 진행하는 방식\n",
    "- 잔여오차를 다시학습(gradient)\n",
    "\n",
    "\n",
    "( 부스팅 알고리즘은 대표적으로 아래와 같은 알고리즘들이 있음)\n",
    "- AdaBoost\n",
    "- Gradient Booting Machine(GBM)\n",
    "- XGBoost\n",
    "- LightGBM\n",
    "- CatBoost\n"
   ]
  },
  {
   "cell_type": "markdown",
   "metadata": {},
   "source": [
    "Hard Vote\n",
    "\n",
    "classification을 예로 들어 보자면, 분류를 예측한 값이 1, 0, 0, 1, 1 이었다고 가정한다면 1이 3표, 0이 2표를 받았기 때문에 Hard Voting 방식에서는 1이 최종 값으로 예측을 하게 됩니다."
   ]
  },
  {
   "cell_type": "markdown",
   "metadata": {},
   "source": [
    "Soft Vote\n",
    "\n",
    "soft vote 방식은 각각의 확률의 평균 값을 계산한다음에 가장 확률이 높은 값으로 확정짓게 됩니다.\n",
    "\n",
    "가령 class 0이 나올 확률이 (0.4, 0.9, 0.9, 0.4, 0.4)이었고, class 1이 나올 확률이 (0.6, 0.1, 0.1, 0.6, 0.6) 이었다면, \n",
    "\n",
    "class 0이 나올 최종 확률은 (0.4+0.9+0.9+0.4+0.4) / 5 = 0.44, class 1이 나올 최종 확률은 \n",
    "\n",
    "(0.6+0.1+0.1+0.6+0.6) / 5 = 0.4 가 되기 때문에 \n",
    "\n",
    "앞선 Hard Vote의 결과와는 다른 결과 값이 최종 으로 선출되게 됩니다."
   ]
  },
  {
   "cell_type": "markdown",
   "metadata": {},
   "source": [
    "# Voting"
   ]
  },
  {
   "cell_type": "code",
   "execution_count": 6,
   "metadata": {},
   "outputs": [],
   "source": [
    "bcancer = load_breast_cancer()"
   ]
  },
  {
   "cell_type": "code",
   "execution_count": 9,
   "metadata": {},
   "outputs": [],
   "source": [
    "x_data = bcancer['data']\n",
    "y_data = bcancer.target"
   ]
  },
  {
   "cell_type": "code",
   "execution_count": 10,
   "metadata": {},
   "outputs": [
    {
     "data": {
      "text/plain": [
       "array([[1.799e+01, 1.038e+01, 1.228e+02, ..., 2.654e-01, 4.601e-01,\n",
       "        1.189e-01],\n",
       "       [2.057e+01, 1.777e+01, 1.329e+02, ..., 1.860e-01, 2.750e-01,\n",
       "        8.902e-02],\n",
       "       [1.969e+01, 2.125e+01, 1.300e+02, ..., 2.430e-01, 3.613e-01,\n",
       "        8.758e-02],\n",
       "       ...,\n",
       "       [1.660e+01, 2.808e+01, 1.083e+02, ..., 1.418e-01, 2.218e-01,\n",
       "        7.820e-02],\n",
       "       [2.060e+01, 2.933e+01, 1.401e+02, ..., 2.650e-01, 4.087e-01,\n",
       "        1.240e-01],\n",
       "       [7.760e+00, 2.454e+01, 4.792e+01, ..., 0.000e+00, 2.871e-01,\n",
       "        7.039e-02]])"
      ]
     },
     "execution_count": 10,
     "metadata": {},
     "output_type": "execute_result"
    }
   ],
   "source": [
    "x_data"
   ]
  },
  {
   "cell_type": "code",
   "execution_count": 14,
   "metadata": {},
   "outputs": [],
   "source": [
    "model_logi = LogisticRegression()\n",
    "model_knn = KNeighborsClassifier()\n",
    "model_tree = DecisionTreeClassifier()\n",
    "model_vote1 = VotingClassifier(estimators = [('LogisticRegression',model_logi),\n",
    "                               ('KNeighborsClassifier',model_knn),\n",
    "                               ('DecisionTreeClassifier',model_tree)],\n",
    "                 voting = 'hard'\n",
    "                )\n",
    "# model_vote.fit(x_train, y_train)\n",
    "cross_val = cross_validate(model_vote, x_train, y_train, cv =5)\n",
    "print(cross_val)\n",
    "model_vote1.fit( x_train, y_train)"
   ]
  },
  {
   "cell_type": "code",
   "execution_count": 15,
   "metadata": {},
   "outputs": [],
   "source": [
    "x_train, x_test, y_train, y_test = train_test_split(bcancer['data'],\n",
    "                                                    bcancer['target'],\n",
    "                                                    test_size = 0.2,\n",
    "                                                    random_state = 1,\n",
    "                                                    stratify = bcancer['target']\n",
    "                                                   )"
   ]
  },
  {
   "cell_type": "code",
   "execution_count": 17,
   "metadata": {},
   "outputs": [
    {
     "data": {
      "text/plain": [
       "VotingClassifier(estimators=[('LogisticRegression',\n",
       "                              LogisticRegression(C=1.0, class_weight=None,\n",
       "                                                 dual=False, fit_intercept=True,\n",
       "                                                 intercept_scaling=1,\n",
       "                                                 l1_ratio=None, max_iter=100,\n",
       "                                                 multi_class='auto',\n",
       "                                                 n_jobs=None, penalty='l2',\n",
       "                                                 random_state=None,\n",
       "                                                 solver='lbfgs', tol=0.0001,\n",
       "                                                 verbose=0, warm_start=False)),\n",
       "                             ('KNeighborsClassifier',\n",
       "                              KNeighborsClassifier(algorithm='auto',...\n",
       "                              DecisionTreeClassifier(ccp_alpha=0.0,\n",
       "                                                     class_weight=None,\n",
       "                                                     criterion='gini',\n",
       "                                                     max_depth=None,\n",
       "                                                     max_features=None,\n",
       "                                                     max_leaf_nodes=None,\n",
       "                                                     min_impurity_decrease=0.0,\n",
       "                                                     min_impurity_split=None,\n",
       "                                                     min_samples_leaf=1,\n",
       "                                                     min_samples_split=2,\n",
       "                                                     min_weight_fraction_leaf=0.0,\n",
       "                                                     presort='deprecated',\n",
       "                                                     random_state=None,\n",
       "                                                     splitter='best'))],\n",
       "                 flatten_transform=True, n_jobs=None, voting='hard',\n",
       "                 weights=None)"
      ]
     },
     "execution_count": 17,
     "metadata": {},
     "output_type": "execute_result"
    }
   ],
   "source": [
    "model_vote.fit(x_train, y_train)"
   ]
  },
  {
   "cell_type": "code",
   "execution_count": 18,
   "metadata": {},
   "outputs": [
    {
     "data": {
      "text/plain": [
       "array([1, 0, 1, 1, 0, 1, 1, 1, 0, 1, 1, 1, 1, 0, 1, 1, 1, 0, 1, 0, 1, 1,\n",
       "       1, 1, 1, 0, 0, 1, 0, 0, 0, 0, 0, 0, 1, 0, 1, 0, 0, 1, 1, 1, 0, 0,\n",
       "       0, 0, 0, 1, 1, 1, 1, 1, 1, 0, 0, 0, 1, 1, 1, 1, 1, 1, 1, 1, 0, 1,\n",
       "       1, 1, 0, 1, 0, 1, 1, 1, 1, 1, 0, 1, 1, 1, 0, 1, 1, 0, 1, 1, 1, 0,\n",
       "       1, 1, 1, 0, 1, 1, 1, 1, 0, 1, 0, 1, 1, 0, 1, 1, 0, 1, 1, 1, 1, 1,\n",
       "       0, 0, 0, 1])"
      ]
     },
     "execution_count": 18,
     "metadata": {},
     "output_type": "execute_result"
    }
   ],
   "source": [
    "model_logi.predict( x_test )"
   ]
  },
  {
   "cell_type": "code",
   "execution_count": 21,
   "metadata": {},
   "outputs": [
    {
     "data": {
      "text/plain": [
       "numpy.ndarray"
      ]
     },
     "execution_count": 21,
     "metadata": {},
     "output_type": "execute_result"
    }
   ],
   "source": [
    "model_logi.fit(x_train, y_train)\n",
    "model_logi.predict( x_test )"
   ]
  },
  {
   "cell_type": "code",
   "execution_count": 24,
   "metadata": {},
   "outputs": [
    {
     "data": {
      "text/plain": [
       "0.9649122807017544"
      ]
     },
     "execution_count": 24,
     "metadata": {},
     "output_type": "execute_result"
    }
   ],
   "source": [
    "model_vote.score( x_test, y_test)"
   ]
  },
  {
   "cell_type": "code",
   "execution_count": 25,
   "metadata": {},
   "outputs": [
    {
     "data": {
      "text/plain": [
       "0.956140350877193"
      ]
     },
     "execution_count": 25,
     "metadata": {},
     "output_type": "execute_result"
    }
   ],
   "source": [
    "model_logi.score(x_test, y_test)"
   ]
  },
  {
   "cell_type": "code",
   "execution_count": 34,
   "metadata": {},
   "outputs": [
    {
     "name": "stdout",
     "output_type": "stream",
     "text": [
      "LogisticRegression 0.956140350877193\n",
      "KNeighborsClassifier 0.956140350877193\n",
      "DecisionTreeClassifier 0.9649122807017544\n"
     ]
    }
   ],
   "source": [
    "for c in [model_logi, model_knn , model_tree]:\n",
    "    c.fit(x_train, y_train)\n",
    "    # 보팅 모델명을 출력하기위한 방법\n",
    "    print(c.__class__.__name__,c.score(x_test,y_test))"
   ]
  },
  {
   "cell_type": "code",
   "execution_count": 35,
   "metadata": {},
   "outputs": [],
   "source": [
    "from sklearn.datasets import load_wine"
   ]
  },
  {
   "cell_type": "code",
   "execution_count": null,
   "metadata": {},
   "outputs": [],
   "source": [
    "# 3개의 분류 클래스를 이용하여 softvoting으로 정확도를 구하시요"
   ]
  },
  {
   "cell_type": "code",
   "execution_count": 36,
   "metadata": {},
   "outputs": [],
   "source": [
    "wine = load_wine()"
   ]
  },
  {
   "cell_type": "code",
   "execution_count": 40,
   "metadata": {},
   "outputs": [
    {
     "data": {
      "text/plain": [
       "array([[1.423e+01, 1.710e+00, 2.430e+00, ..., 1.040e+00, 3.920e+00,\n",
       "        1.065e+03],\n",
       "       [1.320e+01, 1.780e+00, 2.140e+00, ..., 1.050e+00, 3.400e+00,\n",
       "        1.050e+03],\n",
       "       [1.316e+01, 2.360e+00, 2.670e+00, ..., 1.030e+00, 3.170e+00,\n",
       "        1.185e+03],\n",
       "       ...,\n",
       "       [1.327e+01, 4.280e+00, 2.260e+00, ..., 5.900e-01, 1.560e+00,\n",
       "        8.350e+02],\n",
       "       [1.317e+01, 2.590e+00, 2.370e+00, ..., 6.000e-01, 1.620e+00,\n",
       "        8.400e+02],\n",
       "       [1.413e+01, 4.100e+00, 2.740e+00, ..., 6.100e-01, 1.600e+00,\n",
       "        5.600e+02]])"
      ]
     },
     "execution_count": 40,
     "metadata": {},
     "output_type": "execute_result"
    }
   ],
   "source": [
    "x_data = wine.data\n",
    "y_data = wine.target"
   ]
  },
  {
   "cell_type": "code",
   "execution_count": 38,
   "metadata": {},
   "outputs": [],
   "source": [
    "x_train, x_test, y_train, y_test = train_test_split(wine['data'],\n",
    "                                                    wine['target'],\n",
    "                                                    test_size = 0.2,\n",
    "                                                    stratify = wine['target']\n",
    "                                                   )\n"
   ]
  },
  {
   "cell_type": "code",
   "execution_count": 62,
   "metadata": {},
   "outputs": [],
   "source": [
    "model_logi = make_pipeline( StandardScaler(),LogisticRegression() )\n",
    "model_knn = make_pipeline( StandardScaler(),KNeighborsClassifier() )\n",
    "model_tree = make_pipeline( StandardScaler(),DecisionTreeClassifier() )\n"
   ]
  },
  {
   "cell_type": "code",
   "execution_count": 63,
   "metadata": {},
   "outputs": [
    {
     "data": {
      "text/plain": [
       "VotingClassifier(estimators=[('L',\n",
       "                              Pipeline(memory=None,\n",
       "                                       steps=[('standardscaler',\n",
       "                                               StandardScaler(copy=True,\n",
       "                                                              with_mean=True,\n",
       "                                                              with_std=True)),\n",
       "                                              ('logisticregression',\n",
       "                                               LogisticRegression(C=1.0,\n",
       "                                                                  class_weight=None,\n",
       "                                                                  dual=False,\n",
       "                                                                  fit_intercept=True,\n",
       "                                                                  intercept_scaling=1,\n",
       "                                                                  l1_ratio=None,\n",
       "                                                                  max_iter=100,\n",
       "                                                                  multi_class='auto',\n",
       "                                                                  n_jobs=None,\n",
       "                                                                  penalty='l2',\n",
       "                                                                  random_state=None,\n",
       "                                                                  solver='lb...\n",
       "                                               DecisionTreeClassifier(ccp_alpha=0.0,\n",
       "                                                                      class_weight=None,\n",
       "                                                                      criterion='gini',\n",
       "                                                                      max_depth=None,\n",
       "                                                                      max_features=None,\n",
       "                                                                      max_leaf_nodes=None,\n",
       "                                                                      min_impurity_decrease=0.0,\n",
       "                                                                      min_impurity_split=None,\n",
       "                                                                      min_samples_leaf=1,\n",
       "                                                                      min_samples_split=2,\n",
       "                                                                      min_weight_fraction_leaf=0.0,\n",
       "                                                                      presort='deprecated',\n",
       "                                                                      random_state=None,\n",
       "                                                                      splitter='best'))],\n",
       "                                       verbose=False))],\n",
       "                 flatten_transform=True, n_jobs=None, voting='soft',\n",
       "                 weights=None)"
      ]
     },
     "execution_count": 63,
     "metadata": {},
     "output_type": "execute_result"
    }
   ],
   "source": [
    "voted_model = VotingClassifier(estimators = [('L',model_logi),\n",
    "                               ('K',model_knn),\n",
    "                               ('T',model_tree)\n",
    "                              ],\n",
    "                 voting = 'soft'\n",
    "                )\n",
    "\n",
    "voted_model\n"
   ]
  },
  {
   "cell_type": "code",
   "execution_count": 64,
   "metadata": {
    "collapsed": true
   },
   "outputs": [
    {
     "data": {
      "text/plain": [
       "VotingClassifier(estimators=[('L',\n",
       "                              Pipeline(memory=None,\n",
       "                                       steps=[('standardscaler',\n",
       "                                               StandardScaler(copy=True,\n",
       "                                                              with_mean=True,\n",
       "                                                              with_std=True)),\n",
       "                                              ('logisticregression',\n",
       "                                               LogisticRegression(C=1.0,\n",
       "                                                                  class_weight=None,\n",
       "                                                                  dual=False,\n",
       "                                                                  fit_intercept=True,\n",
       "                                                                  intercept_scaling=1,\n",
       "                                                                  l1_ratio=None,\n",
       "                                                                  max_iter=100,\n",
       "                                                                  multi_class='auto',\n",
       "                                                                  n_jobs=None,\n",
       "                                                                  penalty='l2',\n",
       "                                                                  random_state=None,\n",
       "                                                                  solver='lb...\n",
       "                                               DecisionTreeClassifier(ccp_alpha=0.0,\n",
       "                                                                      class_weight=None,\n",
       "                                                                      criterion='gini',\n",
       "                                                                      max_depth=None,\n",
       "                                                                      max_features=None,\n",
       "                                                                      max_leaf_nodes=None,\n",
       "                                                                      min_impurity_decrease=0.0,\n",
       "                                                                      min_impurity_split=None,\n",
       "                                                                      min_samples_leaf=1,\n",
       "                                                                      min_samples_split=2,\n",
       "                                                                      min_weight_fraction_leaf=0.0,\n",
       "                                                                      presort='deprecated',\n",
       "                                                                      random_state=None,\n",
       "                                                                      splitter='best'))],\n",
       "                                       verbose=False))],\n",
       "                 flatten_transform=True, n_jobs=None, voting='soft',\n",
       "                 weights=None)"
      ]
     },
     "execution_count": 64,
     "metadata": {},
     "output_type": "execute_result"
    }
   ],
   "source": [
    "voted_model.fit(x_train, y_train)"
   ]
  },
  {
   "cell_type": "code",
   "execution_count": 58,
   "metadata": {},
   "outputs": [
    {
     "data": {
      "text/plain": [
       "array([0, 0, 0, 1, 1, 0, 0, 1, 0, 0, 0, 2, 1, 1, 1, 0, 2, 1, 1, 0, 2, 0,\n",
       "       2, 1, 2, 1, 2, 1, 2, 2, 1, 0, 2, 0, 1, 2])"
      ]
     },
     "execution_count": 58,
     "metadata": {},
     "output_type": "execute_result"
    }
   ],
   "source": [
    "voted_model.predict(x_test)"
   ]
  },
  {
   "cell_type": "code",
   "execution_count": 65,
   "metadata": {},
   "outputs": [
    {
     "data": {
      "text/plain": [
       "0.9722222222222222"
      ]
     },
     "execution_count": 65,
     "metadata": {},
     "output_type": "execute_result"
    }
   ],
   "source": [
    "voted_model.score(x_test, y_test)"
   ]
  },
  {
   "cell_type": "code",
   "execution_count": 66,
   "metadata": {},
   "outputs": [
    {
     "name": "stdout",
     "output_type": "stream",
     "text": [
      "Pipeline [[9.97459292e-01 1.44741132e-03 1.09329677e-03]\n",
      " [9.99381570e-01 2.41797460e-04 3.76632573e-04]\n",
      " [9.98691693e-01 1.18241834e-04 1.19006535e-03]\n",
      " [1.51428816e-03 9.98470958e-01 1.47543351e-05]\n",
      " [3.64316239e-04 9.99481798e-01 1.53886258e-04]\n",
      " [9.99239031e-01 6.06149099e-04 1.54819558e-04]\n",
      " [9.94482119e-01 5.08127165e-03 4.36609191e-04]\n",
      " [2.23513311e-02 9.77556782e-01 9.18868203e-05]\n",
      " [4.47334155e-01 5.50415434e-01 2.25041064e-03]\n",
      " [9.78697251e-01 1.71868766e-02 4.11587197e-03]\n",
      " [9.99977209e-01 1.86708949e-06 2.09242416e-05]\n",
      " [3.25247760e-04 1.98444331e-03 9.97690309e-01]\n",
      " [1.65422237e-04 9.98053447e-01 1.78113101e-03]\n",
      " [5.20408723e-04 9.99238630e-01 2.40961503e-04]\n",
      " [5.57731720e-04 9.97973269e-01 1.46899960e-03]\n",
      " [9.99859555e-01 1.15503669e-04 2.49410673e-05]\n",
      " [2.01419267e-03 2.85261543e-04 9.97700546e-01]\n",
      " [5.24786402e-02 9.47453266e-01 6.80941557e-05]\n",
      " [1.14083453e-02 9.88101188e-01 4.90466874e-04]\n",
      " [9.99310751e-01 1.10508564e-04 5.78740178e-04]\n",
      " [3.07815119e-03 5.24174937e-04 9.96397674e-01]\n",
      " [9.96797811e-01 1.83780244e-03 1.36438674e-03]\n",
      " [2.57636003e-03 9.10382557e-04 9.96513257e-01]\n",
      " [3.83328570e-03 9.96086988e-01 7.97267126e-05]\n",
      " [7.78503924e-03 5.13626309e-01 4.78588652e-01]\n",
      " [1.94471225e-03 9.97187451e-01 8.67837026e-04]\n",
      " [1.88320451e-03 1.03266955e-04 9.98013529e-01]\n",
      " [5.36368019e-04 9.99280867e-01 1.82765180e-04]\n",
      " [1.02976390e-03 8.34218130e-04 9.98136018e-01]\n",
      " [2.60687402e-02 2.47814791e-01 7.26116469e-01]\n",
      " [7.15986497e-03 9.92813943e-01 2.61915686e-05]\n",
      " [9.98002868e-01 6.41579782e-04 1.35555255e-03]\n",
      " [1.68777531e-03 1.88222859e-02 9.79489939e-01]\n",
      " [9.99970006e-01 1.24864036e-06 2.87452796e-05]\n",
      " [3.21623034e-01 3.96148018e-01 2.82228948e-01]\n",
      " [6.72777309e-04 7.22788475e-04 9.98604434e-01]]\n",
      "Pipeline [[1.  0.  0. ]\n",
      " [1.  0.  0. ]\n",
      " [1.  0.  0. ]\n",
      " [0.  1.  0. ]\n",
      " [0.  1.  0. ]\n",
      " [1.  0.  0. ]\n",
      " [1.  0.  0. ]\n",
      " [0.2 0.8 0. ]\n",
      " [1.  0.  0. ]\n",
      " [1.  0.  0. ]\n",
      " [1.  0.  0. ]\n",
      " [0.  0.  1. ]\n",
      " [0.  1.  0. ]\n",
      " [0.  1.  0. ]\n",
      " [0.  1.  0. ]\n",
      " [1.  0.  0. ]\n",
      " [0.  0.  1. ]\n",
      " [0.2 0.8 0. ]\n",
      " [0.  1.  0. ]\n",
      " [1.  0.  0. ]\n",
      " [0.  0.  1. ]\n",
      " [1.  0.  0. ]\n",
      " [0.  0.  1. ]\n",
      " [0.  1.  0. ]\n",
      " [0.  0.4 0.6]\n",
      " [0.  1.  0. ]\n",
      " [0.  0.  1. ]\n",
      " [0.  1.  0. ]\n",
      " [0.  0.  1. ]\n",
      " [0.  0.2 0.8]\n",
      " [0.  1.  0. ]\n",
      " [1.  0.  0. ]\n",
      " [0.  0.  1. ]\n",
      " [1.  0.  0. ]\n",
      " [0.  0.6 0.4]\n",
      " [0.  0.  1. ]]\n",
      "Pipeline [[1. 0. 0.]\n",
      " [1. 0. 0.]\n",
      " [1. 0. 0.]\n",
      " [0. 1. 0.]\n",
      " [0. 1. 0.]\n",
      " [1. 0. 0.]\n",
      " [1. 0. 0.]\n",
      " [0. 1. 0.]\n",
      " [1. 0. 0.]\n",
      " [0. 1. 0.]\n",
      " [1. 0. 0.]\n",
      " [0. 0. 1.]\n",
      " [0. 1. 0.]\n",
      " [0. 1. 0.]\n",
      " [0. 1. 0.]\n",
      " [1. 0. 0.]\n",
      " [0. 0. 1.]\n",
      " [0. 1. 0.]\n",
      " [0. 1. 0.]\n",
      " [1. 0. 0.]\n",
      " [0. 0. 1.]\n",
      " [1. 0. 0.]\n",
      " [0. 0. 1.]\n",
      " [0. 1. 0.]\n",
      " [0. 0. 1.]\n",
      " [0. 1. 0.]\n",
      " [0. 0. 1.]\n",
      " [0. 1. 0.]\n",
      " [0. 0. 1.]\n",
      " [0. 1. 0.]\n",
      " [0. 1. 0.]\n",
      " [1. 0. 0.]\n",
      " [0. 0. 1.]\n",
      " [1. 0. 0.]\n",
      " [0. 1. 0.]\n",
      " [0. 0. 1.]]\n"
     ]
    }
   ],
   "source": [
    "for c in [model_logi, model_knn , model_tree]:\n",
    "    c.fit(x_train, y_train)\n",
    "    # 보팅 모델명을 출력하기위한 방법\n",
    "    print(c.__class__.__name__,c.predict_proba(x_test))"
   ]
  },
  {
   "cell_type": "code",
   "execution_count": null,
   "metadata": {},
   "outputs": [],
   "source": [
    "model_logi.predict_proba()"
   ]
  },
  {
   "cell_type": "code",
   "execution_count": 67,
   "metadata": {},
   "outputs": [
    {
     "name": "stdout",
     "output_type": "stream",
     "text": [
      "Pipeline 0.9722222222222222\n",
      "Pipeline 0.9444444444444444\n",
      "Pipeline 0.8055555555555556\n"
     ]
    }
   ],
   "source": [
    "# 김민지\n",
    "wine = load_wine()\n",
    "x_data = wine['data']\n",
    "y_data = wine['target']\n",
    "\n",
    "x_train, x_test, y_train, y_test = train_test_split(wine['data'], wine['target'],\n",
    "                                                   test_size=0.2, stratify=wine['target'])\n",
    "\n",
    "model_logi = make_pipeline(StandardScaler(), LogisticRegression())\n",
    "model_knn = make_pipeline(StandardScaler(), KNeighborsClassifier())\n",
    "model_tree = make_pipeline(StandardScaler(), DecisionTreeClassifier())\n",
    "\n",
    "model_vote = VotingClassifier(estimators=[('logi', model_logi), ('knn', model_knn), \n",
    "                                          ('tree', model_tree)], voting='soft')\n",
    "\n",
    "model_vote.fit(x_train, y_train)\n",
    "\n",
    "for c in [model_logi, model_knn, model_tree] :\n",
    "    c.fit(x_train, y_train)\n",
    "    print(c.__class__.__name__, c.score(x_test, y_test))\n"
   ]
  },
  {
   "cell_type": "markdown",
   "metadata": {},
   "source": [
    "# Bagging: bootstrap aggregating"
   ]
  },
  {
   "cell_type": "code",
   "execution_count": 72,
   "metadata": {},
   "outputs": [],
   "source": [
    "from sklearn.ensemble import BaggingClassifier, RandomForestClassifier # decisiontree용\n",
    "from sklearn.model_selection import cross_validate"
   ]
  },
  {
   "cell_type": "code",
   "execution_count": 69,
   "metadata": {},
   "outputs": [],
   "source": [
    "model_knn = make_pipeline( StandardScaler(),KNeighborsClassifier() )"
   ]
  },
  {
   "cell_type": "code",
   "execution_count": 70,
   "metadata": {},
   "outputs": [],
   "source": [
    "# BaggingClassifier( 모델명, 몇개의 모델을반복할건지, max_samples = (실수:퍼센트로,\n",
    "#                                                     정수:그 수만큼),\n",
    "#                                                     max_features = sample과같다 )\n",
    "# bootstrap = True : 복원추출\n",
    "# 결론 10개의 knn을 생성하고 그 모델들의 샘플은 전체의 0.5 이다\n",
    "model_bagg = BaggingClassifier(model_knn ,n_estimators = 10, max_samples = 0.5)"
   ]
  },
  {
   "cell_type": "code",
   "execution_count": 71,
   "metadata": {},
   "outputs": [
    {
     "data": {
      "text/plain": [
       "BaggingClassifier(base_estimator=Pipeline(memory=None,\n",
       "                                          steps=[('standardscaler',\n",
       "                                                  StandardScaler(copy=True,\n",
       "                                                                 with_mean=True,\n",
       "                                                                 with_std=True)),\n",
       "                                                 ('kneighborsclassifier',\n",
       "                                                  KNeighborsClassifier(algorithm='auto',\n",
       "                                                                       leaf_size=30,\n",
       "                                                                       metric='minkowski',\n",
       "                                                                       metric_params=None,\n",
       "                                                                       n_jobs=None,\n",
       "                                                                       n_neighbors=5,\n",
       "                                                                       p=2,\n",
       "                                                                       weights='uniform'))],\n",
       "                                          verbose=False),\n",
       "                  bootstrap=True, bootstrap_features=False, max_features=1.0,\n",
       "                  max_samples=0.5, n_estimators=10, n_jobs=None,\n",
       "                  oob_score=False, random_state=None, verbose=0,\n",
       "                  warm_start=False)"
      ]
     },
     "execution_count": 71,
     "metadata": {},
     "output_type": "execute_result"
    }
   ],
   "source": [
    "model_bagg.fit( x_train, y_train )"
   ]
  },
  {
   "cell_type": "code",
   "execution_count": 83,
   "metadata": {},
   "outputs": [
    {
     "data": {
      "text/plain": [
       "{'fit_time': array([0.01196361, 0.01196766, 0.01196051, 0.01196814, 0.01195765,\n",
       "        0.0129652 , 0.01196766, 0.01196814, 0.01196694, 0.01097059]),\n",
       " 'score_time': array([0.00498605, 0.00599194, 0.00498605, 0.00499725, 0.00498629,\n",
       "        0.004987  , 0.00498676, 0.00498676, 0.00399041, 0.00498676]),\n",
       " 'test_score': array([0.93333333, 0.86666667, 1.        , 1.        , 1.        ,\n",
       "        0.92857143, 0.92857143, 1.        , 0.92857143, 0.92857143])}"
      ]
     },
     "execution_count": 83,
     "metadata": {},
     "output_type": "execute_result"
    }
   ],
   "source": [
    "# cv = 5 디폴트값\n",
    "model_cross = cross_validate( model_bagg , X = x_train,y = y_train, cv = 10)\n",
    "model_cross"
   ]
  },
  {
   "cell_type": "code",
   "execution_count": 87,
   "metadata": {},
   "outputs": [
    {
     "name": "stdout",
     "output_type": "stream",
     "text": [
      "[0.93333333 0.86666667 1.         1.         1.         0.92857143\n",
      " 0.92857143 1.         0.92857143 0.92857143]\n",
      "0.9514285714285714\n"
     ]
    }
   ],
   "source": [
    "print( model_cross['test_score'] )\n",
    "print( model_cross['test_score'].mean() )"
   ]
  },
  {
   "cell_type": "code",
   "execution_count": 85,
   "metadata": {
    "collapsed": true
   },
   "outputs": [
    {
     "data": {
      "text/plain": [
       "BaggingClassifier(base_estimator=Pipeline(memory=None,\n",
       "                                          steps=[('standardscaler',\n",
       "                                                  StandardScaler(copy=True,\n",
       "                                                                 with_mean=True,\n",
       "                                                                 with_std=True)),\n",
       "                                                 ('kneighborsclassifier',\n",
       "                                                  KNeighborsClassifier(algorithm='auto',\n",
       "                                                                       leaf_size=30,\n",
       "                                                                       metric='minkowski',\n",
       "                                                                       metric_params=None,\n",
       "                                                                       n_jobs=None,\n",
       "                                                                       n_neighbors=5,\n",
       "                                                                       p=2,\n",
       "                                                                       weights='uniform'))],\n",
       "                                          verbose=False),\n",
       "                  bootstrap=True, bootstrap_features=False, max_features=1.0,\n",
       "                  max_samples=0.5, n_estimators=10, n_jobs=None,\n",
       "                  oob_score=False, random_state=None, verbose=0,\n",
       "                  warm_start=False)"
      ]
     },
     "execution_count": 85,
     "metadata": {},
     "output_type": "execute_result"
    }
   ],
   "source": [
    "model_bagg.fit( x_train, y_train)"
   ]
  },
  {
   "cell_type": "code",
   "execution_count": 78,
   "metadata": {},
   "outputs": [
    {
     "data": {
      "text/plain": [
       "array([2, 2, 1, 1, 1, 1, 2, 0, 1, 1, 1, 0, 2, 0, 0, 0, 0, 1, 2, 2, 2, 0,\n",
       "       2, 2, 0, 0, 2, 1, 1, 0, 1, 2, 1, 0, 1, 0])"
      ]
     },
     "execution_count": 78,
     "metadata": {},
     "output_type": "execute_result"
    }
   ],
   "source": [
    "model_bagg.predict( x_test)"
   ]
  },
  {
   "cell_type": "code",
   "execution_count": 79,
   "metadata": {},
   "outputs": [
    {
     "data": {
      "text/plain": [
       "0.9722222222222222"
      ]
     },
     "execution_count": 79,
     "metadata": {},
     "output_type": "execute_result"
    }
   ],
   "source": [
    "model_bagg.score( x_test, y_test )"
   ]
  },
  {
   "cell_type": "markdown",
   "metadata": {},
   "source": [
    "# randomforest( Decision tree+ bagging)"
   ]
  },
  {
   "cell_type": "code",
   "execution_count": null,
   "metadata": {},
   "outputs": [],
   "source": [
    "# decision tree에 배깅을 적용"
   ]
  },
  {
   "cell_type": "code",
   "execution_count": 88,
   "metadata": {},
   "outputs": [],
   "source": [
    "forest = RandomForestClassifier()"
   ]
  },
  {
   "cell_type": "code",
   "execution_count": 89,
   "metadata": {
    "collapsed": true
   },
   "outputs": [
    {
     "data": {
      "text/plain": [
       "RandomForestClassifier(bootstrap=True, ccp_alpha=0.0, class_weight=None,\n",
       "                       criterion='gini', max_depth=None, max_features='auto',\n",
       "                       max_leaf_nodes=None, max_samples=None,\n",
       "                       min_impurity_decrease=0.0, min_impurity_split=None,\n",
       "                       min_samples_leaf=1, min_samples_split=2,\n",
       "                       min_weight_fraction_leaf=0.0, n_estimators=100,\n",
       "                       n_jobs=None, oob_score=False, random_state=None,\n",
       "                       verbose=0, warm_start=False)"
      ]
     },
     "execution_count": 89,
     "metadata": {},
     "output_type": "execute_result"
    }
   ],
   "source": [
    "forest.fit(x_train, y_train)"
   ]
  },
  {
   "cell_type": "code",
   "execution_count": 90,
   "metadata": {},
   "outputs": [
    {
     "data": {
      "text/plain": [
       "array([2, 2, 1, 1, 1, 1, 1, 0, 1, 1, 1, 0, 2, 0, 0, 0, 0, 1, 2, 2, 2, 0,\n",
       "       2, 2, 0, 0, 2, 1, 1, 0, 1, 2, 1, 0, 1, 0])"
      ]
     },
     "execution_count": 90,
     "metadata": {},
     "output_type": "execute_result"
    }
   ],
   "source": [
    "forest.predict( x_test)"
   ]
  },
  {
   "cell_type": "code",
   "execution_count": 91,
   "metadata": {},
   "outputs": [
    {
     "data": {
      "text/plain": [
       "1.0"
      ]
     },
     "execution_count": 91,
     "metadata": {},
     "output_type": "execute_result"
    }
   ],
   "source": [
    "forest.score( x_test, y_test)"
   ]
  },
  {
   "cell_type": "markdown",
   "metadata": {},
   "source": [
    "# boosting"
   ]
  },
  {
   "cell_type": "code",
   "execution_count": 92,
   "metadata": {},
   "outputs": [],
   "source": [
    "from sklearn.ensemble import AdaBoostClassifier, GradientBoostingClassifier"
   ]
  },
  {
   "cell_type": "code",
   "execution_count": 94,
   "metadata": {
    "collapsed": true
   },
   "outputs": [
    {
     "data": {
      "text/plain": [
       "AdaBoostClassifier(algorithm='SAMME.R',\n",
       "                   base_estimator=DecisionTreeClassifier(ccp_alpha=0.0,\n",
       "                                                         class_weight=None,\n",
       "                                                         criterion='entropy',\n",
       "                                                         max_depth=1,\n",
       "                                                         max_features=None,\n",
       "                                                         max_leaf_nodes=None,\n",
       "                                                         min_impurity_decrease=0.0,\n",
       "                                                         min_impurity_split=None,\n",
       "                                                         min_samples_leaf=1,\n",
       "                                                         min_samples_split=2,\n",
       "                                                         min_weight_fraction_leaf=0.0,\n",
       "                                                         presort='deprecated',\n",
       "                                                         random_state=None,\n",
       "                                                         splitter='best'),\n",
       "                   learning_rate=1.0, n_estimators=50, random_state=None)"
      ]
     },
     "execution_count": 94,
     "metadata": {},
     "output_type": "execute_result"
    }
   ],
   "source": [
    "tree = DecisionTreeClassifier(max_depth = 1, criterion = 'entropy')\n",
    "model_ada = AdaBoostClassifier( tree )\n",
    "model_ada.fit( x_train, y_train )"
   ]
  },
  {
   "cell_type": "code",
   "execution_count": 95,
   "metadata": {},
   "outputs": [
    {
     "data": {
      "text/plain": [
       "array([2, 1, 1, 1, 2, 1, 2, 0, 1, 1, 1, 0, 2, 0, 1, 0, 0, 1, 2, 2, 2, 0,\n",
       "       2, 2, 0, 1, 2, 1, 1, 0, 2, 2, 1, 0, 1, 0])"
      ]
     },
     "execution_count": 95,
     "metadata": {},
     "output_type": "execute_result"
    }
   ],
   "source": [
    "model_ada.predict(x_test)"
   ]
  },
  {
   "cell_type": "code",
   "execution_count": 96,
   "metadata": {},
   "outputs": [
    {
     "data": {
      "text/plain": [
       "0.8333333333333334"
      ]
     },
     "execution_count": 96,
     "metadata": {},
     "output_type": "execute_result"
    }
   ],
   "source": [
    "model_ada.score( x_test, y_test)"
   ]
  },
  {
   "cell_type": "markdown",
   "metadata": {},
   "source": [
    "# 연습문제"
   ]
  },
  {
   "cell_type": "code",
   "execution_count": 97,
   "metadata": {},
   "outputs": [],
   "source": [
    "# iris 데이터 셋을 이용하여 logistic에 bagging과 boosting을 적용하여 \n",
    "# 정확도를 구하고 roc커브를 그리시오."
   ]
  },
  {
   "cell_type": "code",
   "execution_count": 99,
   "metadata": {},
   "outputs": [],
   "source": [
    "iris = load_iris"
   ]
  },
  {
   "cell_type": "code",
   "execution_count": null,
   "metadata": {},
   "outputs": [],
   "source": [
    "x_data = iris.data\n",
    "y_data = iris.target"
   ]
  },
  {
   "cell_type": "code",
   "execution_count": 100,
   "metadata": {},
   "outputs": [],
   "source": [
    "x_train, x_test, y_train, y_test = \\\n",
    "train_test_split(x_data, y_data, test_size = 0.2 , stratify = y_data)"
   ]
  },
  {
   "cell_type": "code",
   "execution_count": 159,
   "metadata": {},
   "outputs": [],
   "source": [
    "# 파이프라인 적용 해서 c값만 그리드 서치로 찾기 \n",
    "model_Lo = make_pipeline(StandardScaler() , LogisticRegression())\n",
    "param = { \n",
    "          'logisticregression__C': [i for i in range(1,10,2)],\n",
    "        }\n",
    "model_Lo1 = GridSearchCV(model_Lo, param_grid=param ,scoring = 'f1_macro')"
   ]
  },
  {
   "cell_type": "code",
   "execution_count": 161,
   "metadata": {},
   "outputs": [],
   "source": [
    "# 배깅을 적용해서 lo2로 저장\n",
    "model_Lo2 = BaggingClassifier(model_Lo1 ,n_estimators = 10, max_samples = 0.5)\n"
   ]
  },
  {
   "cell_type": "code",
   "execution_count": 125,
   "metadata": {
    "collapsed": true
   },
   "outputs": [
    {
     "data": {
      "text/plain": [
       "BaggingClassifier(base_estimator=GridSearchCV(cv=None, error_score=nan,\n",
       "                                              estimator=Pipeline(memory=None,\n",
       "                                                                 steps=[('standardscaler',\n",
       "                                                                         StandardScaler(copy=True,\n",
       "                                                                                        with_mean=True,\n",
       "                                                                                        with_std=True)),\n",
       "                                                                        ('logisticregression',\n",
       "                                                                         LogisticRegression(C=1.0,\n",
       "                                                                                            class_weight=None,\n",
       "                                                                                            dual=False,\n",
       "                                                                                            fit_intercept=True,\n",
       "                                                                                            intercept_scaling=1,\n",
       "                                                                                            l1_ratio=None,\n",
       "                                                                                            max_iter=100,\n",
       "                                                                                            multi_class='auto',\n",
       "                                                                                            n_jobs=...\n",
       "                                                                                            warm_start=False))],\n",
       "                                                                 verbose=False),\n",
       "                                              iid='deprecated', n_jobs=None,\n",
       "                                              param_grid={'logisticregression__C': [1,\n",
       "                                                                                    3,\n",
       "                                                                                    5,\n",
       "                                                                                    7,\n",
       "                                                                                    9]},\n",
       "                                              pre_dispatch='2*n_jobs',\n",
       "                                              refit=True,\n",
       "                                              return_train_score=False,\n",
       "                                              scoring='f1_macro', verbose=0),\n",
       "                  bootstrap=True, bootstrap_features=False, max_features=1.0,\n",
       "                  max_samples=0.5, n_estimators=10, n_jobs=None,\n",
       "                  oob_score=False, random_state=None, verbose=0,\n",
       "                  warm_start=False)"
      ]
     },
     "execution_count": 125,
     "metadata": {},
     "output_type": "execute_result"
    }
   ],
   "source": [
    "model_Lo2.fit( x_train, y_train )"
   ]
  },
  {
   "cell_type": "code",
   "execution_count": 152,
   "metadata": {},
   "outputs": [
    {
     "ename": "AttributeError",
     "evalue": "'dict' object has no attribute 'mean'",
     "output_type": "error",
     "traceback": [
      "\u001b[1;31m---------------------------------------------------------------------------\u001b[0m",
      "\u001b[1;31mAttributeError\u001b[0m                            Traceback (most recent call last)",
      "\u001b[1;32m<ipython-input-152-31fe83539c50>\u001b[0m in \u001b[0;36m<module>\u001b[1;34m\u001b[0m\n\u001b[0;32m      1\u001b[0m \u001b[0mmodel_cross\u001b[0m \u001b[1;33m=\u001b[0m \u001b[0mcross_validate\u001b[0m\u001b[1;33m(\u001b[0m \u001b[0mmodel_Lo2\u001b[0m \u001b[1;33m,\u001b[0m \u001b[0mX\u001b[0m \u001b[1;33m=\u001b[0m \u001b[0mx_train\u001b[0m\u001b[1;33m,\u001b[0m\u001b[0my\u001b[0m \u001b[1;33m=\u001b[0m \u001b[0my_train\u001b[0m\u001b[1;33m,\u001b[0m \u001b[0mcv\u001b[0m \u001b[1;33m=\u001b[0m \u001b[1;36m10\u001b[0m\u001b[1;33m)\u001b[0m\u001b[1;33m\u001b[0m\u001b[1;33m\u001b[0m\u001b[0m\n\u001b[1;32m----> 2\u001b[1;33m \u001b[0mmodel_cross\u001b[0m\u001b[1;33m.\u001b[0m\u001b[0mmean\u001b[0m\u001b[1;33m(\u001b[0m\u001b[1;33m)\u001b[0m\u001b[1;33m\u001b[0m\u001b[1;33m\u001b[0m\u001b[0m\n\u001b[0m",
      "\u001b[1;31mAttributeError\u001b[0m: 'dict' object has no attribute 'mean'"
     ]
    }
   ],
   "source": [
    "model_cross = cross_validate( model_Lo2 , X = x_train,y = y_train, cv = 10)\n"
   ]
  },
  {
   "cell_type": "code",
   "execution_count": 155,
   "metadata": {},
   "outputs": [
    {
     "data": {
      "text/plain": [
       "0.9928571428571429"
      ]
     },
     "execution_count": 155,
     "metadata": {},
     "output_type": "execute_result"
    }
   ],
   "source": [
    "model_cross['test_score'].mean()"
   ]
  },
  {
   "cell_type": "code",
   "execution_count": 146,
   "metadata": {},
   "outputs": [],
   "source": [
    "from sklearn.datasets import load_breast_cancer\n",
    "import matplotlib.pyplot as plt"
   ]
  },
  {
   "cell_type": "markdown",
   "metadata": {},
   "source": [
    "## 연습문제 -2 cancer데이터는 boosting으로"
   ]
  },
  {
   "cell_type": "code",
   "execution_count": 128,
   "metadata": {},
   "outputs": [],
   "source": [
    "# cancer data\n",
    "cancer  = load_breast_cancer()"
   ]
  },
  {
   "cell_type": "code",
   "execution_count": 129,
   "metadata": {},
   "outputs": [],
   "source": [
    "x1_data = cancer.data\n",
    "y1_data = cancer.target"
   ]
  },
  {
   "cell_type": "code",
   "execution_count": 130,
   "metadata": {},
   "outputs": [],
   "source": [
    "x1_train, x1_test, y1_train, y1_test = \\\n",
    "train_test_split(x1_data, y1_data, test_size = 0.2 , stratify = y1_data)"
   ]
  },
  {
   "cell_type": "code",
   "execution_count": 132,
   "metadata": {},
   "outputs": [
    {
     "data": {
      "text/plain": [
       "AdaBoostClassifier(algorithm='SAMME.R',\n",
       "                   base_estimator=LogisticRegression(C=1.0, class_weight=None,\n",
       "                                                     dual=False,\n",
       "                                                     fit_intercept=True,\n",
       "                                                     intercept_scaling=1,\n",
       "                                                     l1_ratio=None,\n",
       "                                                     max_iter=100,\n",
       "                                                     multi_class='auto',\n",
       "                                                     n_jobs=None, penalty='l2',\n",
       "                                                     random_state=None,\n",
       "                                                     solver='lbfgs', tol=0.0001,\n",
       "                                                     verbose=0,\n",
       "                                                     warm_start=False),\n",
       "                   learning_rate=1.0, n_estimators=50, random_state=None)"
      ]
     },
     "execution_count": 132,
     "metadata": {},
     "output_type": "execute_result"
    }
   ],
   "source": [
    "mo = LogisticRegression() \n",
    "mo_ada = AdaBoostClassifier( mo )\n",
    "mo_ada.fit(x1_train, y1_train)"
   ]
  },
  {
   "cell_type": "code",
   "execution_count": 133,
   "metadata": {},
   "outputs": [
    {
     "data": {
      "text/plain": [
       "0.956140350877193"
      ]
     },
     "execution_count": 133,
     "metadata": {},
     "output_type": "execute_result"
    }
   ],
   "source": [
    "mo_ada.score(x1_test, y1_test)"
   ]
  },
  {
   "cell_type": "code",
   "execution_count": 135,
   "metadata": {},
   "outputs": [
    {
     "data": {
      "text/plain": [
       "array([1, 1, 1, 1, 1, 1, 1, 1, 1, 1, 0, 0, 1, 1, 0, 0, 1, 0, 1, 0, 1, 0,\n",
       "       1, 0, 0, 1, 1, 0, 1, 0, 1, 1, 1, 1, 0, 1, 1, 1, 0, 1, 1, 1, 1, 0,\n",
       "       1, 0, 1, 0, 1, 1, 1, 1, 0, 0, 1, 0, 1, 1, 1, 1, 0, 1, 0, 0, 0, 1,\n",
       "       0, 1, 1, 1, 1, 1, 1, 1, 0, 1, 0, 0, 1, 1, 0, 0, 0, 0, 0, 1, 1, 1,\n",
       "       0, 1, 1, 0, 1, 0, 1, 1, 0, 0, 1, 0, 1, 1, 0, 1, 0, 1, 1, 1, 1, 0,\n",
       "       0, 0, 1, 1])"
      ]
     },
     "execution_count": 135,
     "metadata": {},
     "output_type": "execute_result"
    }
   ],
   "source": [
    "mo_ada.predict(x1_test)"
   ]
  },
  {
   "cell_type": "code",
   "execution_count": 134,
   "metadata": {},
   "outputs": [],
   "source": [
    "import sklearn.metrics as metrics"
   ]
  },
  {
   "cell_type": "code",
   "execution_count": 140,
   "metadata": {},
   "outputs": [
    {
     "data": {
      "text/plain": [
       "(114,)"
      ]
     },
     "execution_count": 140,
     "metadata": {},
     "output_type": "execute_result"
    }
   ],
   "source": [
    "x1_test.shape\n",
    "mo_ada.predict(x1_test).shape"
   ]
  },
  {
   "cell_type": "code",
   "execution_count": 142,
   "metadata": {
    "scrolled": true
   },
   "outputs": [
    {
     "data": {
      "text/plain": [
       "array([[40,  2],\n",
       "       [ 3, 69]], dtype=int64)"
      ]
     },
     "execution_count": 142,
     "metadata": {},
     "output_type": "execute_result"
    }
   ],
   "source": [
    "cm = metrics.confusion_matrix(y1_test, mo_ada.predict(x1_test))\n",
    "cm"
   ]
  },
  {
   "cell_type": "code",
   "execution_count": 149,
   "metadata": {},
   "outputs": [],
   "source": [
    "proba = mo_ada.predict_proba( x1_test)"
   ]
  },
  {
   "cell_type": "code",
   "execution_count": 150,
   "metadata": {},
   "outputs": [
    {
     "data": {
      "image/png": "[encoded data removed]",
      "text/plain": [
       "<Figure size 432x288 with 1 Axes>"
      ]
     },
     "metadata": {
      "needs_background": "light"
     },
     "output_type": "display_data"
    }
   ],
   "source": [
    "fpr, tpr, threasholds = metrics.roc_curve(y1_test, proba[:,1])\n",
    "plt.plot( fpr, tpr, 'r--',label='logistic')\n",
    "plt.plot( [0,1], [0,1], 'k--', label='guess')\n",
    "plt.xlabel( 'FPR')\n",
    "plt.ylabel('TPR')\n",
    "plt.legend()\n",
    "plt.show()"
   ]
  },
  {
   "cell_type": "code",
   "execution_count": 163,
   "metadata": {},
   "outputs": [
    {
     "data": {
      "text/plain": [
       "VotingClassifier(estimators=[('ada',\n",
       "                              AdaBoostClassifier(algorithm='SAMME.R',\n",
       "                                                 base_estimator=None,\n",
       "                                                 learning_rate=1.0,\n",
       "                                                 n_estimators=50,\n",
       "                                                 random_state=None)),\n",
       "                             ('bc',\n",
       "                              BaggingClassifier(base_estimator=None,\n",
       "                                                bootstrap=True,\n",
       "                                                bootstrap_features=False,\n",
       "                                                max_features=1.0,\n",
       "                                                max_samples=1.0,\n",
       "                                                n_estimators=10, n_jobs=None,\n",
       "                                                oob_score=False,\n",
       "                                                random_state=None, verbose=0,\n",
       "                                                warm_start=F...\n",
       "                                                     min_impurity_split=None,\n",
       "                                                     min_samples_leaf=1,\n",
       "                                                     min_samples_split=2,\n",
       "                                                     min_weight_fraction_leaf=0.0,\n",
       "                                                     presort='deprecated',\n",
       "                                                     random_state=None,\n",
       "                                                     splitter='best')),\n",
       "                             ('knn',\n",
       "                              KNeighborsClassifier(algorithm='auto',\n",
       "                                                   leaf_size=30,\n",
       "                                                   metric='minkowski',\n",
       "                                                   metric_params=None,\n",
       "                                                   n_jobs=None, n_neighbors=5,\n",
       "                                                   p=2, weights='uniform'))],\n",
       "                 flatten_transform=True, n_jobs=None, voting='soft',\n",
       "                 weights=None)"
      ]
     },
     "execution_count": 163,
     "metadata": {},
     "output_type": "execute_result"
    }
   ],
   "source": [
    "models = [('ada',AdaBoostClassifier()), \n",
    "          ('bc',BaggingClassifier()),\n",
    "          ('logi',LogisticRegression()),\n",
    "          ('tree',DecisionTreeClassifier()),\n",
    "          ('knn',KNeighborsClassifier())\n",
    "         ]\n",
    "\n",
    "model_vote = VotingClassifier( models, voting = 'soft')\n",
    "model_vote.fit( x1_train, y1_train )"
   ]
  },
  {
   "cell_type": "code",
   "execution_count": 164,
   "metadata": {},
   "outputs": [
    {
     "data": {
      "text/plain": [
       "0.9473684210526315"
      ]
     },
     "execution_count": 164,
     "metadata": {},
     "output_type": "execute_result"
    }
   ],
   "source": [
    "# 정확도\n",
    "model_vote.score(x1_test, y1_test)"
   ]
  },
  {
   "cell_type": "code",
   "execution_count": null,
   "metadata": {},
   "outputs": [],
   "source": []
  }
 ],
 "metadata": {
  "kernelspec": {
   "display_name": "Python 3",
   "language": "python",
   "name": "python3"
  },
  "language_info": {
   "codemirror_mode": {
    "name": "ipython",
    "version": 3
   },
   "file_extension": ".py",
   "mimetype": "text/x-python",
   "name": "python",
   "nbconvert_exporter": "python",
   "pygments_lexer": "ipython3",
   "version": "3.7.6"
  }
 },
 "nbformat": 4,
 "nbformat_minor": 4
}
