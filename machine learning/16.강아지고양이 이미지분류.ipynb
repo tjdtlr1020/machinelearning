{
 "cells": [
  {
   "cell_type": "code",
   "execution_count": 1,
   "metadata": {},
   "outputs": [],
   "source": [
    "import numpy as np \n",
    "import pandas as pd \n",
    "import seaborn as sb \n",
    "import matplotlib.pyplot as plt\n",
    "import mglearn\n",
    "from sklearn.model_selection import train_test_split\n",
    "from sklearn.neural_network import MLPClassifier\n",
    "from sklearn.linear_model import LogisticRegression\n",
    "\n",
    "from sklearn.datasets import fetch_openml\n",
    "\n",
    "import warnings\n",
    "warnings.simplefilter('ignore')"
   ]
  },
  {
   "cell_type": "code",
   "execution_count": 2,
   "metadata": {},
   "outputs": [],
   "source": [
    "# 이미지를 읽어서 매트릭스로 바꾸기위해 필요한 모듈\n",
    "from tensorflow.keras.preprocessing.image import ImageDataGenerator"
   ]
  },
  {
   "cell_type": "code",
   "execution_count": 3,
   "metadata": {},
   "outputs": [
    {
     "name": "stdout",
     "output_type": "stream",
     "text": [
      "Found 32 images belonging to 2 classes.\n"
     ]
    }
   ],
   "source": [
    "# class_mode 인자가 sparse이면 라벨인코더로 반환한다\n",
    "data_generator = ImageDataGenerator( rescale = 1./255)\n",
    "traingen = data_generator.flow_from_directory('../myimg',target_size = (98,98),\n",
    "                                             class_mode = 'sparse',\n",
    "                                             seed = 1\n",
    "                                             )"
   ]
  },
  {
   "cell_type": "code",
   "execution_count": 19,
   "metadata": {},
   "outputs": [],
   "source": [
    "x_train, y_train = traingen.next()"
   ]
  },
  {
   "cell_type": "code",
   "execution_count": 20,
   "metadata": {},
   "outputs": [
    {
     "data": {
      "text/plain": [
       "(32, 98, 98, 3)"
      ]
     },
     "execution_count": 20,
     "metadata": {},
     "output_type": "execute_result"
    }
   ],
   "source": [
    "# (이미지개수, 이미지크기,이미지크기, colordex값  = rgb일경우 3)\n",
    "#                                                 = greayscale = 1)\n",
    "# (98,98)크기의 이미지가 3개가겹처서 1개의 이미지가 됨\n",
    "x_train.shape"
   ]
  },
  {
   "cell_type": "code",
   "execution_count": 21,
   "metadata": {},
   "outputs": [
    {
     "data": {
      "text/plain": [
       "array([1., 0., 1., 1., 1., 1., 1., 1., 1., 0., 1., 0., 1., 1., 0., 0., 1.,\n",
       "       0., 0., 0., 1., 0., 1., 0., 0., 1., 1., 0., 0., 0., 0., 0.],\n",
       "      dtype=float32)"
      ]
     },
     "execution_count": 21,
     "metadata": {},
     "output_type": "execute_result"
    }
   ],
   "source": [
    "y_train"
   ]
  },
  {
   "cell_type": "code",
   "execution_count": 22,
   "metadata": {},
   "outputs": [
    {
     "data": {
      "text/plain": [
       "array([1., 0., 1., 1., 1., 1., 1., 1., 1., 0., 1., 0., 1., 1., 0., 0., 1.,\n",
       "       0., 0., 0., 1., 0., 1., 0., 0., 1., 1., 0., 0., 0., 0., 0.],\n",
       "      dtype=float32)"
      ]
     },
     "execution_count": 22,
     "metadata": {},
     "output_type": "execute_result"
    }
   ],
   "source": [
    "# 원핫인코딩일경우\n",
    "# cat : [1,0]\n",
    "# dog : [0,1]\n",
    "# 라벨인코딩일경우\n",
    "# cat = 0\n",
    "# dog = 1\n",
    "y_train"
   ]
  },
  {
   "cell_type": "code",
   "execution_count": 37,
   "metadata": {},
   "outputs": [
    {
     "data": {
      "image/png": "[encoded data removed]",
      "text/plain": [
       "<Figure size 432x288 with 1 Axes>"
      ]
     },
     "metadata": {
      "needs_background": "light"
     },
     "output_type": "display_data"
    }
   ],
   "source": [
    "plt.imshow(x_train[0])\n",
    "plt.show()"
   ]
  },
  {
   "cell_type": "code",
   "execution_count": 31,
   "metadata": {},
   "outputs": [],
   "source": [
    "model = MLPClassifier( verbose = 1 )"
   ]
  },
  {
   "cell_type": "code",
   "execution_count": 33,
   "metadata": {},
   "outputs": [
    {
     "data": {
      "text/plain": [
       "(32, 28812)"
      ]
     },
     "execution_count": 33,
     "metadata": {},
     "output_type": "execute_result"
    }
   ],
   "source": [
    "# reshape에서의 -1 값은 98*98*3\n",
    "x_reshape = x_train.reshape(32,-1)\n",
    "x_reshape.shape"
   ]
  },
  {
   "cell_type": "code",
   "execution_count": 34,
   "metadata": {},
   "outputs": [
    {
     "name": "stdout",
     "output_type": "stream",
     "text": [
      "Iteration 1, loss = 0.84443503\n",
      "Iteration 2, loss = 32.48735774\n",
      "Iteration 3, loss = 11.40872558\n",
      "Iteration 4, loss = 6.76982243\n",
      "Iteration 5, loss = 8.14841605\n",
      "Iteration 6, loss = 7.50756683\n",
      "Iteration 7, loss = 6.12564047\n",
      "Iteration 8, loss = 4.25307509\n",
      "Iteration 9, loss = 2.06693820\n",
      "Iteration 10, loss = 0.64580305\n",
      "Iteration 11, loss = 2.24101761\n",
      "Iteration 12, loss = 3.20189524\n",
      "Iteration 13, loss = 3.43324346\n",
      "Iteration 14, loss = 3.08630217\n",
      "Iteration 15, loss = 2.26093503\n",
      "Iteration 16, loss = 1.13232006\n",
      "Iteration 17, loss = 0.57068655\n",
      "Iteration 18, loss = 1.29675334\n",
      "Iteration 19, loss = 1.85028282\n",
      "Iteration 20, loss = 1.95576298\n",
      "Iteration 21, loss = 1.65830227\n",
      "Iteration 22, loss = 1.75514197\n",
      "Iteration 23, loss = 0.51656018\n",
      "Iteration 24, loss = 0.74758318\n",
      "Iteration 25, loss = 1.20867855\n",
      "Iteration 26, loss = 1.35207519\n",
      "Iteration 27, loss = 1.14174089\n",
      "Iteration 28, loss = 0.71474084\n",
      "Iteration 29, loss = 0.45731041\n",
      "Iteration 30, loss = 0.64842498\n",
      "Iteration 31, loss = 0.89194206\n",
      "Iteration 32, loss = 0.92562520\n",
      "Iteration 33, loss = 0.74428784\n",
      "Iteration 34, loss = 0.49859991\n",
      "Iteration 35, loss = 0.44022309\n",
      "Iteration 36, loss = 0.59758581\n",
      "Iteration 37, loss = 0.70346340\n",
      "Iteration 38, loss = 0.44242719\n",
      "Iteration 39, loss = 0.40440638\n",
      "Iteration 40, loss = 0.59279810\n",
      "Iteration 41, loss = 0.39482483\n",
      "Iteration 42, loss = 0.50706102\n",
      "Iteration 43, loss = 0.35878495\n",
      "Iteration 44, loss = 0.46439952\n",
      "Iteration 45, loss = 0.35042354\n",
      "Iteration 46, loss = 0.39580583\n",
      "Iteration 47, loss = 0.36715690\n",
      "Iteration 48, loss = 0.33775827\n",
      "Iteration 49, loss = 0.65411980\n",
      "Iteration 50, loss = 0.50055522\n",
      "Iteration 51, loss = 0.29708269\n",
      "Iteration 52, loss = 0.53279828\n",
      "Iteration 53, loss = 0.40419552\n",
      "Iteration 54, loss = 0.28203273\n",
      "Iteration 55, loss = 0.43284311\n",
      "Iteration 56, loss = 0.34521625\n",
      "Iteration 57, loss = 0.58967598\n",
      "Iteration 58, loss = 0.34263534\n",
      "Iteration 59, loss = 0.26893725\n",
      "Iteration 60, loss = 0.43645755\n",
      "Iteration 61, loss = 0.33923965\n",
      "Iteration 62, loss = 0.23030428\n",
      "Iteration 63, loss = 0.34423031\n",
      "Iteration 64, loss = 0.33443703\n",
      "Iteration 65, loss = 0.22967071\n",
      "Iteration 66, loss = 0.23547187\n",
      "Iteration 67, loss = 0.51347860\n",
      "Iteration 68, loss = 0.26052215\n",
      "Iteration 69, loss = 0.30443718\n",
      "Iteration 70, loss = 0.37859014\n",
      "Iteration 71, loss = 0.20306790\n",
      "Iteration 72, loss = 0.29026540\n",
      "Iteration 73, loss = 0.29905973\n",
      "Iteration 74, loss = 0.18190237\n",
      "Iteration 75, loss = 0.26037211\n",
      "Iteration 76, loss = 0.25396312\n",
      "Iteration 77, loss = 0.17272806\n",
      "Iteration 78, loss = 0.22271924\n",
      "Iteration 79, loss = 0.22327541\n",
      "Iteration 80, loss = 0.16285877\n",
      "Iteration 81, loss = 0.19588624\n",
      "Iteration 82, loss = 0.20242788\n",
      "Iteration 83, loss = 0.15770052\n",
      "Iteration 84, loss = 0.16982295\n",
      "Iteration 85, loss = 0.18475228\n",
      "Iteration 86, loss = 0.15097195\n",
      "Iteration 87, loss = 0.15376820\n",
      "Iteration 88, loss = 0.16813714\n",
      "Iteration 89, loss = 0.14798706\n",
      "Iteration 90, loss = 0.13976071\n",
      "Iteration 91, loss = 0.15337694\n",
      "Iteration 92, loss = 0.14256354\n",
      "Iteration 93, loss = 0.13162408\n",
      "Iteration 94, loss = 0.14015146\n",
      "Iteration 95, loss = 0.13730748\n",
      "Iteration 96, loss = 0.12587716\n",
      "Iteration 97, loss = 0.12882960\n",
      "Iteration 98, loss = 0.13062111\n",
      "Iteration 99, loss = 0.12154812\n",
      "Iteration 100, loss = 0.12042676\n",
      "Iteration 101, loss = 0.12329575\n",
      "Iteration 102, loss = 0.11795343\n",
      "Iteration 103, loss = 0.11391461\n",
      "Iteration 104, loss = 0.11607215\n",
      "Iteration 105, loss = 0.11380924\n",
      "Iteration 106, loss = 0.10921101\n",
      "Iteration 107, loss = 0.10957788\n",
      "Iteration 108, loss = 0.10923981\n",
      "Iteration 109, loss = 0.10543661\n",
      "Iteration 110, loss = 0.10404501\n",
      "Iteration 111, loss = 0.10435181\n",
      "Iteration 112, loss = 0.10187964\n",
      "Iteration 113, loss = 0.09960943\n",
      "Iteration 114, loss = 0.09952702\n",
      "Iteration 115, loss = 0.09827233\n",
      "Iteration 116, loss = 0.09590690\n",
      "Iteration 117, loss = 0.09509215\n",
      "Iteration 118, loss = 0.09449287\n",
      "Iteration 119, loss = 0.09258932\n",
      "Iteration 120, loss = 0.09122011\n",
      "Iteration 121, loss = 0.09068947\n",
      "Iteration 122, loss = 0.08939461\n",
      "Iteration 123, loss = 0.08782982\n",
      "Iteration 124, loss = 0.08705569\n",
      "Iteration 125, loss = 0.08618562\n",
      "Iteration 126, loss = 0.08476690\n",
      "Iteration 127, loss = 0.08372086\n",
      "Iteration 128, loss = 0.08298923\n",
      "Iteration 129, loss = 0.08186383\n",
      "Iteration 130, loss = 0.08069394\n",
      "Iteration 131, loss = 0.07989951\n",
      "Iteration 132, loss = 0.07901832\n",
      "Iteration 133, loss = 0.07790716\n",
      "Iteration 134, loss = 0.07699778\n",
      "Iteration 135, loss = 0.07622290\n",
      "Iteration 136, loss = 0.07526491\n",
      "Iteration 137, loss = 0.07430372\n",
      "Iteration 138, loss = 0.07352266\n",
      "Iteration 139, loss = 0.07270372\n",
      "Iteration 140, loss = 0.07178398\n",
      "Iteration 141, loss = 0.07096242\n",
      "Iteration 142, loss = 0.07021240\n",
      "Iteration 143, loss = 0.06938445\n",
      "Iteration 144, loss = 0.06855427\n",
      "Iteration 145, loss = 0.06781380\n",
      "Iteration 146, loss = 0.06706849\n",
      "Iteration 147, loss = 0.06627760\n",
      "Iteration 148, loss = 0.06553091\n",
      "Iteration 149, loss = 0.06482935\n",
      "Iteration 150, loss = 0.06410042\n",
      "Iteration 151, loss = 0.06336715\n",
      "Iteration 152, loss = 0.06267967\n",
      "Iteration 153, loss = 0.06200280\n",
      "Iteration 154, loss = 0.06130712\n",
      "Iteration 155, loss = 0.06062975\n",
      "Iteration 156, loss = 0.05998235\n",
      "Iteration 157, loss = 0.05933135\n",
      "Iteration 158, loss = 0.05867709\n",
      "Iteration 159, loss = 0.05804602\n",
      "Iteration 160, loss = 0.05742992\n",
      "Iteration 161, loss = 0.05680955\n",
      "Iteration 162, loss = 0.05619653\n",
      "Iteration 163, loss = 0.05560278\n",
      "Iteration 164, loss = 0.05501556\n",
      "Iteration 165, loss = 0.05442837\n",
      "Iteration 166, loss = 0.05385279\n",
      "Iteration 167, loss = 0.05329086\n",
      "Iteration 168, loss = 0.05273250\n",
      "Iteration 169, loss = 0.05217823\n",
      "Iteration 170, loss = 0.05163573\n",
      "Iteration 171, loss = 0.05110260\n",
      "Iteration 172, loss = 0.05057299\n",
      "Iteration 173, loss = 0.05004986\n",
      "Iteration 174, loss = 0.04953702\n",
      "Iteration 175, loss = 0.04903108\n",
      "Iteration 176, loss = 0.04852944\n",
      "Iteration 177, loss = 0.04803510\n",
      "Iteration 178, loss = 0.04754935\n",
      "Iteration 179, loss = 0.04706936\n",
      "Iteration 180, loss = 0.04659439\n",
      "Iteration 181, loss = 0.04612664\n",
      "Iteration 182, loss = 0.04566614\n",
      "Iteration 183, loss = 0.04521091\n",
      "Iteration 184, loss = 0.04476106\n",
      "Iteration 185, loss = 0.04431794\n",
      "Iteration 186, loss = 0.04388112\n",
      "Iteration 187, loss = 0.04344938\n",
      "Iteration 188, loss = 0.04302308\n",
      "Iteration 189, loss = 0.04260296\n",
      "Iteration 190, loss = 0.04218848\n",
      "Iteration 191, loss = 0.04177893\n",
      "Iteration 192, loss = 0.04137467\n",
      "Iteration 193, loss = 0.04097607\n",
      "Iteration 194, loss = 0.04058265\n",
      "Iteration 195, loss = 0.04019401\n",
      "Iteration 196, loss = 0.03981042\n",
      "Iteration 197, loss = 0.03943203\n",
      "Iteration 198, loss = 0.03905848\n",
      "Iteration 199, loss = 0.03868952\n",
      "Iteration 200, loss = 0.03832532\n"
     ]
    },
    {
     "data": {
      "text/plain": [
       "MLPClassifier(activation='relu', alpha=0.0001, batch_size='auto', beta_1=0.9,\n",
       "              beta_2=0.999, early_stopping=False, epsilon=1e-08,\n",
       "              hidden_layer_sizes=(100,), learning_rate='constant',\n",
       "              learning_rate_init=0.001, max_fun=15000, max_iter=200,\n",
       "              momentum=0.9, n_iter_no_change=10, nesterovs_momentum=True,\n",
       "              power_t=0.5, random_state=None, shuffle=True, solver='adam',\n",
       "              tol=0.0001, validation_fraction=0.1, verbose=1, warm_start=False)"
      ]
     },
     "execution_count": 34,
     "metadata": {},
     "output_type": "execute_result"
    }
   ],
   "source": [
    "# 지금데이터는 4차원이라 2차원 매트릭스로 줘야한다\n",
    "model.fit( x_reshape, y_train )"
   ]
  },
  {
   "cell_type": "code",
   "execution_count": 35,
   "metadata": {},
   "outputs": [
    {
     "data": {
      "text/plain": [
       "1.0"
      ]
     },
     "execution_count": 35,
     "metadata": {},
     "output_type": "execute_result"
    }
   ],
   "source": [
    "model.score( x_reshape, y_train )"
   ]
  },
  {
   "cell_type": "code",
   "execution_count": 36,
   "metadata": {},
   "outputs": [
    {
     "data": {
      "text/plain": [
       "array([1.], dtype=float32)"
      ]
     },
     "execution_count": 36,
     "metadata": {},
     "output_type": "execute_result"
    }
   ],
   "source": [
    "model.predict([x_reshape[0]])"
   ]
  },
  {
   "cell_type": "code",
   "execution_count": 5,
   "metadata": {},
   "outputs": [],
   "source": [
    "# 이미지를 읽어오기위한 모듈\n",
    "from tensorflow.keras.preprocessing import image"
   ]
  },
  {
   "cell_type": "code",
   "execution_count": 6,
   "metadata": {},
   "outputs": [
    {
     "data": {
      "image/png": "[encoded data removed]",
      "text/plain": [
       "<PIL.Image.Image image mode=RGB size=98x98 at 0x270C6C70FC8>"
      ]
     },
     "execution_count": 6,
     "metadata": {},
     "output_type": "execute_result"
    }
   ],
   "source": [
    "imgData = image.load_img('../image/test.jpg',target_size = (98,98))\n",
    "imgData"
   ]
  },
  {
   "cell_type": "code",
   "execution_count": null,
   "metadata": {},
   "outputs": [],
   "source": []
  },
  {
   "cell_type": "code",
   "execution_count": 7,
   "metadata": {},
   "outputs": [
    {
     "data": {
      "text/plain": [
       "(98, 98, 3)"
      ]
     },
     "execution_count": 7,
     "metadata": {},
     "output_type": "execute_result"
    }
   ],
   "source": [
    "testImg = image.img_to_array( imgData )/255\n",
    "testImg.shape"
   ]
  },
  {
   "cell_type": "code",
   "execution_count": 11,
   "metadata": {},
   "outputs": [
    {
     "data": {
      "text/plain": [
       "(1, 28812)"
      ]
     },
     "execution_count": 11,
     "metadata": {},
     "output_type": "execute_result"
    }
   ],
   "source": [
    "testImg.reshape(1,-1).shape"
   ]
  },
  {
   "cell_type": "code",
   "execution_count": 8,
   "metadata": {},
   "outputs": [
    {
     "data": {
      "text/plain": [
       "(1, 28812)"
      ]
     },
     "execution_count": 8,
     "metadata": {},
     "output_type": "execute_result"
    }
   ],
   "source": [
    "testImg1 = testImg.reshape(1,-1)\n",
    "testImg1.shape"
   ]
  },
  {
   "cell_type": "code",
   "execution_count": null,
   "metadata": {},
   "outputs": [],
   "source": []
  },
  {
   "cell_type": "code",
   "execution_count": 55,
   "metadata": {},
   "outputs": [
    {
     "data": {
      "text/plain": [
       "1.0"
      ]
     },
     "execution_count": 55,
     "metadata": {},
     "output_type": "execute_result"
    }
   ],
   "source": [
    "model.predict(testImg)[0]"
   ]
  },
  {
   "cell_type": "markdown",
   "metadata": {},
   "source": [
    "## 모델저장\n"
   ]
  },
  {
   "cell_type": "code",
   "execution_count": 48,
   "metadata": {},
   "outputs": [],
   "source": [
    "from sklearn.externals import joblib"
   ]
  },
  {
   "cell_type": "code",
   "execution_count": 50,
   "metadata": {},
   "outputs": [
    {
     "data": {
      "text/plain": [
       "['catdog.pkl']"
      ]
     },
     "execution_count": 50,
     "metadata": {},
     "output_type": "execute_result"
    }
   ],
   "source": [
    "joblib.dump(model,'catdog.pkl')"
   ]
  },
  {
   "cell_type": "markdown",
   "metadata": {},
   "source": [
    "## 모델읽기"
   ]
  },
  {
   "cell_type": "code",
   "execution_count": 51,
   "metadata": {},
   "outputs": [
    {
     "data": {
      "text/plain": [
       "array([1.], dtype=float32)"
      ]
     },
     "execution_count": 51,
     "metadata": {},
     "output_type": "execute_result"
    }
   ],
   "source": [
    "# 모델을 읽어와서 다시 사용할수있다\n",
    "mymodel = joblib.load('catdog.pkl')\n",
    "mymodel.predict( testImg )"
   ]
  },
  {
   "cell_type": "code",
   "execution_count": null,
   "metadata": {},
   "outputs": [],
   "source": []
  }
 ],
 "metadata": {
  "kernelspec": {
   "display_name": "Python 3",
   "language": "python",
   "name": "python3"
  },
  "language_info": {
   "codemirror_mode": {
    "name": "ipython",
    "version": 3
   },
   "file_extension": ".py",
   "mimetype": "text/x-python",
   "name": "python",
   "nbconvert_exporter": "python",
   "pygments_lexer": "ipython3",
   "version": "3.7.6"
  }
 },
 "nbformat": 4,
 "nbformat_minor": 4
}
