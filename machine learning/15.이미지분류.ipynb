{
 "cells": [
  {
   "cell_type": "code",
   "execution_count": 1,
   "metadata": {},
   "outputs": [],
   "source": [
    "import numpy as np \n",
    "import pandas as pd \n",
    "import seaborn as sb \n",
    "import matplotlib.pyplot as plt\n",
    "import mglearn\n",
    "from sklearn.model_selection import train_test_split\n",
    "from sklearn.neural_network import MLPClassifier\n",
    "from sklearn.linear_model import LogisticRegression\n",
    "\n",
    "from sklearn.datasets import fetch_openml\n",
    "\n",
    "import warnings\n",
    "warnings.simplefilter('ignore')"
   ]
  },
  {
   "cell_type": "code",
   "execution_count": 2,
   "metadata": {},
   "outputs": [],
   "source": [
    "mnist = fetch_openml('mnist_784',version = 1)"
   ]
  },
  {
   "cell_type": "code",
   "execution_count": 3,
   "metadata": {},
   "outputs": [],
   "source": [
    "x_data = mnist.data\n",
    "y_data = mnist.target"
   ]
  },
  {
   "cell_type": "code",
   "execution_count": 11,
   "metadata": {},
   "outputs": [
    {
     "data": {
      "text/plain": [
       "(70000, 784)"
      ]
     },
     "execution_count": 11,
     "metadata": {},
     "output_type": "execute_result"
    }
   ],
   "source": [
    "x_data.shape"
   ]
  },
  {
   "cell_type": "code",
   "execution_count": 6,
   "metadata": {},
   "outputs": [
    {
     "data": {
      "text/plain": [
       "(70000,)"
      ]
     },
     "execution_count": 6,
     "metadata": {},
     "output_type": "execute_result"
    }
   ],
   "source": [
    "y_data.shape"
   ]
  },
  {
   "cell_type": "code",
   "execution_count": 9,
   "metadata": {},
   "outputs": [
    {
     "data": {
      "text/plain": [
       "(784,)"
      ]
     },
     "execution_count": 9,
     "metadata": {},
     "output_type": "execute_result"
    }
   ],
   "source": [
    "x_data[0].shape"
   ]
  },
  {
   "cell_type": "code",
   "execution_count": 12,
   "metadata": {},
   "outputs": [
    {
     "data": {
      "text/plain": [
       "(784,)"
      ]
     },
     "execution_count": 12,
     "metadata": {},
     "output_type": "execute_result"
    }
   ],
   "source": [
    "x_data[2].shape"
   ]
  },
  {
   "cell_type": "code",
   "execution_count": 20,
   "metadata": {},
   "outputs": [
    {
     "data": {
      "image/png": "[encoded data removed]",
      "text/plain": [
       "<Figure size 432x288 with 1 Axes>"
      ]
     },
     "metadata": {
      "needs_background": "light"
     },
     "output_type": "display_data"
    }
   ],
   "source": [
    "plt.imshow( x_data[2].reshape(28,28))\n",
    "plt.show()"
   ]
  },
  {
   "cell_type": "code",
   "execution_count": 23,
   "metadata": {},
   "outputs": [],
   "source": [
    "x_train, x_test, y_train, y_test =  train_test_split(x_data, y_data , test_size = 0.2 ,stratify = y_data)"
   ]
  },
  {
   "cell_type": "code",
   "execution_count": 24,
   "metadata": {
    "collapsed": true
   },
   "outputs": [
    {
     "name": "stdout",
     "output_type": "stream",
     "text": [
      "Iteration 1, loss = 5.62558769\n",
      "Iteration 2, loss = 0.77968505\n",
      "Iteration 3, loss = 0.44797019\n",
      "Iteration 4, loss = 0.32119157\n",
      "Iteration 5, loss = 0.25821204\n",
      "Iteration 6, loss = 0.21325189\n",
      "Iteration 7, loss = 0.17978908\n",
      "Iteration 8, loss = 0.16565164\n",
      "Iteration 9, loss = 0.14307894\n",
      "Iteration 10, loss = 0.13209138\n",
      "Iteration 11, loss = 0.12008541\n",
      "Iteration 12, loss = 0.11655389\n",
      "Iteration 13, loss = 0.11276693\n",
      "Iteration 14, loss = 0.10138570\n",
      "Iteration 15, loss = 0.09722414\n",
      "Iteration 16, loss = 0.09842335\n",
      "Iteration 17, loss = 0.10851403\n",
      "Iteration 18, loss = 0.09488057\n",
      "Iteration 19, loss = 0.09085768\n",
      "Iteration 20, loss = 0.09671761\n",
      "Iteration 21, loss = 0.08826513\n",
      "Iteration 22, loss = 0.08870244\n",
      "Iteration 23, loss = 0.07631902\n",
      "Iteration 24, loss = 0.07450542\n",
      "Iteration 25, loss = 0.08073241\n",
      "Iteration 26, loss = 0.07374648\n",
      "Iteration 27, loss = 0.06924667\n",
      "Iteration 28, loss = 0.06768701\n",
      "Iteration 29, loss = 0.07334827\n",
      "Iteration 30, loss = 0.06190105\n",
      "Iteration 31, loss = 0.05848674\n",
      "Iteration 32, loss = 0.05388733\n",
      "Iteration 33, loss = 0.06575134\n",
      "Iteration 34, loss = 0.07048797\n",
      "Iteration 35, loss = 0.06184055\n",
      "Iteration 36, loss = 0.04915267\n",
      "Iteration 37, loss = 0.05182551\n",
      "Iteration 38, loss = 0.04763259\n",
      "Iteration 39, loss = 0.05161254\n",
      "Iteration 40, loss = 0.05434018\n",
      "Iteration 41, loss = 0.04830213\n",
      "Iteration 42, loss = 0.04578348\n",
      "Iteration 43, loss = 0.04654224\n",
      "Iteration 44, loss = 0.05592079\n",
      "Iteration 45, loss = 0.05181293\n",
      "Iteration 46, loss = 0.04563747\n",
      "Iteration 47, loss = 0.04316956\n",
      "Iteration 48, loss = 0.03945353\n",
      "Iteration 49, loss = 0.04546670\n",
      "Iteration 50, loss = 0.04469829\n",
      "Iteration 51, loss = 0.04242675\n",
      "Iteration 52, loss = 0.04275497\n",
      "Iteration 53, loss = 0.04026580\n",
      "Iteration 54, loss = 0.03972649\n",
      "Iteration 55, loss = 0.04210851\n",
      "Iteration 56, loss = 0.04149064\n",
      "Iteration 57, loss = 0.02980907\n",
      "Iteration 58, loss = 0.03577808\n",
      "Iteration 59, loss = 0.04590707\n",
      "Iteration 60, loss = 0.04035748\n",
      "Iteration 61, loss = 0.04549917\n",
      "Iteration 62, loss = 0.03522081\n",
      "Iteration 63, loss = 0.03871738\n",
      "Iteration 64, loss = 0.03981216\n",
      "Iteration 65, loss = 0.03398574\n",
      "Iteration 66, loss = 0.03329346\n",
      "Iteration 67, loss = 0.02535307\n",
      "Iteration 68, loss = 0.02837706\n",
      "Iteration 69, loss = 0.03925973\n",
      "Iteration 70, loss = 0.04833784\n",
      "Iteration 71, loss = 0.04035747\n",
      "Iteration 72, loss = 0.02414042\n",
      "Iteration 73, loss = 0.02835597\n",
      "Iteration 74, loss = 0.04079489\n",
      "Iteration 75, loss = 0.04193173\n",
      "Iteration 76, loss = 0.03233381\n",
      "Iteration 77, loss = 0.02924414\n",
      "Iteration 78, loss = 0.02943656\n",
      "Iteration 79, loss = 0.02627899\n",
      "Iteration 80, loss = 0.03487753\n",
      "Iteration 81, loss = 0.03665635\n",
      "Iteration 82, loss = 0.03110394\n",
      "Iteration 83, loss = 0.03565268\n",
      "Training loss did not improve more than tol=0.000100 for 10 consecutive epochs. Stopping.\n"
     ]
    },
    {
     "data": {
      "text/plain": [
       "MLPClassifier(activation='relu', alpha=0.0001, batch_size='auto', beta_1=0.9,\n",
       "              beta_2=0.999, early_stopping=False, epsilon=1e-08,\n",
       "              hidden_layer_sizes=(100,), learning_rate='constant',\n",
       "              learning_rate_init=0.001, max_fun=15000, max_iter=200,\n",
       "              momentum=0.9, n_iter_no_change=10, nesterovs_momentum=True,\n",
       "              power_t=0.5, random_state=None, shuffle=True, solver='adam',\n",
       "              tol=0.0001, validation_fraction=0.1, verbose=1, warm_start=False)"
      ]
     },
     "execution_count": 24,
     "metadata": {},
     "output_type": "execute_result"
    }
   ],
   "source": [
    "model = MLPClassifier( verbose = 1 )\n",
    "model.fit( x_train, y_train )"
   ]
  },
  {
   "cell_type": "code",
   "execution_count": 25,
   "metadata": {},
   "outputs": [
    {
     "data": {
      "text/plain": [
       "0.9612857142857143"
      ]
     },
     "execution_count": 25,
     "metadata": {},
     "output_type": "execute_result"
    }
   ],
   "source": [
    "model.score( x_test , y_test )"
   ]
  },
  {
   "cell_type": "code",
   "execution_count": 31,
   "metadata": {},
   "outputs": [],
   "source": [
    "y_pred = model.predict(x_test)"
   ]
  },
  {
   "cell_type": "code",
   "execution_count": 33,
   "metadata": {},
   "outputs": [],
   "source": [
    "import sklearn.metrics as m\n",
    "import seaborn as sns"
   ]
  },
  {
   "cell_type": "code",
   "execution_count": 35,
   "metadata": {},
   "outputs": [
    {
     "data": {
      "text/plain": [
       "<matplotlib.axes._subplots.AxesSubplot at 0x20908594908>"
      ]
     },
     "execution_count": 35,
     "metadata": {},
     "output_type": "execute_result"
    },
    {
     "data": {
      "image/png": "[encoded data removed]",
      "text/plain": [
       "<Figure size 1080x720 with 2 Axes>"
      ]
     },
     "metadata": {
      "needs_background": "light"
     },
     "output_type": "display_data"
    }
   ],
   "source": [
    "cm = m.confusion_matrix( y_test, y_pred )\n",
    "plt.figure(figsize  = (15,10))\n",
    "sns.heatmap(cm, annot = True , cmap = 'Reds')"
   ]
  },
  {
   "cell_type": "code",
   "execution_count": 37,
   "metadata": {},
   "outputs": [
    {
     "data": {
      "text/plain": [
       "array(['7', '1', '6', ..., '1', '7', '0'], dtype='<U1')"
      ]
     },
     "execution_count": 37,
     "metadata": {},
     "output_type": "execute_result"
    }
   ],
   "source": [
    "model.predict( x_test )"
   ]
  },
  {
   "cell_type": "code",
   "execution_count": 52,
   "metadata": {},
   "outputs": [
    {
     "data": {
      "image/png": "[encoded data removed]",
      "text/plain": [
       "<Figure size 432x288 with 1 Axes>"
      ]
     },
     "metadata": {
      "needs_background": "light"
     },
     "output_type": "display_data"
    }
   ],
   "source": [
    "plt.imshow( x_test[0].reshape(28,28))\n",
    "plt.show()"
   ]
  },
  {
   "cell_type": "code",
   "execution_count": 48,
   "metadata": {},
   "outputs": [
    {
     "data": {
      "text/plain": [
       "array(['7'], dtype='<U1')"
      ]
     },
     "execution_count": 48,
     "metadata": {},
     "output_type": "execute_result"
    }
   ],
   "source": [
    "model.predict( [x_test[0]] )"
   ]
  },
  {
   "cell_type": "code",
   "execution_count": null,
   "metadata": {},
   "outputs": [],
   "source": []
  }
 ],
 "metadata": {
  "kernelspec": {
   "display_name": "Python 3",
   "language": "python",
   "name": "python3"
  },
  "language_info": {
   "codemirror_mode": {
    "name": "ipython",
    "version": 3
   },
   "file_extension": ".py",
   "mimetype": "text/x-python",
   "name": "python",
   "nbconvert_exporter": "python",
   "pygments_lexer": "ipython3",
   "version": "3.7.6"
  }
 },
 "nbformat": 4,
 "nbformat_minor": 4
}
