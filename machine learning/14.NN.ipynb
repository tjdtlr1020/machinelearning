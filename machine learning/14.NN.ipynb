{
 "cells": [
  {
   "cell_type": "code",
   "execution_count": 4,
   "metadata": {},
   "outputs": [],
   "source": [
    "import numpy as np \n",
    "import pandas as pd \n",
    "import seaborn as sb \n",
    "import matplotlib.pyplot as plt\n",
    "import mglearn\n",
    "from sklearn.model_selection import train_test_split\n",
    "from sklearn.neural_network import MLPClassifier\n",
    "from sklearn.linear_model import LogisticRegression\n",
    "\n",
    "\n",
    "import warnings\n",
    "warnings.simplefilter('ignore')\n"
   ]
  },
  {
   "cell_type": "code",
   "execution_count": 100,
   "metadata": {},
   "outputs": [
    {
     "data": {
      "text/plain": [
       "1.0"
      ]
     },
     "execution_count": 100,
     "metadata": {},
     "output_type": "execute_result"
    }
   ],
   "source": [
    "model_logi.score(x_data, y_data)"
   ]
  },
  {
   "cell_type": "code",
   "execution_count": 5,
   "metadata": {},
   "outputs": [],
   "source": [
    "x_data = np.array( [[0,0],[0,1],[1,0],[1,1]])\n",
    "y_data = np.array( [[0],[1],[1],[0]])\n"
   ]
  },
  {
   "cell_type": "code",
   "execution_count": 117,
   "metadata": {},
   "outputs": [
    {
     "data": {
      "text/plain": [
       "MLPClassifier(activation='relu', alpha=0.0001, batch_size='auto', beta_1=0.9,\n",
       "              beta_2=0.999, early_stopping=False, epsilon=1e-08,\n",
       "              hidden_layer_sizes=100, learning_rate='constant',\n",
       "              learning_rate_init=0.001, max_fun=15000, max_iter=200,\n",
       "              momentum=0.9, n_iter_no_change=10, nesterovs_momentum=True,\n",
       "              power_t=0.5, random_state=None, shuffle=True, solver='adam',\n",
       "              tol=0.0001, validation_fraction=0.1, verbose=False,\n",
       "              warm_start=False)"
      ]
     },
     "execution_count": 117,
     "metadata": {},
     "output_type": "execute_result"
    }
   ],
   "source": [
    "# model_logi = LogisticRegression(max_iter =1000, verbose = 1)\n",
    "# hidden_layer_sizes = (200,10) 2차원으로 값을 주면 히든레이어갯수는 2개 \n",
    "# model_logi.coefs_ 의 개수 -1 = 히든레이어의 개수 h1,h2,h3,... -1인이유는 아웃풋레이어가 하나 포함된다\n",
    "# solver = optimizrer \n",
    "\n",
    "# alpha = running rate\n",
    "# max_iter  = 학습횟수\n",
    "model_logi = MLPClassifier(hidden_layer_sizes = (100))\n",
    "model_logi.fit(x_data, y_data)\n"
   ]
  },
  {
   "cell_type": "code",
   "execution_count": 118,
   "metadata": {},
   "outputs": [
    {
     "data": {
      "text/plain": [
       "array([1])"
      ]
     },
     "execution_count": 118,
     "metadata": {},
     "output_type": "execute_result"
    }
   ],
   "source": [
    "model_logi.predict([[0,1]])"
   ]
  },
  {
   "cell_type": "code",
   "execution_count": 119,
   "metadata": {
    "scrolled": true
   },
   "outputs": [
    {
     "data": {
      "text/plain": [
       "2"
      ]
     },
     "execution_count": 119,
     "metadata": {},
     "output_type": "execute_result"
    }
   ],
   "source": [
    "len(model_logi.coefs_) "
   ]
  },
  {
   "cell_type": "code",
   "execution_count": 121,
   "metadata": {},
   "outputs": [
    {
     "data": {
      "text/plain": [
       "(2, 100)"
      ]
     },
     "execution_count": 121,
     "metadata": {},
     "output_type": "execute_result"
    }
   ],
   "source": [
    "model_logi.coefs_[0].shape"
   ]
  },
  {
   "cell_type": "code",
   "execution_count": 122,
   "metadata": {},
   "outputs": [
    {
     "data": {
      "text/plain": [
       "(100, 1)"
      ]
     },
     "execution_count": 122,
     "metadata": {},
     "output_type": "execute_result"
    }
   ],
   "source": [
    "model_logi.coefs_[1].shape"
   ]
  },
  {
   "cell_type": "code",
   "execution_count": 145,
   "metadata": {},
   "outputs": [
    {
     "data": {
      "text/plain": [
       "array([[0.34773662],\n",
       "       [0.65727338],\n",
       "       [0.65566708],\n",
       "       [0.34139037]])"
      ]
     },
     "execution_count": 145,
     "metadata": {},
     "output_type": "execute_result"
    }
   ],
   "source": [
    "# 활성함수 layer층은 relu를 통과\n",
    "# output sigmoid통과\n",
    "a = np.matmul(x_data,model_logi.coefs_[0])+model_logi.intercepts_[0]\n",
    "a = relu(a)\n",
    "b = np.matmul(a,model_logi.coefs_[1])+model_logi.intercepts_[1]\n",
    "sigmoid(b)"
   ]
  },
  {
   "cell_type": "code",
   "execution_count": 130,
   "metadata": {},
   "outputs": [
    {
     "data": {
      "text/plain": [
       "array([[ 0.28917233],\n",
       "       [ 0.07277893],\n",
       "       [-0.13331321],\n",
       "       [-0.34970661]])"
      ]
     },
     "execution_count": 130,
     "metadata": {},
     "output_type": "execute_result"
    }
   ],
   "source": [
    "b"
   ]
  },
  {
   "cell_type": "code",
   "execution_count": 127,
   "metadata": {},
   "outputs": [
    {
     "data": {
      "text/plain": [
       "(100, 1)"
      ]
     },
     "execution_count": 127,
     "metadata": {},
     "output_type": "execute_result"
    }
   ],
   "source": [
    "model_logi.coefs_[1].shape"
   ]
  },
  {
   "cell_type": "code",
   "execution_count": 104,
   "metadata": {},
   "outputs": [
    {
     "data": {
      "text/plain": [
       "(10, 9)"
      ]
     },
     "execution_count": 104,
     "metadata": {},
     "output_type": "execute_result"
    }
   ],
   "source": [
    "model_logi.coefs_[2].shape"
   ]
  },
  {
   "cell_type": "code",
   "execution_count": 105,
   "metadata": {},
   "outputs": [
    {
     "data": {
      "text/plain": [
       "(9, 4)"
      ]
     },
     "execution_count": 105,
     "metadata": {},
     "output_type": "execute_result"
    }
   ],
   "source": [
    "model_logi.coefs_[3].shape"
   ]
  },
  {
   "cell_type": "code",
   "execution_count": 106,
   "metadata": {},
   "outputs": [
    {
     "data": {
      "text/plain": [
       "(4, 1)"
      ]
     },
     "execution_count": 106,
     "metadata": {},
     "output_type": "execute_result"
    }
   ],
   "source": [
    "model_logi.coefs_[4].shape"
   ]
  },
  {
   "cell_type": "code",
   "execution_count": 25,
   "metadata": {},
   "outputs": [
    {
     "data": {
      "text/plain": [
       "(2, 100)"
      ]
     },
     "execution_count": 25,
     "metadata": {},
     "output_type": "execute_result"
    }
   ],
   "source": [
    "model_logi.coefs_[0]. shape\n",
    "# (2,100) 2는 특성데이터 개수"
   ]
  },
  {
   "cell_type": "code",
   "execution_count": 102,
   "metadata": {},
   "outputs": [
    {
     "data": {
      "text/plain": [
       "5"
      ]
     },
     "execution_count": 102,
     "metadata": {},
     "output_type": "execute_result"
    }
   ],
   "source": [
    "# ndarray2개가 리스트안에 들어가있음\n",
    "len(model_logi.coefs_)"
   ]
  },
  {
   "cell_type": "code",
   "execution_count": 101,
   "metadata": {},
   "outputs": [
    {
     "data": {
      "text/plain": [
       "array([0, 1, 1, 0])"
      ]
     },
     "execution_count": 101,
     "metadata": {},
     "output_type": "execute_result"
    }
   ],
   "source": [
    "# xor게이트를 예측 불가능\n",
    "model_logi.predict( x_data )"
   ]
  },
  {
   "cell_type": "code",
   "execution_count": null,
   "metadata": {},
   "outputs": [],
   "source": [
    "# hidden layer size = (100,)"
   ]
  },
  {
   "cell_type": "code",
   "execution_count": 29,
   "metadata": {},
   "outputs": [
    {
     "data": {
      "text/plain": [
       "(100, 1)"
      ]
     },
     "execution_count": 29,
     "metadata": {},
     "output_type": "execute_result"
    }
   ],
   "source": [
    "model_logi.coefs_[1].shape"
   ]
  },
  {
   "cell_type": "code",
   "execution_count": 24,
   "metadata": {
    "scrolled": true
   },
   "outputs": [
    {
     "data": {
      "text/plain": [
       "100"
      ]
     },
     "execution_count": 24,
     "metadata": {},
     "output_type": "execute_result"
    }
   ],
   "source": [
    "len(model_logi.intercepts_)"
   ]
  },
  {
   "cell_type": "code",
   "execution_count": 26,
   "metadata": {},
   "outputs": [
    {
     "data": {
      "text/plain": [
       "(100,)"
      ]
     },
     "execution_count": 26,
     "metadata": {},
     "output_type": "execute_result"
    }
   ],
   "source": [
    "model_logi.intercepts_[0].shape"
   ]
  },
  {
   "cell_type": "code",
   "execution_count": 30,
   "metadata": {},
   "outputs": [
    {
     "data": {
      "text/plain": [
       "(1,)"
      ]
     },
     "execution_count": 30,
     "metadata": {},
     "output_type": "execute_result"
    }
   ],
   "source": [
    "model_logi.intercepts_[1].shape"
   ]
  },
  {
   "cell_type": "code",
   "execution_count": 37,
   "metadata": {},
   "outputs": [],
   "source": [
    "import math"
   ]
  },
  {
   "cell_type": "code",
   "execution_count": 132,
   "metadata": {},
   "outputs": [],
   "source": [
    "def sigmoid(z):\n",
    "    return 1/(1+math.e**-z)"
   ]
  },
  {
   "cell_type": "code",
   "execution_count": 42,
   "metadata": {},
   "outputs": [],
   "source": [
    "def relu(x):\n",
    "    return np.maximum(0, x)"
   ]
  },
  {
   "cell_type": "code",
   "execution_count": 54,
   "metadata": {},
   "outputs": [
    {
     "name": "stdout",
     "output_type": "stream",
     "text": [
      "[[-2.35793387e-01  1.38170153e-01  1.93354152e-01  1.90937902e-01\n",
      "  -8.98051965e-02 -3.81579776e-04 -1.85135064e-01  1.23319260e-01\n",
      "  -6.60076143e-02 -2.32114771e-01 -1.05467230e-01 -7.25884779e-02\n",
      "  -2.08434047e-01  2.74472461e-04  2.67540991e-01 -1.61529793e-01\n",
      "  -2.31226530e-01  5.94671253e-02 -5.95286070e-04 -1.62363904e-01\n",
      "  -7.70439403e-02 -2.31621309e-01 -2.56754872e-01 -7.02460686e-03\n",
      "  -1.58081754e-01 -1.39746088e-01 -1.83305891e-01  7.51735577e-02\n",
      "  -8.95822676e-04 -4.17404848e-02 -1.56809002e-03 -1.76260392e-01\n",
      "  -1.54974081e-01 -8.44417495e-03  1.67751485e-01  1.02844895e-01\n",
      "  -7.70412075e-04  6.84986136e-02  1.39115477e-01  2.86839624e-01\n",
      "  -8.19610665e-02 -2.79895076e-01  1.08665295e-01  4.12153373e-02\n",
      "   2.35522747e-01 -2.57083486e-01 -1.19898201e-01 -2.57898971e-01\n",
      "   1.62943723e-01  3.88787481e-02  1.77473470e-01 -3.39592877e-02\n",
      "   2.58816677e-01 -1.68365268e-01  1.88546265e-01  2.17717764e-01\n",
      "  -6.94784141e-04 -1.62986417e-01  7.91884530e-02  1.60163866e-01\n",
      "   1.41883367e-01 -2.37496900e-01 -1.90846227e-01 -2.29617627e-01\n",
      "   1.67130216e-01 -1.23390266e-01  1.63799007e-01 -1.00808707e-02\n",
      "  -1.51636583e-01  7.61246410e-02  1.46503952e-01  1.70129107e-01\n",
      "  -1.99206992e-01 -2.12934572e-01  2.37209117e-05  1.44209380e-01\n",
      "   2.38564852e-02  2.89320193e-02  2.78971268e-01 -4.27152375e-03\n",
      "   1.07015931e-01 -1.32547608e-01 -1.44003695e-01  1.84742887e-01\n",
      "   2.67817238e-01 -2.51215774e-01 -2.40245808e-01 -2.28262624e-01\n",
      "   4.25526110e-02 -1.48738187e-01 -2.19718807e-01  7.93064336e-02\n",
      "  -1.98395017e-01  3.01704400e-01  1.68074948e-04 -1.28354639e-03\n",
      "  -2.25017553e-01  1.69902209e-03  1.24710527e-01 -1.11993778e-01]\n",
      " [-2.35576572e-01  1.06282061e-01  3.47204976e-01  8.01887713e-02\n",
      "  -1.71100780e-02  3.20998002e-01 -1.96268844e-02  7.40252702e-02\n",
      "  -1.05406460e-01 -2.78709756e-01 -1.07228617e-01 -7.25884042e-02\n",
      "  -1.49484163e-01 -3.63849122e-01  1.18946014e-04 -1.61471685e-01\n",
      "  -2.36079544e-02  6.47710588e-02  3.62788648e-01 -1.62364194e-01\n",
      "  -7.70221284e-02 -2.01264654e-01 -3.66742818e-04  1.52059034e-01\n",
      "  -2.25385320e-01 -1.40067149e-01 -1.68320061e-01  2.45910540e-02\n",
      "  -3.33112486e-01 -4.81233443e-02 -3.14509939e-01 -1.43925427e-01\n",
      "  -1.01138396e-01 -2.83963001e-01  3.61662234e-01  2.94732707e-03\n",
      "   2.55849275e-01  2.66325660e-01  3.52950534e-01 -2.41970381e-04\n",
      "   9.95467641e-02  3.74831566e-04  1.57140892e-01 -2.87672133e-02\n",
      "   1.24503609e-01  2.18121000e-05 -1.21041381e-01 -2.54122553e-04\n",
      "   2.65230023e-01  2.17716100e-01  2.85479309e-01 -3.20347819e-01\n",
      "  -5.45989586e-05 -1.90908968e-01  1.38881202e-01  3.98714671e-01\n",
      "  -2.48051770e-01 -1.52262556e-01  2.15771735e-01  2.27741903e-02\n",
      "   2.26631004e-02 -2.75387912e-01 -4.58937484e-05 -2.46213730e-01\n",
      "  -2.64114722e-04 -1.24295250e-01  1.05346720e-01 -3.47849688e-02\n",
      "  -1.51246263e-01  1.64310136e-01  3.92327825e-01  2.53651697e-01\n",
      "  -1.91883869e-01 -2.12620618e-01  2.67425574e-01  6.72994472e-02\n",
      "   2.87742526e-01  2.50709588e-01 -1.20290334e-04 -3.63688029e-02\n",
      "   3.31001852e-01 -1.45184889e-01 -1.87022318e-01 -8.58873283e-04\n",
      "   2.27869253e-01  3.43823536e-05 -3.12819255e-04 -2.28262460e-01\n",
      "   6.39001405e-02 -1.98703034e-01 -2.19718302e-01  2.65373578e-01\n",
      "  -1.98395040e-01  4.65816941e-01  2.74116030e-02  3.25903497e-01\n",
      "  -2.25087599e-01  4.96905396e-02  7.08333344e-02 -1.50424511e-01]\n",
      " [-2.35810527e-01  2.14435909e-01  1.52427044e-01  1.26695487e-01\n",
      "  -1.40823890e-01 -3.21839989e-01 -1.85275120e-01  3.37914336e-01\n",
      "  -6.60074525e-02 -2.32115170e-01 -1.42617595e-01 -7.25869381e-02\n",
      "  -8.90151859e-02  3.64475182e-01 -9.65625836e-05 -2.08666057e-01\n",
      "  -2.37252929e-01 -1.23379940e-02 -3.63123617e-01 -1.62364144e-01\n",
      "  -7.70443320e-02 -2.35350507e-01 -2.66370717e-04  1.95170339e-01\n",
      "  -1.49381470e-02 -2.08821497e-01 -1.83305620e-01  1.14589395e-01\n",
      "   3.31881024e-01 -4.46227415e-02  3.12714154e-01 -1.76237667e-01\n",
      "  -7.96848421e-02  2.76500088e-01  2.10249485e-01  3.10570531e-01\n",
      "  -2.56506226e-01  2.59557308e-01  4.98485553e-02 -3.54750697e-05\n",
      "  -1.78417291e-05  3.78989908e-04  1.29719311e-01 -4.21640338e-02\n",
      "   2.93410584e-01  1.52507837e-03 -1.19896416e-01  3.97150124e-04\n",
      "   3.76843049e-01  2.32166463e-01  3.85571401e-01  2.86419098e-01\n",
      "  -1.57831762e-04 -1.68365212e-01  9.10919838e-02  9.08164867e-02\n",
      "   2.47817066e-01 -1.62986683e-01  2.33475702e-01  2.65316988e-01\n",
      "   1.41074751e-01 -2.37496879e-01  5.59235825e-05 -2.29619196e-01\n",
      "  -4.40732986e-04 -1.23485222e-01  2.09233277e-01 -9.25710725e-02\n",
      "  -1.51636419e-01  2.33903639e-01  1.11611610e-03  3.16990412e-01\n",
      "  -2.37012323e-01 -2.46753085e-01 -2.67667613e-01  3.27733152e-01\n",
      "  -2.65848200e-01  7.79106608e-02 -1.68413418e-04 -4.27173238e-03\n",
      "   1.47213125e-01 -1.97202200e-01 -1.45920794e-01 -1.02768682e-04\n",
      "   1.76219394e-01  2.74074839e-04  4.58068775e-04 -2.28262405e-01\n",
      "   9.59322893e-02 -1.54421086e-01 -2.15814550e-01  2.83138263e-01\n",
      "  -1.89504503e-01  3.95042863e-01  5.72093184e-02 -3.19729618e-01\n",
      "  -2.25023176e-01  4.87144394e-02  7.75435734e-02 -1.11988155e-01]\n",
      " [-2.35593712e-01  1.82547817e-01  3.06277867e-01  1.59463557e-02\n",
      "  -6.81287713e-02 -4.60407063e-04 -1.97669401e-02  2.88620346e-01\n",
      "  -1.05406299e-01 -2.78710156e-01 -1.44378982e-01 -7.25868644e-02\n",
      "  -3.00653016e-02  3.51588119e-04 -2.67518608e-01 -2.08607949e-01\n",
      "  -2.96343538e-02 -7.03406039e-03  2.60317392e-04 -1.62364435e-01\n",
      "  -7.70225201e-02 -2.04993853e-01  2.56121759e-01  3.54253980e-01\n",
      "  -8.22417128e-02 -2.09142559e-01 -1.68319790e-01  6.40068912e-02\n",
      "  -3.35638642e-04 -5.10056010e-02 -2.27694943e-04 -1.43902702e-01\n",
      "  -2.58491570e-02  9.81261463e-04  4.04160234e-01  2.10672963e-01\n",
      "   1.13461517e-04  4.57384354e-01  2.63683613e-01 -2.87117069e-01\n",
      "   1.81489989e-01  2.80648898e-01  1.78194908e-01 -1.12146584e-01\n",
      "   1.82391446e-01  2.58630376e-01 -1.21039596e-01  2.58041998e-01\n",
      "   4.79129349e-01  4.11003815e-01  4.93577240e-01  3.05658623e-05\n",
      "  -2.59029107e-01 -1.90908913e-01  4.14269216e-02  2.71813394e-01\n",
      "   4.60080194e-04 -1.52262822e-01  3.70058984e-01  1.27927312e-01\n",
      "   2.18544847e-02 -2.75387891e-01  1.90856257e-01 -2.46215299e-01\n",
      "  -1.67835064e-01 -1.24390205e-01  1.50780990e-01 -1.17275171e-01\n",
      "  -1.51246099e-01  3.22089135e-01  2.46939989e-01  4.00513003e-01\n",
      "  -2.29689199e-01 -2.46439131e-01 -2.65760484e-04  2.50823219e-01\n",
      "  -1.96215943e-03  2.99688229e-01 -2.79259972e-01 -3.63690115e-02\n",
      "   3.71199045e-01 -2.09839481e-01 -1.88939417e-01 -1.85704529e-01\n",
      "   1.36271410e-01  2.51524232e-01  2.40391058e-01 -2.28262241e-01\n",
      "   1.17279819e-01 -2.04385934e-01 -2.15814045e-01  4.69205407e-01\n",
      "  -1.89504527e-01  5.59155403e-01  8.44528464e-02  7.45742501e-03\n",
      "  -2.25093223e-01  9.67059569e-02  2.36663812e-02 -1.50418888e-01]]\n"
     ]
    },
    {
     "data": {
      "text/plain": [
       "array([[-0.00051245],\n",
       "       [-0.05314564],\n",
       "       [-0.0058566 ],\n",
       "       [-0.0584898 ]])"
      ]
     },
     "execution_count": 54,
     "metadata": {},
     "output_type": "execute_result"
    }
   ],
   "source": [
    "a=np.matmul(x_data,model_logi.coefs_[0])+model_logi.intercepts_[0]\n",
    "print(a)\n",
    "b = np.matmul(a,model_logi.coefs_[1])+model_logi.intercepts_[1]\n",
    "b"
   ]
  },
  {
   "cell_type": "code",
   "execution_count": 53,
   "metadata": {},
   "outputs": [
    {
     "data": {
      "text/plain": [
       "array([0.00000000e+00, 1.38170153e-01, 1.93354152e-01, 1.90937902e-01,\n",
       "       0.00000000e+00, 0.00000000e+00, 0.00000000e+00, 1.23319260e-01,\n",
       "       0.00000000e+00, 0.00000000e+00, 0.00000000e+00, 0.00000000e+00,\n",
       "       0.00000000e+00, 2.74472461e-04, 2.67540991e-01, 0.00000000e+00,\n",
       "       0.00000000e+00, 5.94671253e-02, 0.00000000e+00, 0.00000000e+00,\n",
       "       0.00000000e+00, 0.00000000e+00, 0.00000000e+00, 0.00000000e+00,\n",
       "       0.00000000e+00, 0.00000000e+00, 0.00000000e+00, 7.51735577e-02,\n",
       "       0.00000000e+00, 0.00000000e+00, 0.00000000e+00, 0.00000000e+00,\n",
       "       0.00000000e+00, 0.00000000e+00, 1.67751485e-01, 1.02844895e-01,\n",
       "       0.00000000e+00, 6.84986136e-02, 1.39115477e-01, 2.86839624e-01,\n",
       "       0.00000000e+00, 0.00000000e+00, 1.08665295e-01, 4.12153373e-02,\n",
       "       2.35522747e-01, 0.00000000e+00, 0.00000000e+00, 0.00000000e+00,\n",
       "       1.62943723e-01, 3.88787481e-02, 1.77473470e-01, 0.00000000e+00,\n",
       "       2.58816677e-01, 0.00000000e+00, 1.88546265e-01, 2.17717764e-01,\n",
       "       0.00000000e+00, 0.00000000e+00, 7.91884530e-02, 1.60163866e-01,\n",
       "       1.41883367e-01, 0.00000000e+00, 0.00000000e+00, 0.00000000e+00,\n",
       "       1.67130216e-01, 0.00000000e+00, 1.63799007e-01, 0.00000000e+00,\n",
       "       0.00000000e+00, 7.61246410e-02, 1.46503952e-01, 1.70129107e-01,\n",
       "       0.00000000e+00, 0.00000000e+00, 2.37209117e-05, 1.44209380e-01,\n",
       "       2.38564852e-02, 2.89320193e-02, 2.78971268e-01, 0.00000000e+00,\n",
       "       1.07015931e-01, 0.00000000e+00, 0.00000000e+00, 1.84742887e-01,\n",
       "       2.67817238e-01, 0.00000000e+00, 0.00000000e+00, 0.00000000e+00,\n",
       "       4.25526110e-02, 0.00000000e+00, 0.00000000e+00, 7.93064336e-02,\n",
       "       0.00000000e+00, 3.01704400e-01, 1.68074948e-04, 0.00000000e+00,\n",
       "       0.00000000e+00, 1.69902209e-03, 1.24710527e-01, 0.00000000e+00])"
      ]
     },
     "execution_count": 53,
     "metadata": {},
     "output_type": "execute_result"
    }
   ],
   "source": [
    "d=relu(a)\n",
    "d[0]"
   ]
  },
  {
   "cell_type": "code",
   "execution_count": null,
   "metadata": {},
   "outputs": [],
   "source": [
    "특성데이터가 2개일경우 라벨이1개인경우\n",
    "<>괄호 = 히든레이어\n",
    "? !  = 하이퍼파라미터 (자기가 정하는 숫자)\n",
    "4 x 2 (matmul) <2(특성) x ?   (matmul) ? x !  (matmul) ! x 1(라벨) > \n",
    "4 x 2 (matmul) <2(특성) x 10   (matmul) 10 x 20  (matmul) 20 x 1(라벨) > \n",
    "?개수만큼 bias(intercept)가 나온다\n",
    "\n",
    "\n",
    "히든레이어가 너무많으면 오히려 학습효과가 떨어지는 배니싱현상\n",
    "배니싱현상을 막기위해서 렐루 함수를 사용한다"
   ]
  }
 ],
 "metadata": {
  "kernelspec": {
   "display_name": "Python 3",
   "language": "python",
   "name": "python3"
  },
  "language_info": {
   "codemirror_mode": {
    "name": "ipython",
    "version": 3
   },
   "file_extension": ".py",
   "mimetype": "text/x-python",
   "name": "python",
   "nbconvert_exporter": "python",
   "pygments_lexer": "ipython3",
   "version": "3.7.6"
  }
 },
 "nbformat": 4,
 "nbformat_minor": 4
}
