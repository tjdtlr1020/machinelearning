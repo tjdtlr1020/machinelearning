{
 "cells": [
  {
   "cell_type": "code",
   "execution_count": 1,
   "metadata": {},
   "outputs": [],
   "source": [
    "from sklearn.datasets import make_classification\n",
    "from sklearn.linear_model import LogisticRegression\n",
    "from sklearn.model_selection import train_test_split, GridSearchCV\n",
    "from sklearn.model_selection import cross_val_score, cross_validate\n",
    "import multiprocessing\n",
    "\n",
    "from sklearn.svm import SVC, SVR\n",
    "from sklearn.manifold import TSNE\n",
    "from sklearn.linear_model import SGDRegressor, SGDClassifier\n",
    "from sklearn.datasets import load_boston, load_breast_cancer,load_iris\n",
    "from sklearn.datasets import load_wine\n",
    "from sklearn.pipeline import make_pipeline, Pipeline\n",
    "from sklearn.preprocessing import StandardScaler, MinMaxScaler\n",
    "from sklearn.naive_bayes import GaussianNB, BernoulliNB, MultinomialNB\n",
    "from sklearn import metrics\n",
    "\n",
    "import pandas as pd\n",
    "import numpy as np\n",
    "import matplotlib.pyplot as plt"
   ]
  },
  {
   "cell_type": "markdown",
   "metadata": {
    "id": "pGeRH4wq9f5V"
   },
   "source": [
    "# 나이브 베이스 분류기(Naive Bayes Classification)\n",
    "\n",
    "* 베이즈 정리를 적용한 확률적 분류 알고리즘\n",
    "* 모든 특성들이 독립임을 가정 (naive 가정)\n",
    "* 입력 특성에 따라 3개의 분류기 존재\n",
    "  * 가우시안 나이브 베이즈 분류기\n",
    "  * 베르누이 나이브 베이즈 분류기\n",
    "  * 다항 나이브 베이즈 분류기"
   ]
  },
  {
   "cell_type": "markdown",
   "metadata": {
    "id": "dJEOfUP7D0W5"
   },
   "source": [
    "## 나이브 베이즈 분류기의 확률 모델\n",
    "\n",
    "* 나이브 베이즈는 조건부 확률 모델\n",
    "* *N*개의 특성을 나타내는 벡터 **x**를 입력 받아 k개의 가능한 확률적 결과를 출력\n",
    "\n",
    "\\begin{equation}\n",
    "p(C_k | x_1,...,x_n)\n",
    "\\end{equation}\n",
    "\n",
    "* 위의 식에 베이즈 정리를 적용하면 다음과 같음\n",
    "\n",
    "\\begin{equation}\n",
    "p(C_k | \\textbf{x}) = \\frac{p(C_k)p(\\textbf{x}|C_k)}{p(\\textbf{x})}\n",
    "\\end{equation}\n",
    "\n",
    "* 위의 식에서 분자만이 출력 값에 영향을 받기 때문에 분모 부분을 상수로 취급할 수 있음\n",
    "\n",
    "\\begin{equation}\n",
    "\\begin{split}\n",
    "p(C_k | \\textbf{x}) & \\propto p(C_k)p(\\textbf{x}|C_k) \\\\\n",
    "& \\propto p(C_k, x_1, ..., x_n)\n",
    "\\end{split}\n",
    "\\end{equation}\n",
    "\n",
    "* 위의 식을 연쇄 법칙을 사용해 다음과 같이 쓸 수 있음\n",
    "\n",
    "\\begin{equation}\n",
    "\\begin{split}\n",
    "p(C_k, x_1, ..., x_n) & = p(C_k)p(x_1, ..., x_n | C_k) \\\\\n",
    "& = p(C_k)p(x_1 | C_k)p(x_2, ..., x_n | C_k, x_1) \\\\\n",
    "& = p(C_k)p(x_1 | C_k)p(x_2 | C_k, x_1)p(x_3, ..., x_n | C_k, x_1, x_2) \\\\\n",
    "& = p(C_k)p(x_1 | C_k)p(x_2 | C_k, x_1)...p(x_n | C_k, x_1, x_2, ..., x_{n-1})\n",
    "\\end{split}\n",
    "\\end{equation}\n",
    "\n",
    "* 나이브 베이즈 분류기는 모든 특성이 독립이라고 가정하기 때문에 위의 식을 다음과 같이 쓸 수 있음\n",
    "\n",
    "\\begin{equation}\n",
    "\\begin{split}\n",
    "p(C_k, x_1, ..., x_n) & \\propto p(C_k)p(x_1|C_k)p(x_2|C_k)...p(x_n|C_k) \\\\\n",
    "& \\propto p(C_k) \\prod_{i=1}^{n} p(x_i|C_k)\n",
    "\\end{split}\n",
    "\\end{equation}\n",
    "\n",
    "* 위의 식을 통해 나온 값들 중 가장 큰 값을 갖는 클래스가 예측 결과\n",
    "\n",
    "\\begin{equation}\n",
    "\\hat{y} = \\underset{k}{\\arg\\max} \\; p(C_k) \\prod_{i=1}^{n} p(x_i|C_k)\n",
    "\\end{equation}"
   ]
  },
  {
   "cell_type": "markdown",
   "metadata": {},
   "source": [
    "- 정수형 또는 실수형: GaussianNB (1, 3, 2), (0.1, 0.9, 1.5)\n",
    "- 정수형: MultinomialNB (1, 3, 2)\n",
    "- 바이너리형: BernoulliNB (0,1,0)\n",
    "- alpha : smoothing"
   ]
  },
  {
   "cell_type": "code",
   "execution_count": 2,
   "metadata": {},
   "outputs": [],
   "source": [
    "weather=['Sunny','Sunny','Overcast','Rainy','Rainy','Rainy','Overcast','Sunny','Sunny',\n",
    "'Rainy','Sunny','Overcast','Overcast','Rainy']\n",
    "temp=['Hot','Hot','Hot','Mild','Cool','Cool','Cool','Mild','Cool','Mild','Mild','Mild','Hot','Mild']\n",
    "play=['No','No','Yes','Yes','Yes','No','Yes','No','Yes','Yes','Yes','Yes','Yes','No']"
   ]
  },
  {
   "cell_type": "code",
   "execution_count": 6,
   "metadata": {
    "collapsed": true
   },
   "outputs": [
    {
     "data": {
      "text/html": [
       "<div>\n",
       "<style scoped>\n",
       "    .dataframe tbody tr th:only-of-type {\n",
       "        vertical-align: middle;\n",
       "    }\n",
       "\n",
       "    .dataframe tbody tr th {\n",
       "        vertical-align: top;\n",
       "    }\n",
       "\n",
       "    .dataframe thead th {\n",
       "        text-align: right;\n",
       "    }\n",
       "</style>\n",
       "<table border=\"1\" class=\"dataframe\">\n",
       "  <thead>\n",
       "    <tr style=\"text-align: right;\">\n",
       "      <th></th>\n",
       "      <th>날씨</th>\n",
       "      <th>온도</th>\n",
       "      <th>외출여부</th>\n",
       "    </tr>\n",
       "  </thead>\n",
       "  <tbody>\n",
       "    <tr>\n",
       "      <th>0</th>\n",
       "      <td>Sunny</td>\n",
       "      <td>Hot</td>\n",
       "      <td>No</td>\n",
       "    </tr>\n",
       "    <tr>\n",
       "      <th>1</th>\n",
       "      <td>Sunny</td>\n",
       "      <td>Hot</td>\n",
       "      <td>No</td>\n",
       "    </tr>\n",
       "    <tr>\n",
       "      <th>2</th>\n",
       "      <td>Overcast</td>\n",
       "      <td>Hot</td>\n",
       "      <td>Yes</td>\n",
       "    </tr>\n",
       "    <tr>\n",
       "      <th>3</th>\n",
       "      <td>Rainy</td>\n",
       "      <td>Mild</td>\n",
       "      <td>Yes</td>\n",
       "    </tr>\n",
       "    <tr>\n",
       "      <th>4</th>\n",
       "      <td>Rainy</td>\n",
       "      <td>Cool</td>\n",
       "      <td>Yes</td>\n",
       "    </tr>\n",
       "    <tr>\n",
       "      <th>5</th>\n",
       "      <td>Rainy</td>\n",
       "      <td>Cool</td>\n",
       "      <td>No</td>\n",
       "    </tr>\n",
       "    <tr>\n",
       "      <th>6</th>\n",
       "      <td>Overcast</td>\n",
       "      <td>Cool</td>\n",
       "      <td>Yes</td>\n",
       "    </tr>\n",
       "    <tr>\n",
       "      <th>7</th>\n",
       "      <td>Sunny</td>\n",
       "      <td>Mild</td>\n",
       "      <td>No</td>\n",
       "    </tr>\n",
       "    <tr>\n",
       "      <th>8</th>\n",
       "      <td>Sunny</td>\n",
       "      <td>Cool</td>\n",
       "      <td>Yes</td>\n",
       "    </tr>\n",
       "    <tr>\n",
       "      <th>9</th>\n",
       "      <td>Rainy</td>\n",
       "      <td>Mild</td>\n",
       "      <td>Yes</td>\n",
       "    </tr>\n",
       "    <tr>\n",
       "      <th>10</th>\n",
       "      <td>Sunny</td>\n",
       "      <td>Mild</td>\n",
       "      <td>Yes</td>\n",
       "    </tr>\n",
       "    <tr>\n",
       "      <th>11</th>\n",
       "      <td>Overcast</td>\n",
       "      <td>Mild</td>\n",
       "      <td>Yes</td>\n",
       "    </tr>\n",
       "    <tr>\n",
       "      <th>12</th>\n",
       "      <td>Overcast</td>\n",
       "      <td>Hot</td>\n",
       "      <td>Yes</td>\n",
       "    </tr>\n",
       "    <tr>\n",
       "      <th>13</th>\n",
       "      <td>Rainy</td>\n",
       "      <td>Mild</td>\n",
       "      <td>No</td>\n",
       "    </tr>\n",
       "  </tbody>\n",
       "</table>\n",
       "</div>"
      ],
      "text/plain": [
       "          날씨    온도 외출여부\n",
       "0      Sunny   Hot   No\n",
       "1      Sunny   Hot   No\n",
       "2   Overcast   Hot  Yes\n",
       "3      Rainy  Mild  Yes\n",
       "4      Rainy  Cool  Yes\n",
       "5      Rainy  Cool   No\n",
       "6   Overcast  Cool  Yes\n",
       "7      Sunny  Mild   No\n",
       "8      Sunny  Cool  Yes\n",
       "9      Rainy  Mild  Yes\n",
       "10     Sunny  Mild  Yes\n",
       "11  Overcast  Mild  Yes\n",
       "12  Overcast   Hot  Yes\n",
       "13     Rainy  Mild   No"
      ]
     },
     "execution_count": 6,
     "metadata": {},
     "output_type": "execute_result"
    }
   ],
   "source": [
    "df = pd.DataFrame( [weather,temp])\n",
    "df = df.T\n",
    "df.columns = ['날씨', '온도']\n",
    "df['외출여부'] = play\n",
    "df"
   ]
  },
  {
   "cell_type": "code",
   "execution_count": 7,
   "metadata": {},
   "outputs": [],
   "source": [
    "x_data = df.iloc[:,:-1]\n",
    "y_data = df.iloc[:,-1]"
   ]
  },
  {
   "cell_type": "code",
   "execution_count": 9,
   "metadata": {},
   "outputs": [],
   "source": [
    "from sklearn.preprocessing import LabelEncoder, OneHotEncoder\n",
    "from sklearn.compose import make_column_transformer"
   ]
  },
  {
   "cell_type": "code",
   "execution_count": 10,
   "metadata": {},
   "outputs": [],
   "source": [
    "ct = make_column_transformer( ( OneHotEncoder(), ['날씨','온도'] ) )"
   ]
  },
  {
   "cell_type": "code",
   "execution_count": 11,
   "metadata": {
    "collapsed": true
   },
   "outputs": [
    {
     "data": {
      "text/plain": [
       "array([[0., 0., 1., 0., 1., 0.],\n",
       "       [0., 0., 1., 0., 1., 0.],\n",
       "       [1., 0., 0., 0., 1., 0.],\n",
       "       [0., 1., 0., 0., 0., 1.],\n",
       "       [0., 1., 0., 1., 0., 0.],\n",
       "       [0., 1., 0., 1., 0., 0.],\n",
       "       [1., 0., 0., 1., 0., 0.],\n",
       "       [0., 0., 1., 0., 0., 1.],\n",
       "       [0., 0., 1., 1., 0., 0.],\n",
       "       [0., 1., 0., 0., 0., 1.],\n",
       "       [0., 0., 1., 0., 0., 1.],\n",
       "       [1., 0., 0., 0., 0., 1.],\n",
       "       [1., 0., 0., 0., 1., 0.],\n",
       "       [0., 1., 0., 0., 0., 1.]])"
      ]
     },
     "execution_count": 11,
     "metadata": {},
     "output_type": "execute_result"
    }
   ],
   "source": [
    "result = ct.fit_transform( df )\n",
    "result"
   ]
  },
  {
   "cell_type": "code",
   "execution_count": 13,
   "metadata": {},
   "outputs": [
    {
     "data": {
      "text/plain": [
       "['onehotencoder__x0_Overcast',\n",
       " 'onehotencoder__x0_Rainy',\n",
       " 'onehotencoder__x0_Sunny',\n",
       " 'onehotencoder__x1_Cool',\n",
       " 'onehotencoder__x1_Hot',\n",
       " 'onehotencoder__x1_Mild']"
      ]
     },
     "execution_count": 13,
     "metadata": {},
     "output_type": "execute_result"
    }
   ],
   "source": [
    "ct.get_feature_names()"
   ]
  },
  {
   "cell_type": "code",
   "execution_count": 14,
   "metadata": {
    "collapsed": true
   },
   "outputs": [
    {
     "data": {
      "text/plain": [
       "Pipeline(memory=None,\n",
       "         steps=[('columntransformer',\n",
       "                 ColumnTransformer(n_jobs=None, remainder='drop',\n",
       "                                   sparse_threshold=0.3,\n",
       "                                   transformer_weights=None,\n",
       "                                   transformers=[('onehotencoder',\n",
       "                                                  OneHotEncoder(categories='auto',\n",
       "                                                                drop=None,\n",
       "                                                                dtype=<class 'numpy.float64'>,\n",
       "                                                                handle_unknown='error',\n",
       "                                                                sparse=True),\n",
       "                                                  ['날씨', '온도'])],\n",
       "                                   verbose=False)),\n",
       "                ('bernoullinb',\n",
       "                 BernoulliNB(alpha=1.0, binarize=0.0, class_prior=None,\n",
       "                             fit_prior=True))],\n",
       "         verbose=False)"
      ]
     },
     "execution_count": 14,
     "metadata": {},
     "output_type": "execute_result"
    }
   ],
   "source": [
    "model_pipe = make_pipeline(  ct, BernoulliNB() )\n",
    "model_pipe.fit( x_data, y_data )"
   ]
  },
  {
   "cell_type": "code",
   "execution_count": 16,
   "metadata": {},
   "outputs": [
    {
     "data": {
      "text/html": [
       "<div>\n",
       "<style scoped>\n",
       "    .dataframe tbody tr th:only-of-type {\n",
       "        vertical-align: middle;\n",
       "    }\n",
       "\n",
       "    .dataframe tbody tr th {\n",
       "        vertical-align: top;\n",
       "    }\n",
       "\n",
       "    .dataframe thead th {\n",
       "        text-align: right;\n",
       "    }\n",
       "</style>\n",
       "<table border=\"1\" class=\"dataframe\">\n",
       "  <thead>\n",
       "    <tr style=\"text-align: right;\">\n",
       "      <th></th>\n",
       "      <th>날씨</th>\n",
       "      <th>온도</th>\n",
       "    </tr>\n",
       "  </thead>\n",
       "  <tbody>\n",
       "    <tr>\n",
       "      <th>0</th>\n",
       "      <td>Sunny</td>\n",
       "      <td>Hot</td>\n",
       "    </tr>\n",
       "  </tbody>\n",
       "</table>\n",
       "</div>"
      ],
      "text/plain": [
       "      날씨   온도\n",
       "0  Sunny  Hot"
      ]
     },
     "execution_count": 16,
     "metadata": {},
     "output_type": "execute_result"
    }
   ],
   "source": [
    "testdf = pd.DataFrame( [['Sunny','Hot']], columns=['날씨', '온도']  )\n",
    "testdf"
   ]
  },
  {
   "cell_type": "code",
   "execution_count": 19,
   "metadata": {},
   "outputs": [
    {
     "data": {
      "text/plain": [
       "array(['No'], dtype='<U3')"
      ]
     },
     "execution_count": 19,
     "metadata": {},
     "output_type": "execute_result"
    }
   ],
   "source": [
    "model_pipe.predict( testdf )"
   ]
  },
  {
   "cell_type": "markdown",
   "metadata": {},
   "source": [
    "## wine 데이터셋 나이브베이즈를 이용하여 test[0] 데이터에 대한 분류를\n",
    "# 출력하고, score 를 구하시요."
   ]
  },
  {
   "cell_type": "code",
   "execution_count": 22,
   "metadata": {},
   "outputs": [
    {
     "name": "stdout",
     "output_type": "stream",
     "text": [
      "{'gaussiannb__var_smoothing': 0.2}\n",
      "[1]\n",
      "0.964875590510804\n"
     ]
    }
   ],
   "source": [
    "wine = load_wine()\n",
    "df = pd.DataFrame(wine.data, columns=wine.feature_names)\n",
    "x_train, x_test, y_train, y_test = train_test_split(wine.data, wine.target, stratify=wine.target, test_size=0.2)\n",
    "model_pipe = make_pipeline( StandardScaler(), GaussianNB())\n",
    "param_grid={\"gaussiannb__var_smoothing\":np.linspace(0.1, 1, 10)}\n",
    "gridS = GridSearchCV(model_pipe, param_grid, scoring='f1_macro')\n",
    "# model_pipe.fit(x_train, y_train)\n",
    "gridS.fit(x_train, y_train)\n",
    "print( gridS.best_params_ )\n",
    "print( gridS.best_estimator_.predict([x_test[0]]) )\n",
    "print( gridS.best_score_ )"
   ]
  },
  {
   "cell_type": "code",
   "execution_count": 23,
   "metadata": {},
   "outputs": [
    {
     "data": {
      "text/plain": [
       "0.9444444444444444"
      ]
     },
     "execution_count": 23,
     "metadata": {},
     "output_type": "execute_result"
    }
   ],
   "source": [
    "wine = load_wine()\n",
    "\n",
    "x_data = wine['data']\n",
    "y_data = wine['target']\n",
    "X_train, X_test, y_train, y_test = train_test_split( x_data, \n",
    "                                                    y_data, \n",
    "                                                    test_size=0.2, \n",
    "                                                    stratify=y_data)\n",
    "y_data #다항분류\n",
    "# 가우시안 \n",
    "model_wine = make_pipeline( StandardScaler(), GaussianNB() )\n",
    "model_wine.fit( X_train, y_train )\n",
    "# 예측\n",
    "model_wine.predict( [X_test[0]] )\n",
    "# 스코어\n",
    "model_wine.score( X_test, y_test )"
   ]
  }
 ],
 "metadata": {
  "kernelspec": {
   "display_name": "Python 3",
   "language": "python",
   "name": "python3"
  },
  "language_info": {
   "codemirror_mode": {
    "name": "ipython",
    "version": 3
   },
   "file_extension": ".py",
   "mimetype": "text/x-python",
   "name": "python",
   "nbconvert_exporter": "python",
   "pygments_lexer": "ipython3",
   "version": "3.7.6"
  }
 },
 "nbformat": 4,
 "nbformat_minor": 4
}
